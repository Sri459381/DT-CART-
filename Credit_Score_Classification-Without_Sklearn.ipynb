{
 "cells": [
  {
   "cell_type": "markdown",
   "id": "0fea14fa",
   "metadata": {},
   "source": [
    "# Problem Statement"
   ]
  },
  {
   "cell_type": "markdown",
   "id": "624bda72",
   "metadata": {},
   "source": [
    "we are working as a data scientist in a global finance company. Over the years, the company has collected basic bank details and gathered a lot of credit-related information. The management wants to build an intelligent system to segregate the people into credit score brackets to reduce the manual efforts.\n",
    "\n",
    "Task\n",
    "Given a person’s credit-related information, build a machine learning model that can classify the credit score.\n",
    "\n",
    "Content:\n",
    "    \n",
    "ID: Represents a unique identification of an entry\n",
    "\n",
    "Customer_ID: Represents a unique identification of a person\n",
    "\n",
    "Month: Represents the month of the year\n",
    "\n",
    "Name: Represents the name of a person\n",
    "\n",
    "Age: Represents the age of the person\n",
    "\n",
    "SSN: social security number of a person and it is a nine-digit identification number that is issued by the Social Security Administration (SSA) to U.S. citizens, permanent residents, and some temporary residents.\n",
    "\n",
    "here first three digits of the SSN are known as the \"Area Number,\" which reflects the geographical region in which the SSN was issued.\n",
    "The next two digits, known as the \"Group Number,\" reflect the order in which SSNs were issued within a particular area.\n",
    "The last four digits are known as the \"Serial Number\" and are assigned sequentially.\n",
    "Occupation: Represents the occupation of the person\n",
    "\n",
    "Annual_Income: Represents the annual income of the person\n",
    "\n",
    "Monthly_Inhand_Salary: Represents the monthly base salary of a person\n",
    "\n",
    "Num_Bank_Accounts: Represents the number of bank accounts a person holds\n",
    "\n",
    "Num_Credit_Card: Represents the number of other credit cards held by a person\n",
    "Interest_Rate: Represents the interest rate on credit card\n",
    "\n",
    "Num_of_Loan: Represents the number of loans taken from the bank\n",
    "\n",
    "Type_of_Loan: Represents the types of loan taken by a person\n",
    "\n",
    "Delay_from_due_date: Represents the average number of days delayed from the payment date\n",
    "\n",
    "Num_of_Delayed_Payment: Represents the average number of payments delayed by a person\n",
    "\n",
    "Changed_Credit_Limit: Represents the percentage change in credit card limit\n",
    "\n",
    "Num_Credit_Inquiries: Represents the number of credit card inquiries\n",
    "Credit_Mix: Represents the classification of the mix of credits\n",
    "\n",
    "Outstanding_Debt: Represents the remaining debt to be paid (in USD)\n",
    "\n",
    "Credit_Utilization_Ratio: Represents the utilization ratio of credit card\n",
    "\n",
    "Credit_History_Age: Represents the age of credit history of the person\n",
    "\n",
    "Payment_of_Min_Amount: Represents whether only the minimum amount was paid by the person\n",
    "\n",
    "Total_EMI_per_month: Represents the monthly EMI payments (in USD)\n",
    "\n",
    "Amount_invested_monthly: Represents the monthly amount invested by the customer (in USD)\n",
    "\n",
    "Payment_Behaviour: Represents the payment behavior of the customer (in USD)\n",
    "\n",
    "Monthly_Balance: Represents the monthly balance amount of the customer (in USD)\n",
    "\n",
    "Credit_Score: Represents the bracket of credit score (Poor, Standard, Good) - Target column"
   ]
  },
  {
   "cell_type": "markdown",
   "id": "63f162cc",
   "metadata": {},
   "source": [
    "# Kaggle Link"
   ]
  },
  {
   "cell_type": "markdown",
   "id": "633732f3",
   "metadata": {},
   "source": [
    "# https://www.kaggle.com/datasets/parisrohan/credit-score-classification?select=train.csv"
   ]
  },
  {
   "cell_type": "markdown",
   "id": "6ae37246",
   "metadata": {},
   "source": [
    "# Importing Libraries"
   ]
  },
  {
   "cell_type": "code",
   "execution_count": 1,
   "id": "189ebb7f",
   "metadata": {},
   "outputs": [],
   "source": [
    "import numpy as np\n",
    "import pandas as pd\n",
    "import matplotlib.pyplot as plt\n",
    "import seaborn as sns\n",
    "from scipy import stats"
   ]
  },
  {
   "cell_type": "markdown",
   "id": "71252290",
   "metadata": {},
   "source": [
    "# Read the Data"
   ]
  },
  {
   "cell_type": "code",
   "execution_count": 2,
   "id": "672e5fbf",
   "metadata": {},
   "outputs": [],
   "source": [
    "train_df = pd.read_csv(\"train.csv\",low_memory=False)\n",
    "test_df = pd.read_csv(\"test.csv\",low_memory=False)"
   ]
  },
  {
   "cell_type": "markdown",
   "id": "1ec34f72",
   "metadata": {},
   "source": [
    "# Exploring the data"
   ]
  },
  {
   "cell_type": "code",
   "execution_count": 3,
   "id": "cd3f10a0",
   "metadata": {},
   "outputs": [
    {
     "data": {
      "text/plain": [
       "(100000, 28)"
      ]
     },
     "execution_count": 3,
     "metadata": {},
     "output_type": "execute_result"
    }
   ],
   "source": [
    "train_df.shape"
   ]
  },
  {
   "cell_type": "code",
   "execution_count": 4,
   "id": "482551e6",
   "metadata": {},
   "outputs": [
    {
     "data": {
      "text/plain": [
       "(50000, 27)"
      ]
     },
     "execution_count": 4,
     "metadata": {},
     "output_type": "execute_result"
    }
   ],
   "source": [
    "test_df.shape"
   ]
  },
  {
   "cell_type": "code",
   "execution_count": 5,
   "id": "eb008313",
   "metadata": {},
   "outputs": [
    {
     "data": {
      "text/html": [
       "<div>\n",
       "<style scoped>\n",
       "    .dataframe tbody tr th:only-of-type {\n",
       "        vertical-align: middle;\n",
       "    }\n",
       "\n",
       "    .dataframe tbody tr th {\n",
       "        vertical-align: top;\n",
       "    }\n",
       "\n",
       "    .dataframe thead th {\n",
       "        text-align: right;\n",
       "    }\n",
       "</style>\n",
       "<table border=\"1\" class=\"dataframe\">\n",
       "  <thead>\n",
       "    <tr style=\"text-align: right;\">\n",
       "      <th></th>\n",
       "      <th>ID</th>\n",
       "      <th>Customer_ID</th>\n",
       "      <th>Month</th>\n",
       "      <th>Name</th>\n",
       "      <th>Age</th>\n",
       "      <th>SSN</th>\n",
       "      <th>Occupation</th>\n",
       "      <th>Annual_Income</th>\n",
       "      <th>Monthly_Inhand_Salary</th>\n",
       "      <th>Num_Bank_Accounts</th>\n",
       "      <th>...</th>\n",
       "      <th>Credit_Mix</th>\n",
       "      <th>Outstanding_Debt</th>\n",
       "      <th>Credit_Utilization_Ratio</th>\n",
       "      <th>Credit_History_Age</th>\n",
       "      <th>Payment_of_Min_Amount</th>\n",
       "      <th>Total_EMI_per_month</th>\n",
       "      <th>Amount_invested_monthly</th>\n",
       "      <th>Payment_Behaviour</th>\n",
       "      <th>Monthly_Balance</th>\n",
       "      <th>Credit_Score</th>\n",
       "    </tr>\n",
       "  </thead>\n",
       "  <tbody>\n",
       "    <tr>\n",
       "      <th>0</th>\n",
       "      <td>0x1602</td>\n",
       "      <td>CUS_0xd40</td>\n",
       "      <td>January</td>\n",
       "      <td>Aaron Maashoh</td>\n",
       "      <td>23</td>\n",
       "      <td>821-00-0265</td>\n",
       "      <td>Scientist</td>\n",
       "      <td>19114.12</td>\n",
       "      <td>1824.843333</td>\n",
       "      <td>3</td>\n",
       "      <td>...</td>\n",
       "      <td>_</td>\n",
       "      <td>809.98</td>\n",
       "      <td>26.822620</td>\n",
       "      <td>22 Years and 1 Months</td>\n",
       "      <td>No</td>\n",
       "      <td>49.574949</td>\n",
       "      <td>80.41529544</td>\n",
       "      <td>High_spent_Small_value_payments</td>\n",
       "      <td>312.4940887</td>\n",
       "      <td>Good</td>\n",
       "    </tr>\n",
       "    <tr>\n",
       "      <th>1</th>\n",
       "      <td>0x1603</td>\n",
       "      <td>CUS_0xd40</td>\n",
       "      <td>February</td>\n",
       "      <td>Aaron Maashoh</td>\n",
       "      <td>23</td>\n",
       "      <td>821-00-0265</td>\n",
       "      <td>Scientist</td>\n",
       "      <td>19114.12</td>\n",
       "      <td>NaN</td>\n",
       "      <td>3</td>\n",
       "      <td>...</td>\n",
       "      <td>Good</td>\n",
       "      <td>809.98</td>\n",
       "      <td>31.944960</td>\n",
       "      <td>NaN</td>\n",
       "      <td>No</td>\n",
       "      <td>49.574949</td>\n",
       "      <td>118.2802216</td>\n",
       "      <td>Low_spent_Large_value_payments</td>\n",
       "      <td>284.6291625</td>\n",
       "      <td>Good</td>\n",
       "    </tr>\n",
       "    <tr>\n",
       "      <th>2</th>\n",
       "      <td>0x1604</td>\n",
       "      <td>CUS_0xd40</td>\n",
       "      <td>March</td>\n",
       "      <td>Aaron Maashoh</td>\n",
       "      <td>-500</td>\n",
       "      <td>821-00-0265</td>\n",
       "      <td>Scientist</td>\n",
       "      <td>19114.12</td>\n",
       "      <td>NaN</td>\n",
       "      <td>3</td>\n",
       "      <td>...</td>\n",
       "      <td>Good</td>\n",
       "      <td>809.98</td>\n",
       "      <td>28.609352</td>\n",
       "      <td>22 Years and 3 Months</td>\n",
       "      <td>No</td>\n",
       "      <td>49.574949</td>\n",
       "      <td>81.69952126</td>\n",
       "      <td>Low_spent_Medium_value_payments</td>\n",
       "      <td>331.2098629</td>\n",
       "      <td>Good</td>\n",
       "    </tr>\n",
       "    <tr>\n",
       "      <th>3</th>\n",
       "      <td>0x1605</td>\n",
       "      <td>CUS_0xd40</td>\n",
       "      <td>April</td>\n",
       "      <td>Aaron Maashoh</td>\n",
       "      <td>23</td>\n",
       "      <td>821-00-0265</td>\n",
       "      <td>Scientist</td>\n",
       "      <td>19114.12</td>\n",
       "      <td>NaN</td>\n",
       "      <td>3</td>\n",
       "      <td>...</td>\n",
       "      <td>Good</td>\n",
       "      <td>809.98</td>\n",
       "      <td>31.377862</td>\n",
       "      <td>22 Years and 4 Months</td>\n",
       "      <td>No</td>\n",
       "      <td>49.574949</td>\n",
       "      <td>199.4580744</td>\n",
       "      <td>Low_spent_Small_value_payments</td>\n",
       "      <td>223.4513097</td>\n",
       "      <td>Good</td>\n",
       "    </tr>\n",
       "    <tr>\n",
       "      <th>4</th>\n",
       "      <td>0x1606</td>\n",
       "      <td>CUS_0xd40</td>\n",
       "      <td>May</td>\n",
       "      <td>Aaron Maashoh</td>\n",
       "      <td>23</td>\n",
       "      <td>821-00-0265</td>\n",
       "      <td>Scientist</td>\n",
       "      <td>19114.12</td>\n",
       "      <td>1824.843333</td>\n",
       "      <td>3</td>\n",
       "      <td>...</td>\n",
       "      <td>Good</td>\n",
       "      <td>809.98</td>\n",
       "      <td>24.797347</td>\n",
       "      <td>22 Years and 5 Months</td>\n",
       "      <td>No</td>\n",
       "      <td>49.574949</td>\n",
       "      <td>41.42015309</td>\n",
       "      <td>High_spent_Medium_value_payments</td>\n",
       "      <td>341.489231</td>\n",
       "      <td>Good</td>\n",
       "    </tr>\n",
       "  </tbody>\n",
       "</table>\n",
       "<p>5 rows × 28 columns</p>\n",
       "</div>"
      ],
      "text/plain": [
       "       ID Customer_ID     Month           Name   Age          SSN Occupation  \\\n",
       "0  0x1602   CUS_0xd40   January  Aaron Maashoh    23  821-00-0265  Scientist   \n",
       "1  0x1603   CUS_0xd40  February  Aaron Maashoh    23  821-00-0265  Scientist   \n",
       "2  0x1604   CUS_0xd40     March  Aaron Maashoh  -500  821-00-0265  Scientist   \n",
       "3  0x1605   CUS_0xd40     April  Aaron Maashoh    23  821-00-0265  Scientist   \n",
       "4  0x1606   CUS_0xd40       May  Aaron Maashoh    23  821-00-0265  Scientist   \n",
       "\n",
       "  Annual_Income  Monthly_Inhand_Salary  Num_Bank_Accounts  ...  Credit_Mix  \\\n",
       "0      19114.12            1824.843333                  3  ...           _   \n",
       "1      19114.12                    NaN                  3  ...        Good   \n",
       "2      19114.12                    NaN                  3  ...        Good   \n",
       "3      19114.12                    NaN                  3  ...        Good   \n",
       "4      19114.12            1824.843333                  3  ...        Good   \n",
       "\n",
       "   Outstanding_Debt Credit_Utilization_Ratio     Credit_History_Age  \\\n",
       "0            809.98                26.822620  22 Years and 1 Months   \n",
       "1            809.98                31.944960                    NaN   \n",
       "2            809.98                28.609352  22 Years and 3 Months   \n",
       "3            809.98                31.377862  22 Years and 4 Months   \n",
       "4            809.98                24.797347  22 Years and 5 Months   \n",
       "\n",
       "   Payment_of_Min_Amount Total_EMI_per_month Amount_invested_monthly  \\\n",
       "0                     No           49.574949             80.41529544   \n",
       "1                     No           49.574949             118.2802216   \n",
       "2                     No           49.574949             81.69952126   \n",
       "3                     No           49.574949             199.4580744   \n",
       "4                     No           49.574949             41.42015309   \n",
       "\n",
       "                  Payment_Behaviour Monthly_Balance Credit_Score  \n",
       "0   High_spent_Small_value_payments     312.4940887         Good  \n",
       "1    Low_spent_Large_value_payments     284.6291625         Good  \n",
       "2   Low_spent_Medium_value_payments     331.2098629         Good  \n",
       "3    Low_spent_Small_value_payments     223.4513097         Good  \n",
       "4  High_spent_Medium_value_payments      341.489231         Good  \n",
       "\n",
       "[5 rows x 28 columns]"
      ]
     },
     "execution_count": 5,
     "metadata": {},
     "output_type": "execute_result"
    }
   ],
   "source": [
    "train_df.head()"
   ]
  },
  {
   "cell_type": "code",
   "execution_count": 6,
   "id": "5158c578",
   "metadata": {},
   "outputs": [
    {
     "data": {
      "text/html": [
       "<div>\n",
       "<style scoped>\n",
       "    .dataframe tbody tr th:only-of-type {\n",
       "        vertical-align: middle;\n",
       "    }\n",
       "\n",
       "    .dataframe tbody tr th {\n",
       "        vertical-align: top;\n",
       "    }\n",
       "\n",
       "    .dataframe thead th {\n",
       "        text-align: right;\n",
       "    }\n",
       "</style>\n",
       "<table border=\"1\" class=\"dataframe\">\n",
       "  <thead>\n",
       "    <tr style=\"text-align: right;\">\n",
       "      <th></th>\n",
       "      <th>ID</th>\n",
       "      <th>Customer_ID</th>\n",
       "      <th>Month</th>\n",
       "      <th>Name</th>\n",
       "      <th>Age</th>\n",
       "      <th>SSN</th>\n",
       "      <th>Occupation</th>\n",
       "      <th>Annual_Income</th>\n",
       "      <th>Monthly_Inhand_Salary</th>\n",
       "      <th>Num_Bank_Accounts</th>\n",
       "      <th>...</th>\n",
       "      <th>Num_Credit_Inquiries</th>\n",
       "      <th>Credit_Mix</th>\n",
       "      <th>Outstanding_Debt</th>\n",
       "      <th>Credit_Utilization_Ratio</th>\n",
       "      <th>Credit_History_Age</th>\n",
       "      <th>Payment_of_Min_Amount</th>\n",
       "      <th>Total_EMI_per_month</th>\n",
       "      <th>Amount_invested_monthly</th>\n",
       "      <th>Payment_Behaviour</th>\n",
       "      <th>Monthly_Balance</th>\n",
       "    </tr>\n",
       "  </thead>\n",
       "  <tbody>\n",
       "    <tr>\n",
       "      <th>0</th>\n",
       "      <td>0x160a</td>\n",
       "      <td>CUS_0xd40</td>\n",
       "      <td>September</td>\n",
       "      <td>Aaron Maashoh</td>\n",
       "      <td>23</td>\n",
       "      <td>821-00-0265</td>\n",
       "      <td>Scientist</td>\n",
       "      <td>19114.12</td>\n",
       "      <td>1824.843333</td>\n",
       "      <td>3</td>\n",
       "      <td>...</td>\n",
       "      <td>2022.0</td>\n",
       "      <td>Good</td>\n",
       "      <td>809.98</td>\n",
       "      <td>35.030402</td>\n",
       "      <td>22 Years and 9 Months</td>\n",
       "      <td>No</td>\n",
       "      <td>49.574949</td>\n",
       "      <td>236.64268203272135</td>\n",
       "      <td>Low_spent_Small_value_payments</td>\n",
       "      <td>186.26670208571772</td>\n",
       "    </tr>\n",
       "    <tr>\n",
       "      <th>1</th>\n",
       "      <td>0x160b</td>\n",
       "      <td>CUS_0xd40</td>\n",
       "      <td>October</td>\n",
       "      <td>Aaron Maashoh</td>\n",
       "      <td>24</td>\n",
       "      <td>821-00-0265</td>\n",
       "      <td>Scientist</td>\n",
       "      <td>19114.12</td>\n",
       "      <td>1824.843333</td>\n",
       "      <td>3</td>\n",
       "      <td>...</td>\n",
       "      <td>4.0</td>\n",
       "      <td>Good</td>\n",
       "      <td>809.98</td>\n",
       "      <td>33.053114</td>\n",
       "      <td>22 Years and 10 Months</td>\n",
       "      <td>No</td>\n",
       "      <td>49.574949</td>\n",
       "      <td>21.465380264657146</td>\n",
       "      <td>High_spent_Medium_value_payments</td>\n",
       "      <td>361.44400385378196</td>\n",
       "    </tr>\n",
       "    <tr>\n",
       "      <th>2</th>\n",
       "      <td>0x160c</td>\n",
       "      <td>CUS_0xd40</td>\n",
       "      <td>November</td>\n",
       "      <td>Aaron Maashoh</td>\n",
       "      <td>24</td>\n",
       "      <td>821-00-0265</td>\n",
       "      <td>Scientist</td>\n",
       "      <td>19114.12</td>\n",
       "      <td>1824.843333</td>\n",
       "      <td>3</td>\n",
       "      <td>...</td>\n",
       "      <td>4.0</td>\n",
       "      <td>Good</td>\n",
       "      <td>809.98</td>\n",
       "      <td>33.811894</td>\n",
       "      <td>NaN</td>\n",
       "      <td>No</td>\n",
       "      <td>49.574949</td>\n",
       "      <td>148.23393788500925</td>\n",
       "      <td>Low_spent_Medium_value_payments</td>\n",
       "      <td>264.67544623342997</td>\n",
       "    </tr>\n",
       "    <tr>\n",
       "      <th>3</th>\n",
       "      <td>0x160d</td>\n",
       "      <td>CUS_0xd40</td>\n",
       "      <td>December</td>\n",
       "      <td>Aaron Maashoh</td>\n",
       "      <td>24_</td>\n",
       "      <td>821-00-0265</td>\n",
       "      <td>Scientist</td>\n",
       "      <td>19114.12</td>\n",
       "      <td>NaN</td>\n",
       "      <td>3</td>\n",
       "      <td>...</td>\n",
       "      <td>4.0</td>\n",
       "      <td>Good</td>\n",
       "      <td>809.98</td>\n",
       "      <td>32.430559</td>\n",
       "      <td>23 Years and 0 Months</td>\n",
       "      <td>No</td>\n",
       "      <td>49.574949</td>\n",
       "      <td>39.08251089460281</td>\n",
       "      <td>High_spent_Medium_value_payments</td>\n",
       "      <td>343.82687322383634</td>\n",
       "    </tr>\n",
       "    <tr>\n",
       "      <th>4</th>\n",
       "      <td>0x1616</td>\n",
       "      <td>CUS_0x21b1</td>\n",
       "      <td>September</td>\n",
       "      <td>Rick Rothackerj</td>\n",
       "      <td>28</td>\n",
       "      <td>004-07-5839</td>\n",
       "      <td>_______</td>\n",
       "      <td>34847.84</td>\n",
       "      <td>3037.986667</td>\n",
       "      <td>2</td>\n",
       "      <td>...</td>\n",
       "      <td>5.0</td>\n",
       "      <td>Good</td>\n",
       "      <td>605.03</td>\n",
       "      <td>25.926822</td>\n",
       "      <td>27 Years and 3 Months</td>\n",
       "      <td>No</td>\n",
       "      <td>18.816215</td>\n",
       "      <td>39.684018417945296</td>\n",
       "      <td>High_spent_Large_value_payments</td>\n",
       "      <td>485.2984336755923</td>\n",
       "    </tr>\n",
       "  </tbody>\n",
       "</table>\n",
       "<p>5 rows × 27 columns</p>\n",
       "</div>"
      ],
      "text/plain": [
       "       ID Customer_ID      Month             Name  Age          SSN  \\\n",
       "0  0x160a   CUS_0xd40  September    Aaron Maashoh   23  821-00-0265   \n",
       "1  0x160b   CUS_0xd40    October    Aaron Maashoh   24  821-00-0265   \n",
       "2  0x160c   CUS_0xd40   November    Aaron Maashoh   24  821-00-0265   \n",
       "3  0x160d   CUS_0xd40   December    Aaron Maashoh  24_  821-00-0265   \n",
       "4  0x1616  CUS_0x21b1  September  Rick Rothackerj   28  004-07-5839   \n",
       "\n",
       "  Occupation Annual_Income  Monthly_Inhand_Salary  Num_Bank_Accounts  ...  \\\n",
       "0  Scientist      19114.12            1824.843333                  3  ...   \n",
       "1  Scientist      19114.12            1824.843333                  3  ...   \n",
       "2  Scientist      19114.12            1824.843333                  3  ...   \n",
       "3  Scientist      19114.12                    NaN                  3  ...   \n",
       "4    _______      34847.84            3037.986667                  2  ...   \n",
       "\n",
       "   Num_Credit_Inquiries  Credit_Mix Outstanding_Debt Credit_Utilization_Ratio  \\\n",
       "0                2022.0        Good           809.98                35.030402   \n",
       "1                   4.0        Good           809.98                33.053114   \n",
       "2                   4.0        Good           809.98                33.811894   \n",
       "3                   4.0        Good           809.98                32.430559   \n",
       "4                   5.0        Good           605.03                25.926822   \n",
       "\n",
       "       Credit_History_Age Payment_of_Min_Amount Total_EMI_per_month  \\\n",
       "0   22 Years and 9 Months                    No           49.574949   \n",
       "1  22 Years and 10 Months                    No           49.574949   \n",
       "2                     NaN                    No           49.574949   \n",
       "3   23 Years and 0 Months                    No           49.574949   \n",
       "4   27 Years and 3 Months                    No           18.816215   \n",
       "\n",
       "   Amount_invested_monthly                 Payment_Behaviour  \\\n",
       "0       236.64268203272135    Low_spent_Small_value_payments   \n",
       "1       21.465380264657146  High_spent_Medium_value_payments   \n",
       "2       148.23393788500925   Low_spent_Medium_value_payments   \n",
       "3        39.08251089460281  High_spent_Medium_value_payments   \n",
       "4       39.684018417945296   High_spent_Large_value_payments   \n",
       "\n",
       "      Monthly_Balance  \n",
       "0  186.26670208571772  \n",
       "1  361.44400385378196  \n",
       "2  264.67544623342997  \n",
       "3  343.82687322383634  \n",
       "4   485.2984336755923  \n",
       "\n",
       "[5 rows x 27 columns]"
      ]
     },
     "execution_count": 6,
     "metadata": {},
     "output_type": "execute_result"
    }
   ],
   "source": [
    "test_df.head()"
   ]
  },
  {
   "cell_type": "code",
   "execution_count": 7,
   "id": "0a977e46",
   "metadata": {},
   "outputs": [
    {
     "name": "stdout",
     "output_type": "stream",
     "text": [
      "<class 'pandas.core.frame.DataFrame'>\n",
      "RangeIndex: 100000 entries, 0 to 99999\n",
      "Data columns (total 28 columns):\n",
      " #   Column                    Non-Null Count   Dtype  \n",
      "---  ------                    --------------   -----  \n",
      " 0   ID                        100000 non-null  object \n",
      " 1   Customer_ID               100000 non-null  object \n",
      " 2   Month                     100000 non-null  object \n",
      " 3   Name                      90015 non-null   object \n",
      " 4   Age                       100000 non-null  object \n",
      " 5   SSN                       100000 non-null  object \n",
      " 6   Occupation                100000 non-null  object \n",
      " 7   Annual_Income             100000 non-null  object \n",
      " 8   Monthly_Inhand_Salary     84998 non-null   float64\n",
      " 9   Num_Bank_Accounts         100000 non-null  int64  \n",
      " 10  Num_Credit_Card           100000 non-null  int64  \n",
      " 11  Interest_Rate             100000 non-null  int64  \n",
      " 12  Num_of_Loan               100000 non-null  object \n",
      " 13  Type_of_Loan              88592 non-null   object \n",
      " 14  Delay_from_due_date       100000 non-null  int64  \n",
      " 15  Num_of_Delayed_Payment    92998 non-null   object \n",
      " 16  Changed_Credit_Limit      100000 non-null  object \n",
      " 17  Num_Credit_Inquiries      98035 non-null   float64\n",
      " 18  Credit_Mix                100000 non-null  object \n",
      " 19  Outstanding_Debt          100000 non-null  object \n",
      " 20  Credit_Utilization_Ratio  100000 non-null  float64\n",
      " 21  Credit_History_Age        90970 non-null   object \n",
      " 22  Payment_of_Min_Amount     100000 non-null  object \n",
      " 23  Total_EMI_per_month       100000 non-null  float64\n",
      " 24  Amount_invested_monthly   95521 non-null   object \n",
      " 25  Payment_Behaviour         100000 non-null  object \n",
      " 26  Monthly_Balance           98800 non-null   object \n",
      " 27  Credit_Score              100000 non-null  object \n",
      "dtypes: float64(4), int64(4), object(20)\n",
      "memory usage: 21.4+ MB\n"
     ]
    }
   ],
   "source": [
    "train_df.info()"
   ]
  },
  {
   "cell_type": "code",
   "execution_count": 8,
   "id": "93363860",
   "metadata": {},
   "outputs": [
    {
     "data": {
      "text/plain": [
       "Index(['ID', 'Customer_ID', 'Month', 'Name', 'Age', 'SSN', 'Occupation',\n",
       "       'Annual_Income', 'Monthly_Inhand_Salary', 'Num_Bank_Accounts',\n",
       "       'Num_Credit_Card', 'Interest_Rate', 'Num_of_Loan', 'Type_of_Loan',\n",
       "       'Delay_from_due_date', 'Num_of_Delayed_Payment', 'Changed_Credit_Limit',\n",
       "       'Num_Credit_Inquiries', 'Credit_Mix', 'Outstanding_Debt',\n",
       "       'Credit_Utilization_Ratio', 'Credit_History_Age',\n",
       "       'Payment_of_Min_Amount', 'Total_EMI_per_month',\n",
       "       'Amount_invested_monthly', 'Payment_Behaviour', 'Monthly_Balance',\n",
       "       'Credit_Score'],\n",
       "      dtype='object')"
      ]
     },
     "execution_count": 8,
     "metadata": {},
     "output_type": "execute_result"
    }
   ],
   "source": [
    "train_df.columns"
   ]
  },
  {
   "cell_type": "code",
   "execution_count": 9,
   "id": "65d90e36",
   "metadata": {},
   "outputs": [
    {
     "data": {
      "text/html": [
       "<div>\n",
       "<style scoped>\n",
       "    .dataframe tbody tr th:only-of-type {\n",
       "        vertical-align: middle;\n",
       "    }\n",
       "\n",
       "    .dataframe tbody tr th {\n",
       "        vertical-align: top;\n",
       "    }\n",
       "\n",
       "    .dataframe thead th {\n",
       "        text-align: right;\n",
       "    }\n",
       "</style>\n",
       "<table border=\"1\" class=\"dataframe\">\n",
       "  <thead>\n",
       "    <tr style=\"text-align: right;\">\n",
       "      <th></th>\n",
       "      <th>Monthly_Inhand_Salary</th>\n",
       "      <th>Num_Bank_Accounts</th>\n",
       "      <th>Num_Credit_Card</th>\n",
       "      <th>Interest_Rate</th>\n",
       "      <th>Delay_from_due_date</th>\n",
       "      <th>Num_Credit_Inquiries</th>\n",
       "      <th>Credit_Utilization_Ratio</th>\n",
       "      <th>Total_EMI_per_month</th>\n",
       "    </tr>\n",
       "  </thead>\n",
       "  <tbody>\n",
       "    <tr>\n",
       "      <th>count</th>\n",
       "      <td>84998.000000</td>\n",
       "      <td>100000.000000</td>\n",
       "      <td>100000.00000</td>\n",
       "      <td>100000.000000</td>\n",
       "      <td>100000.000000</td>\n",
       "      <td>98035.000000</td>\n",
       "      <td>100000.000000</td>\n",
       "      <td>100000.000000</td>\n",
       "    </tr>\n",
       "    <tr>\n",
       "      <th>mean</th>\n",
       "      <td>4194.170850</td>\n",
       "      <td>17.091280</td>\n",
       "      <td>22.47443</td>\n",
       "      <td>72.466040</td>\n",
       "      <td>21.068780</td>\n",
       "      <td>27.754251</td>\n",
       "      <td>32.285173</td>\n",
       "      <td>1403.118217</td>\n",
       "    </tr>\n",
       "    <tr>\n",
       "      <th>std</th>\n",
       "      <td>3183.686167</td>\n",
       "      <td>117.404834</td>\n",
       "      <td>129.05741</td>\n",
       "      <td>466.422621</td>\n",
       "      <td>14.860104</td>\n",
       "      <td>193.177339</td>\n",
       "      <td>5.116875</td>\n",
       "      <td>8306.041270</td>\n",
       "    </tr>\n",
       "    <tr>\n",
       "      <th>min</th>\n",
       "      <td>303.645417</td>\n",
       "      <td>-1.000000</td>\n",
       "      <td>0.00000</td>\n",
       "      <td>1.000000</td>\n",
       "      <td>-5.000000</td>\n",
       "      <td>0.000000</td>\n",
       "      <td>20.000000</td>\n",
       "      <td>0.000000</td>\n",
       "    </tr>\n",
       "    <tr>\n",
       "      <th>25%</th>\n",
       "      <td>1625.568229</td>\n",
       "      <td>3.000000</td>\n",
       "      <td>4.00000</td>\n",
       "      <td>8.000000</td>\n",
       "      <td>10.000000</td>\n",
       "      <td>3.000000</td>\n",
       "      <td>28.052567</td>\n",
       "      <td>30.306660</td>\n",
       "    </tr>\n",
       "    <tr>\n",
       "      <th>50%</th>\n",
       "      <td>3093.745000</td>\n",
       "      <td>6.000000</td>\n",
       "      <td>5.00000</td>\n",
       "      <td>13.000000</td>\n",
       "      <td>18.000000</td>\n",
       "      <td>6.000000</td>\n",
       "      <td>32.305784</td>\n",
       "      <td>69.249473</td>\n",
       "    </tr>\n",
       "    <tr>\n",
       "      <th>75%</th>\n",
       "      <td>5957.448333</td>\n",
       "      <td>7.000000</td>\n",
       "      <td>7.00000</td>\n",
       "      <td>20.000000</td>\n",
       "      <td>28.000000</td>\n",
       "      <td>9.000000</td>\n",
       "      <td>36.496663</td>\n",
       "      <td>161.224249</td>\n",
       "    </tr>\n",
       "    <tr>\n",
       "      <th>max</th>\n",
       "      <td>15204.633330</td>\n",
       "      <td>1798.000000</td>\n",
       "      <td>1499.00000</td>\n",
       "      <td>5797.000000</td>\n",
       "      <td>67.000000</td>\n",
       "      <td>2597.000000</td>\n",
       "      <td>50.000000</td>\n",
       "      <td>82331.000000</td>\n",
       "    </tr>\n",
       "  </tbody>\n",
       "</table>\n",
       "</div>"
      ],
      "text/plain": [
       "       Monthly_Inhand_Salary  Num_Bank_Accounts  Num_Credit_Card  \\\n",
       "count           84998.000000      100000.000000     100000.00000   \n",
       "mean             4194.170850          17.091280         22.47443   \n",
       "std              3183.686167         117.404834        129.05741   \n",
       "min               303.645417          -1.000000          0.00000   \n",
       "25%              1625.568229           3.000000          4.00000   \n",
       "50%              3093.745000           6.000000          5.00000   \n",
       "75%              5957.448333           7.000000          7.00000   \n",
       "max             15204.633330        1798.000000       1499.00000   \n",
       "\n",
       "       Interest_Rate  Delay_from_due_date  Num_Credit_Inquiries  \\\n",
       "count  100000.000000        100000.000000          98035.000000   \n",
       "mean       72.466040            21.068780             27.754251   \n",
       "std       466.422621            14.860104            193.177339   \n",
       "min         1.000000            -5.000000              0.000000   \n",
       "25%         8.000000            10.000000              3.000000   \n",
       "50%        13.000000            18.000000              6.000000   \n",
       "75%        20.000000            28.000000              9.000000   \n",
       "max      5797.000000            67.000000           2597.000000   \n",
       "\n",
       "       Credit_Utilization_Ratio  Total_EMI_per_month  \n",
       "count             100000.000000        100000.000000  \n",
       "mean                  32.285173          1403.118217  \n",
       "std                    5.116875          8306.041270  \n",
       "min                   20.000000             0.000000  \n",
       "25%                   28.052567            30.306660  \n",
       "50%                   32.305784            69.249473  \n",
       "75%                   36.496663           161.224249  \n",
       "max                   50.000000         82331.000000  "
      ]
     },
     "execution_count": 9,
     "metadata": {},
     "output_type": "execute_result"
    }
   ],
   "source": [
    "train_df.describe()"
   ]
  },
  {
   "cell_type": "code",
   "execution_count": 10,
   "id": "d1fc89ef",
   "metadata": {},
   "outputs": [
    {
     "data": {
      "text/html": [
       "<div>\n",
       "<style scoped>\n",
       "    .dataframe tbody tr th:only-of-type {\n",
       "        vertical-align: middle;\n",
       "    }\n",
       "\n",
       "    .dataframe tbody tr th {\n",
       "        vertical-align: top;\n",
       "    }\n",
       "\n",
       "    .dataframe thead th {\n",
       "        text-align: right;\n",
       "    }\n",
       "</style>\n",
       "<table border=\"1\" class=\"dataframe\">\n",
       "  <thead>\n",
       "    <tr style=\"text-align: right;\">\n",
       "      <th></th>\n",
       "      <th>ID</th>\n",
       "      <th>Customer_ID</th>\n",
       "      <th>Month</th>\n",
       "      <th>Name</th>\n",
       "      <th>Age</th>\n",
       "      <th>SSN</th>\n",
       "      <th>Occupation</th>\n",
       "      <th>Annual_Income</th>\n",
       "      <th>Num_of_Loan</th>\n",
       "      <th>Type_of_Loan</th>\n",
       "      <th>Num_of_Delayed_Payment</th>\n",
       "      <th>Changed_Credit_Limit</th>\n",
       "      <th>Credit_Mix</th>\n",
       "      <th>Outstanding_Debt</th>\n",
       "      <th>Credit_History_Age</th>\n",
       "      <th>Payment_of_Min_Amount</th>\n",
       "      <th>Amount_invested_monthly</th>\n",
       "      <th>Payment_Behaviour</th>\n",
       "      <th>Monthly_Balance</th>\n",
       "      <th>Credit_Score</th>\n",
       "    </tr>\n",
       "  </thead>\n",
       "  <tbody>\n",
       "    <tr>\n",
       "      <th>count</th>\n",
       "      <td>100000</td>\n",
       "      <td>100000</td>\n",
       "      <td>100000</td>\n",
       "      <td>90015</td>\n",
       "      <td>100000</td>\n",
       "      <td>100000</td>\n",
       "      <td>100000</td>\n",
       "      <td>100000</td>\n",
       "      <td>100000</td>\n",
       "      <td>88592</td>\n",
       "      <td>92998</td>\n",
       "      <td>100000</td>\n",
       "      <td>100000</td>\n",
       "      <td>100000</td>\n",
       "      <td>90970</td>\n",
       "      <td>100000</td>\n",
       "      <td>95521</td>\n",
       "      <td>100000</td>\n",
       "      <td>98800</td>\n",
       "      <td>100000</td>\n",
       "    </tr>\n",
       "    <tr>\n",
       "      <th>unique</th>\n",
       "      <td>100000</td>\n",
       "      <td>12500</td>\n",
       "      <td>8</td>\n",
       "      <td>10139</td>\n",
       "      <td>1788</td>\n",
       "      <td>12501</td>\n",
       "      <td>16</td>\n",
       "      <td>18940</td>\n",
       "      <td>434</td>\n",
       "      <td>6260</td>\n",
       "      <td>749</td>\n",
       "      <td>3635</td>\n",
       "      <td>4</td>\n",
       "      <td>13178</td>\n",
       "      <td>404</td>\n",
       "      <td>3</td>\n",
       "      <td>91049</td>\n",
       "      <td>7</td>\n",
       "      <td>98790</td>\n",
       "      <td>3</td>\n",
       "    </tr>\n",
       "    <tr>\n",
       "      <th>top</th>\n",
       "      <td>0x1602</td>\n",
       "      <td>CUS_0xd40</td>\n",
       "      <td>January</td>\n",
       "      <td>Langep</td>\n",
       "      <td>38</td>\n",
       "      <td>#F%$D@*&amp;8</td>\n",
       "      <td>_______</td>\n",
       "      <td>36585.12</td>\n",
       "      <td>3</td>\n",
       "      <td>Not Specified</td>\n",
       "      <td>19</td>\n",
       "      <td>_</td>\n",
       "      <td>Standard</td>\n",
       "      <td>1360.45</td>\n",
       "      <td>15 Years and 11 Months</td>\n",
       "      <td>Yes</td>\n",
       "      <td>__10000__</td>\n",
       "      <td>Low_spent_Small_value_payments</td>\n",
       "      <td>__-333333333333333333333333333__</td>\n",
       "      <td>Standard</td>\n",
       "    </tr>\n",
       "    <tr>\n",
       "      <th>freq</th>\n",
       "      <td>1</td>\n",
       "      <td>8</td>\n",
       "      <td>12500</td>\n",
       "      <td>44</td>\n",
       "      <td>2833</td>\n",
       "      <td>5572</td>\n",
       "      <td>7062</td>\n",
       "      <td>16</td>\n",
       "      <td>14386</td>\n",
       "      <td>1408</td>\n",
       "      <td>5327</td>\n",
       "      <td>2091</td>\n",
       "      <td>36479</td>\n",
       "      <td>24</td>\n",
       "      <td>446</td>\n",
       "      <td>52326</td>\n",
       "      <td>4305</td>\n",
       "      <td>25513</td>\n",
       "      <td>9</td>\n",
       "      <td>53174</td>\n",
       "    </tr>\n",
       "  </tbody>\n",
       "</table>\n",
       "</div>"
      ],
      "text/plain": [
       "            ID Customer_ID    Month    Name     Age        SSN Occupation  \\\n",
       "count   100000      100000   100000   90015  100000     100000     100000   \n",
       "unique  100000       12500        8   10139    1788      12501         16   \n",
       "top     0x1602   CUS_0xd40  January  Langep      38  #F%$D@*&8    _______   \n",
       "freq         1           8    12500      44    2833       5572       7062   \n",
       "\n",
       "       Annual_Income Num_of_Loan   Type_of_Loan Num_of_Delayed_Payment  \\\n",
       "count         100000      100000          88592                  92998   \n",
       "unique         18940         434           6260                    749   \n",
       "top         36585.12           3  Not Specified                     19   \n",
       "freq              16       14386           1408                   5327   \n",
       "\n",
       "       Changed_Credit_Limit Credit_Mix Outstanding_Debt  \\\n",
       "count                100000     100000           100000   \n",
       "unique                 3635          4            13178   \n",
       "top                       _   Standard          1360.45   \n",
       "freq                   2091      36479               24   \n",
       "\n",
       "            Credit_History_Age Payment_of_Min_Amount Amount_invested_monthly  \\\n",
       "count                    90970                100000                   95521   \n",
       "unique                     404                     3                   91049   \n",
       "top     15 Years and 11 Months                   Yes               __10000__   \n",
       "freq                       446                 52326                    4305   \n",
       "\n",
       "                     Payment_Behaviour                   Monthly_Balance  \\\n",
       "count                           100000                             98800   \n",
       "unique                               7                             98790   \n",
       "top     Low_spent_Small_value_payments  __-333333333333333333333333333__   \n",
       "freq                             25513                                 9   \n",
       "\n",
       "       Credit_Score  \n",
       "count        100000  \n",
       "unique            3  \n",
       "top        Standard  \n",
       "freq          53174  "
      ]
     },
     "execution_count": 10,
     "metadata": {},
     "output_type": "execute_result"
    }
   ],
   "source": [
    "train_df.describe(exclude=np.number)"
   ]
  },
  {
   "cell_type": "code",
   "execution_count": 11,
   "id": "d2091252",
   "metadata": {},
   "outputs": [
    {
     "data": {
      "text/plain": [
       "Standard    53174\n",
       "Poor        28998\n",
       "Good        17828\n",
       "Name: Credit_Score, dtype: int64"
      ]
     },
     "execution_count": 11,
     "metadata": {},
     "output_type": "execute_result"
    }
   ],
   "source": [
    "train_df['Credit_Score'].value_counts()"
   ]
  },
  {
   "cell_type": "code",
   "execution_count": 12,
   "id": "1accbb16",
   "metadata": {},
   "outputs": [
    {
     "data": {
      "text/plain": [
       "ID                              0\n",
       "Customer_ID                     0\n",
       "Month                           0\n",
       "Name                         9985\n",
       "Age                             0\n",
       "SSN                             0\n",
       "Occupation                      0\n",
       "Annual_Income                   0\n",
       "Monthly_Inhand_Salary       15002\n",
       "Num_Bank_Accounts               0\n",
       "Num_Credit_Card                 0\n",
       "Interest_Rate                   0\n",
       "Num_of_Loan                     0\n",
       "Type_of_Loan                11408\n",
       "Delay_from_due_date             0\n",
       "Num_of_Delayed_Payment       7002\n",
       "Changed_Credit_Limit            0\n",
       "Num_Credit_Inquiries         1965\n",
       "Credit_Mix                      0\n",
       "Outstanding_Debt                0\n",
       "Credit_Utilization_Ratio        0\n",
       "Credit_History_Age           9030\n",
       "Payment_of_Min_Amount           0\n",
       "Total_EMI_per_month             0\n",
       "Amount_invested_monthly      4479\n",
       "Payment_Behaviour               0\n",
       "Monthly_Balance              1200\n",
       "Credit_Score                    0\n",
       "dtype: int64"
      ]
     },
     "execution_count": 12,
     "metadata": {},
     "output_type": "execute_result"
    }
   ],
   "source": [
    "train_df.isnull().sum()"
   ]
  },
  {
   "cell_type": "code",
   "execution_count": 13,
   "id": "ccf6bc16",
   "metadata": {},
   "outputs": [],
   "source": [
    "empty_space_df = train_df.isna().sum()\n",
    "empty_space_df_percentage = (empty_space_df/ (empty_space_df.sum()))*100\n",
    "\n",
    "#to remove columns withour missing value\n",
    "empty_space_df_percentage = empty_space_df_percentage.drop(empty_space_df_percentage[empty_space_df_percentage ==0].index)\n",
    "\n",
    "empty_space_df_percentage = empty_space_df_percentage.sort_values(ascending=False)"
   ]
  },
  {
   "cell_type": "code",
   "execution_count": 14,
   "id": "73a469d2",
   "metadata": {},
   "outputs": [
    {
     "data": {
      "image/png": "[encoded data removed]",
      "text/plain": [
       "<Figure size 432x288 with 1 Axes>"
      ]
     },
     "metadata": {
      "needs_background": "light"
     },
     "output_type": "display_data"
    }
   ],
   "source": [
    "plt.xticks(rotation = '75')\n",
    "sns.barplot(x = empty_space_df_percentage.index, y = empty_space_df_percentage)\n",
    "plt.title('Percentage of missing values');"
   ]
  },
  {
   "cell_type": "code",
   "execution_count": 15,
   "id": "5418dcb5",
   "metadata": {},
   "outputs": [
    {
     "name": "stdout",
     "output_type": "stream",
     "text": [
      "\n",
      " ************ ID ************** \n",
      " ['0x1602' '0x1603' '0x1604' ... '0x25feb' '0x25fec' '0x25fed']\n",
      "\n",
      " ************ Customer_ID ************** \n",
      " ['CUS_0xd40' 'CUS_0x21b1' 'CUS_0x2dbc' ... 'CUS_0xaf61' 'CUS_0x8600'\n",
      " 'CUS_0x942c']\n",
      "\n",
      " ************ Month ************** \n",
      " ['January' 'February' 'March' 'April' 'May' 'June' 'July' 'August']\n",
      "\n",
      " ************ Name ************** \n",
      " ['Aaron Maashoh' nan 'Rick Rothackerj' ... 'Chris Wickhamm'\n",
      " 'Sarah McBridec' 'Nicks']\n",
      "\n",
      " ************ Age ************** \n",
      " ['23' '-500' '28_' ... '4808_' '2263' '1342']\n",
      "\n",
      " ************ SSN ************** \n",
      " ['821-00-0265' '#F%$D@*&8' '004-07-5839' ... '133-16-7738' '031-35-0942'\n",
      " '078-73-5990']\n",
      "\n",
      " ************ Occupation ************** \n",
      " ['Scientist' '_______' 'Teacher' 'Engineer' 'Entrepreneur' 'Developer'\n",
      " 'Lawyer' 'Media_Manager' 'Doctor' 'Journalist' 'Manager' 'Accountant'\n",
      " 'Musician' 'Mechanic' 'Writer' 'Architect']\n",
      "\n",
      " ************ Annual_Income ************** \n",
      " ['19114.12' '34847.84' '34847.84_' ... '20002.88' '39628.99' '39628.99_']\n",
      "\n",
      " ************ Monthly_Inhand_Salary ************** \n",
      " [1824.843333         nan 3037.986667 ... 3097.008333 1929.906667\n",
      " 3359.415833]\n",
      "\n",
      " ************ Num_Bank_Accounts ************** \n",
      " [   3    2    1    7    4    0    8    5    6    9   10 1414 1231   67\n",
      "  572 1488   91  528 1647 1696 1338  649  889 1668  685  857  975 1496\n",
      " 1534 1620   37 1388 1429 1332 1588  120 1777 1096  803  494  744 1139\n",
      "  831 1613  741  121  665 1748 1644  823 1356 1651   87  711  450  210\n",
      " 1671 1722  648  672 1662 1495  510  666  429 1131 1434  980 1026  526\n",
      "  718 1300 1312 1315  501 1566  480 1042  322  628 1016  333 1265  791\n",
      "  427  563  905 1190 1036 1611   38  619  555 1769  280  752 1201  812\n",
      " 1487  222  212 1019 1222  610 1714 1308  525 1158 1115 1616  754 1601\n",
      "  797 1577  521  703  933  959  809 1089 1656 1113 1715  964 1533 1789\n",
      "  871  434 1295  565 1724  603  677  541  698 1101  464 1539 1462 1011\n",
      " 1257 1727   45  244 1266  897  535  484  331  675  826  946 1675  105\n",
      " 1327  845  549  473  710  527  908   68 1628  371  445 1168  868  687\n",
      "  455 1003   26 1526  618  598  351 1342 1783  683 1557 1335  416 1747\n",
      "  137 1475  373  338  942  170  973 1605 1478  386 1448 1033 1225  596\n",
      " 1731 1214 1481 1105  580  347  108  148 1001 1467 1114 1000  632  246\n",
      " 1032 1394  689  482 1303  720  574  588 1358  650  708  179  844 1140\n",
      "  335   60  732 1494 1436  820   28 1576  818  794  731  534  556  691\n",
      " 1197 1155 1255 1763  769 1124  819  318 1418  882   61  264  194 1798\n",
      "  611  840  505 1110  719 1065  195  584  550 1014 1022  903  976   31\n",
      "  417 1423 1148  616  786 1424   55 1061 1293  342   43 1540  488 1122\n",
      " 1274 1075  722 1268   41  814 1564 1390 1141  497  224 1135  441  374\n",
      "   74  314 1408  475 1015  681 1236   59 1425 1637 1240  299 1657 1123\n",
      " 1091 1264 1561 1632 1562  305 1318 1217 1699 1070  864 1391  112  860\n",
      "  595  229 1624 1051  821 1794 1565  397 1368 1353  508 1725 1413 1239\n",
      "  847 1317  570   -1  302  456  198  122  832  167 1547 1666 1241  275\n",
      "  566 1779  201  334 1169  834 1174 1040  530 1676 1468 1093  706  489\n",
      " 1592  688  830 1784 1543 1600 1178  228  483 1501  950  548  870 1211\n",
      "  604  804  129  540 1702 1636 1680 1443 1252  499  180  702  885 1652\n",
      "  795  938  833 1654 1793  303 1621 1516 1138   32  160 1491   83  423\n",
      "  928  339  931  243 1756  583 1695  274  955  430 1247  490  726  987\n",
      "   42 1626 1470 1739  887  211  385 1221  753  324  406 1677 1567  785\n",
      "  182 1079  184 1771 1048 1069  561  589 1634   70 1371  647 1153  239\n",
      "  801 1279 1287  425 1589  929 1511 1765 1047 1005 1337  981 1766  805\n",
      " 1574 1638  186   99  288 1650  974  996 1595 1594  865  203 1440  448\n",
      "  285   94  875  916 1733  240  330   79   82  135 1043  142 1235 1569\n",
      " 1741 1461  560 1551  409  418 1017  892  354  124  935  313 1363  232\n",
      " 1200 1184 1432 1479 1407 1080 1719 1024  970  761  158  312 1060  684\n",
      "  696 1520 1352 1502  936  485  350 1560 1166 1013   34 1691  715 1570\n",
      " 1751 1503 1194 1558  411  298  260  308  796 1442  912 1256  746  435\n",
      "  620 1774 1181 1323  837  307 1430   53 1447  259  921  328 1034  353\n",
      "  822  654  829  609  166  136  172 1306 1028  808  270 1072  514  156\n",
      " 1331 1630  462 1310 1210  265   50 1355  394 1393  226  991  368 1018\n",
      " 1037  627 1744  523  894  944 1730 1076 1094 1617  449  678 1164   30\n",
      "  817 1568  607  709 1230  606 1480   29 1522 1670   49  626 1641 1712\n",
      " 1370 1782  119 1137 1277   35  947  851 1041 1583 1536  575  196  143\n",
      "   33  383   57  621  230  162  352 1504 1250   39  511 1364  918 1665\n",
      "  734 1320  316  771  705 1435  304  116 1553  424  493 1530 1195 1604\n",
      "  624 1599  782 1606 1622 1285  657 1275 1291 1402  420  932  468  442\n",
      " 1145   93 1218  283  292  927 1711 1422  364 1398  594  789 1350  676\n",
      "  216 1012 1426  717 1095 1786  850  777  375  356  701 1325  290 1775\n",
      "  467 1365 1549  848 1453   84 1458  888  770 1591  582   40 1261 1764\n",
      " 1067  145  471  476 1128  967  622  641  539  858  295 1395 1517 1297\n",
      " 1126  926  157 1377  993  125  340  271 1669  272  979  707  564  997\n",
      "  447 1578 1465  415  714 1276   18 1316  587  245  446  978 1002 1631\n",
      "  341 1307  524 1267  103  242 1378 1328 1294 1309  724  197  999  547\n",
      " 1100 1456   77 1506 1472  460   11 1420  218 1253  392  670 1321  100\n",
      " 1205  443   92  811  774  159 1770  972 1157 1102  217  358 1473  440\n",
      "  140 1361  481  512 1117  300 1263 1581  901 1298  310  637  758 1734\n",
      " 1288  326 1678 1444 1344 1379  828  982  104  317 1529 1627  115  645\n",
      " 1404  940 1305 1049 1645 1466  175 1165 1419 1031  581 1580  854  725\n",
      " 1655 1134  569 1387 1381 1760  360 1735 1146 1411  969 1281  591  327\n",
      "  466  667  147  109  784 1396 1349  839 1284  802   97  281 1382 1039\n",
      " 1483  376 1249 1207 1213 1219 1345 1523  949 1063  983  886 1151  992\n",
      " 1107 1314  151   69 1489  695  738  444 1525  825  506  518 1077 1354\n",
      "  713  690  861 1389  968  421  907  205  856   72  651  161  867  971\n",
      " 1078   64 1701  546 1216   27 1709  193 1528  957  577  346 1416  396\n",
      " 1182  652 1083 1778  680 1754 1544 1703  636  472  453  463   75  756\n",
      "  296  891  813  474  697]\n",
      "\n",
      " ************ Num_Credit_Card ************** \n",
      " [   4 1385    5 ...  955 1430  679]\n",
      "\n",
      " ************ Interest_Rate ************** \n",
      " [   3    6    8 ... 1347  387 5729]\n",
      "\n",
      " ************ Num_of_Loan ************** \n",
      " ['4' '1' '3' '967' '-100' '0' '0_' '2' '3_' '2_' '7' '5' '5_' '6' '8' '8_'\n",
      " '9' '9_' '4_' '7_' '1_' '1464' '6_' '622' '352' '472' '1017' '945' '146'\n",
      " '563' '341' '444' '720' '1485' '49' '737' '1106' '466' '728' '313' '843'\n",
      " '597_' '617' '119' '663' '640' '92_' '1019' '501' '1302' '39' '716' '848'\n",
      " '931' '1214' '186' '424' '1001' '1110' '1152' '457' '1433' '1187' '52'\n",
      " '1480' '1047' '1035' '1347_' '33' '193' '699' '329' '1451' '484' '132'\n",
      " '649' '995' '545' '684' '1135' '1094' '1204' '654' '58' '348' '614'\n",
      " '1363' '323' '1406' '1348' '430' '153' '1461' '905' '1312' '1424' '1154'\n",
      " '95' '1353' '1228' '819' '1006' '795' '359' '1209' '590' '696' '1185_'\n",
      " '1465' '911' '1181' '70' '816' '1369' '143' '1416' '455' '55' '1096'\n",
      " '1474' '420' '1131' '904' '89' '1259' '527' '1241' '449' '983' '418'\n",
      " '319' '23' '238' '638' '138' '235_' '280' '1070' '1484' '274' '494'\n",
      " '1459_' '404' '1354' '1495' '1391' '601' '1313' '1319' '898' '231' '752'\n",
      " '174' '961' '1046' '834' '284' '438' '288' '1463' '1151' '719' '198'\n",
      " '1015' '855' '841' '392' '1444' '103' '1320_' '745' '172' '252' '630_'\n",
      " '241' '31' '405' '1217' '1030' '1257' '137' '157' '164' '1088' '1236'\n",
      " '777' '1048' '613' '330' '1439' '321' '661' '952' '939' '562' '1202'\n",
      " '302' '943' '394' '955' '1318' '936' '781' '100' '1329' '1365' '860'\n",
      " '217' '191' '32' '282' '351' '1387' '757' '416' '833' '359_' '292'\n",
      " '1225_' '1227' '639' '859' '243' '267' '510' '332' '996' '597' '311'\n",
      " '492' '820' '336' '123' '540' '131_' '1311_' '1441' '895' '891' '50'\n",
      " '940' '935' '596' '29' '1182' '1129_' '1014' '251' '365' '291' '1447'\n",
      " '742' '1085' '148' '462' '832' '881' '1225' '1412' '785_' '1127' '910'\n",
      " '538' '999' '733' '101' '237' '87' '659' '633' '387' '447' '629' '831'\n",
      " '1384' '773' '621' '1419' '289' '143_' '285' '1393' '1131_' '27_' '1359'\n",
      " '1482' '1189' '1294' '201' '579' '814' '141' '1320' '581' '1171_' '295'\n",
      " '290' '433' '679' '1040' '1054' '1430' '1023' '1077' '1457' '1150' '701'\n",
      " '1382' '889' '437' '372' '1222' '126' '1159' '868' '19' '1297' '227_'\n",
      " '190' '809' '1216' '1074' '571' '520' '1274' '1340' '991' '316' '697'\n",
      " '926' '873' '1002' '378_' '65' '875' '867' '548' '652' '1372' '606'\n",
      " '1036' '1300' '17' '1178' '802' '1219_' '1271' '1137' '1496' '439' '196'\n",
      " '636' '192' '228' '1053' '229' '753' '1296' '1371' '254' '863' '464'\n",
      " '515' '838' '1160' '1289' '1298' '799' '182' '574' '527_' '242' '415'\n",
      " '869' '958' '54' '1265' '656' '275' '778' '208' '147' '350' '507' '463'\n",
      " '497' '1129' '927' '653' '662' '529' '635' '1027_' '897' '1039' '227'\n",
      " '1345' '924' '696_' '1279' '546' '1112' '1210' '526' '300' '1103' '504'\n",
      " '136' '1400' '78' '686' '1091' '344' '215' '84' '628' '1470' '968' '1478'\n",
      " '83' '1196' '1307' '1132_' '1008' '917' '657' '56' '18' '41' '801' '978'\n",
      " '216' '349' '966']\n",
      "\n",
      " ************ Type_of_Loan ************** \n",
      " ['Auto Loan, Credit-Builder Loan, Personal Loan, and Home Equity Loan'\n",
      " 'Credit-Builder Loan' 'Auto Loan, Auto Loan, and Not Specified' ...\n",
      " 'Home Equity Loan, Auto Loan, Auto Loan, and Auto Loan'\n",
      " 'Payday Loan, Student Loan, Mortgage Loan, and Not Specified'\n",
      " 'Personal Loan, Auto Loan, Mortgage Loan, Student Loan, and Student Loan']\n",
      "\n",
      " ************ Delay_from_due_date ************** \n",
      " [ 3 -1  5  6  8  7 13 10  0  4  9  1 12 11 30 31 34 27 14  2 -2 16 17 15\n",
      " 23 22 21 18 19 52 51 48 53 26 43 28 25 20 47 46 49 24 61 29 50 58 45 59\n",
      " 55 56 57 54 62 65 64 67 36 41 33 32 39 44 42 60 35 38 -3 63 40 37 -5 -4\n",
      " 66]\n",
      "\n",
      " ************ Num_of_Delayed_Payment ************** \n",
      " ['7' nan '4' '8_' '6' '1' '-1' '3_' '0' '8' '5' '3' '9' '12' '15' '17'\n",
      " '10' '2' '2_' '11' '14' '20' '22' '13' '13_' '14_' '16' '12_' '18' '19'\n",
      " '23' '24' '21' '3318' '3083' '22_' '1338' '4_' '26' '11_' '3104' '21_'\n",
      " '25' '10_' '183_' '9_' '1106' '834' '19_' '24_' '17_' '23_' '2672' '20_'\n",
      " '2008' '-3' '538' '6_' '1_' '16_' '27' '-2' '3478' '2420' '15_' '707'\n",
      " '708' '26_' '18_' '3815' '28' '5_' '1867' '2250' '1463' '25_' '7_' '4126'\n",
      " '2882' '1941' '2655' '2628' '132' '3069' '306' '0_' '3539' '3684' '1823'\n",
      " '4128' '1946' '827' '2297' '2566' '904' '182' '929' '3568' '2503' '1552'\n",
      " '2812' '1697' '3764' '851' '3905' '923' '88' '1668' '3253' '808' '2689'\n",
      " '3858' '642' '3457' '1402' '1732' '3154' '847' '3037' '2204' '3103'\n",
      " '1063' '2056' '1282' '1841' '2569_' '211' '793' '3484' '411' '3491'\n",
      " '2072' '3050' '1049' '2162' '3402' '2753' '27_' '1718' '1014' '3260'\n",
      " '3855' '84' '2311' '3251' '1832' '4069' '3010' '733' '4241' '166' '2461'\n",
      " '1749' '3200' '663_' '2185' '4161' '3009' '359' '2015' '1523' '594'\n",
      " '1079' '1199' '186' '1015' '1989' '281' '559' '2165' '1509' '3545' '779'\n",
      " '192' '4311' '-2_' '2323' '1471' '1538' '3529' '439' '3456' '3040' '2697'\n",
      " '3179' '1332' '3175' '3112' '829' '4022' '3870' '4023' '531' '1511'\n",
      " '3092' '3191' '2400' '3621' '3536' '544' '1864' '28_' '142' '2300' '264'\n",
      " '72' '497' '398' '2222' '3960' '1473' '3043' '4216' '2903' '2658' '-1_'\n",
      " '4042' '1323_' '2184' '921' '1328' '3404' '2438' '809' '47' '1996' '4164'\n",
      " '1370' '1204' '2167' '4011' '2590' '2594' '2533' '1663' '1018' '2919'\n",
      " '3458' '3316' '2589' '2801' '3355' '2529' '2488' '4266' '1243' '739'\n",
      " '845' '4107' '1884' '337' '2660' '290' '674' '2450' '3738' '1792' '2823'\n",
      " '2570' '775' '960' '482' '1706' '2493' '3623' '3031' '2794_' '2219_'\n",
      " '758_' '1849' '3559' '4096' '3726' '1953' '2657' '4043' '2938' '4384'\n",
      " '1647' '2694' '3533' '519' '2677' '2413' '-3_' '4139' '2609' '4326'\n",
      " '4211' '823' '3011' '1608' '2860' '4219' '4047' '1531' '742' '52' '4024'\n",
      " '1673' '49' '2243' '1685' '1869' '2587' '3489' '749' '1164' '2616' '848_'\n",
      " '4134' '1530' '1502' '4075' '3845' '1060' '2573' '2128' '328' '640'\n",
      " '2585' '2230' '1795' '1180' '1534' '3739' '3313' '4191' '996' '372'\n",
      " '3340' '3177' '602' '787' '4135' '3878' '4059' '1218' '4051' '1766'\n",
      " '1359' '3107' '585' '1263' '2511' '709' '3632' '4077' '2943' '2793'\n",
      " '3245' '2317' '1640' '2237_' '3819' '252' '3978' '1498' '1833' '2737'\n",
      " '1192' '1481' '700' '271' '2286' '273' '1215' '3944' '2070' '1478' '3749'\n",
      " '871' '2508' '2959' '130' '294' '3097_' '3511' '415' '2196' '2138' '2149'\n",
      " '1874' '1553' '3847' '3222' '1222' '2907' '3051' '98' '1598' '416' '2314'\n",
      " '2955' '1691' '1450' '2021' '1636' '80' '3708' '195' '320' '2945' '1911'\n",
      " '3416' '3796' '4159' '2255' '938' '4397' '3776' '2148' '1994' '853'\n",
      " '1178' '1633' '196' '3864' '714' '1687' '1034' '468' '1337' '2044' '1541'\n",
      " '3661' '1211' '2645' '2007' '102' '1891' '3162' '3142' '2566_' '2766'\n",
      " '3881' '2728' '2671' '1952' '3580' '2705' '4251' '3840_' '972' '3119'\n",
      " '3502' '4185' '2954' '683' '1614' '1572' '4302' '3447' '1852' '2131'\n",
      " '1900' '1699' '133' '2018' '2127' '508' '210' '577' '1664' '2604' '1411'\n",
      " '2351' '867' '1371' '2352' '1191' '905' '4053' '3869' '933' '3660' '3300'\n",
      " '3629' '3208' '2142' '2521' '450' '583' '876' '121' '3919' '2560' '2578'\n",
      " '2060' '813' '1236' '1489' '4360' '1154' '2544' '4172' '2924' '426'\n",
      " '4270' '2768' '3909' '3951' '2712' '2498' '3171' '1750' '197' '2569'\n",
      " '265' '4293' '887' '2707' '2397' '4337' '4249' '2751' '2950' '1859' '107'\n",
      " '2348' '2506' '2810' '2873' '1301' '2262' '1890' '3078' '3865' '3268'\n",
      " '2777' '3105' '1278' '3793' '2276' '2879' '4298' '2141' '223' '2239'\n",
      " '846' '1862' '2756' '1181' '1184' '2617' '3972' '2334' '3900' '2759'\n",
      " '4169' '2280' '2492' '2729' '3750' '1825' '309' '2431' '3099' '2080'\n",
      " '2279' '2666' '3722' '1976' '529' '1985' '3060' '4278' '3212' '46' '3148'\n",
      " '3467' '4231' '3790' '473' '1536' '3955' '2324' '2381' '1177' '371'\n",
      " '2896' '3880' '2991' '4319' '1061' '662' '4144' '693' '2006' '3115'\n",
      " '2278_' '3751' '1861' '4262' '2913' '2615' '3492' '800' '3766' '384'\n",
      " '3407' '1087' '3329' '1086' '2216' '1087_' '2457' '3522' '3274' '3488'\n",
      " '2854' '238' '351' '3706' '4280' '4095' '2926' '1329' '3370' '283' '1392'\n",
      " '1743' '2429' '974' '3156' '1133' '4388' '3243' '4282' '2523' '4281'\n",
      " '3415' '2001' '441' '94' '3499' '969' '3368' '106' '1004' '2638' '3946'\n",
      " '2956' '4324' '85' '4113' '819' '615' '1172' '2553' '1765' '3495' '2820'\n",
      " '4239' '4340' '1295_' '2636' '4295' '1653' '1325' '1879' '1096' '1735'\n",
      " '3584' '1073' '1975' '3827' '2552' '3754' '2378' '532' '926' '2376'\n",
      " '3636' '3763' '778' '2621' '804' '754' '2418' '4019' '3926' '3861_'\n",
      " '3574' '175' '162' '2834' '3765' '2354' '523' '2274' '1606' '1443' '1354'\n",
      " '2142_' '1422' '2278' '1045' '4106' '3155' '666' '659' '3229' '1216'\n",
      " '2076' '1473_' '2384' '1954' '719' '2534' '4002' '541' '2875' '4344'\n",
      " '2081' '3894' '1256' '676' '4178' '399' '86' '1571' '4037' '1967' '4005'\n",
      " '3216' '1150' '2591' '1801' '3721' '1775' '2260' '3707' '4292' '1820'\n",
      " '145' '1480' '1850' '430' '217' '3920_' '1389' '1579' '3391' '2385'\n",
      " '3336' '3392' '3688' '221' '2047']\n",
      "\n",
      " ************ Changed_Credit_Limit ************** \n",
      " ['11.27' '_' '6.27' ... '27.38' '25.16' '21.17']\n",
      "\n",
      " ************ Num_Credit_Inquiries ************** \n",
      " [   4.    2.    3. ... 1361.  310.   74.]\n",
      "\n",
      " ************ Credit_Mix ************** \n",
      " ['_' 'Good' 'Standard' 'Bad']\n",
      "\n",
      " ************ Outstanding_Debt ************** \n",
      " ['809.98' '605.03' '1303.01' ... '3571.7_' '3571.7' '502.38']\n",
      "\n",
      " ************ Credit_Utilization_Ratio ************** \n",
      " [26.82261962 31.94496006 28.60935202 ... 41.25552226 33.63820798\n",
      " 34.19246265]\n",
      "\n",
      " ************ Credit_History_Age ************** \n",
      " ['22 Years and 1 Months' nan '22 Years and 3 Months'\n",
      " '22 Years and 4 Months' '22 Years and 5 Months' '22 Years and 6 Months'\n",
      " '22 Years and 7 Months' '26 Years and 7 Months' '26 Years and 8 Months'\n",
      " '26 Years and 9 Months' '26 Years and 10 Months' '26 Years and 11 Months'\n",
      " '27 Years and 0 Months' '27 Years and 1 Months' '27 Years and 2 Months'\n",
      " '17 Years and 9 Months' '17 Years and 10 Months' '17 Years and 11 Months'\n",
      " '18 Years and 1 Months' '18 Years and 2 Months' '18 Years and 3 Months'\n",
      " '18 Years and 4 Months' '17 Years and 3 Months' '17 Years and 4 Months'\n",
      " '17 Years and 5 Months' '17 Years and 6 Months' '17 Years and 7 Months'\n",
      " '17 Years and 8 Months' '30 Years and 8 Months' '30 Years and 9 Months'\n",
      " '30 Years and 10 Months' '30 Years and 11 Months' '31 Years and 0 Months'\n",
      " '31 Years and 1 Months' '31 Years and 2 Months' '31 Years and 3 Months'\n",
      " '32 Years and 0 Months' '32 Years and 2 Months' '32 Years and 3 Months'\n",
      " '32 Years and 5 Months' '32 Years and 6 Months' '30 Years and 7 Months'\n",
      " '14 Years and 8 Months' '14 Years and 9 Months' '14 Years and 10 Months'\n",
      " '14 Years and 11 Months' '15 Years and 0 Months' '15 Years and 1 Months'\n",
      " '15 Years and 2 Months' '21 Years and 4 Months' '21 Years and 5 Months'\n",
      " '21 Years and 6 Months' '21 Years and 7 Months' '21 Years and 8 Months'\n",
      " '21 Years and 9 Months' '21 Years and 10 Months' '21 Years and 11 Months'\n",
      " '26 Years and 6 Months' '19 Years and 2 Months' '19 Years and 3 Months'\n",
      " '19 Years and 4 Months' '19 Years and 5 Months' '19 Years and 6 Months'\n",
      " '19 Years and 7 Months' '19 Years and 8 Months' '25 Years and 5 Months'\n",
      " '25 Years and 6 Months' '25 Years and 7 Months' '25 Years and 8 Months'\n",
      " '25 Years and 9 Months' '25 Years and 10 Months' '25 Years and 11 Months'\n",
      " '26 Years and 0 Months' '27 Years and 3 Months' '27 Years and 4 Months'\n",
      " '27 Years and 5 Months' '8 Years and 11 Months' '9 Years and 0 Months'\n",
      " '9 Years and 1 Months' '9 Years and 2 Months' '9 Years and 3 Months'\n",
      " '9 Years and 4 Months' '9 Years and 6 Months' '18 Years and 5 Months'\n",
      " '18 Years and 6 Months' '18 Years and 8 Months' '18 Years and 9 Months'\n",
      " '16 Years and 10 Months' '16 Years and 11 Months' '17 Years and 0 Months'\n",
      " '17 Years and 1 Months' '17 Years and 2 Months' '29 Years and 2 Months'\n",
      " '29 Years and 3 Months' '29 Years and 4 Months' '29 Years and 6 Months'\n",
      " '29 Years and 8 Months' '29 Years and 9 Months' '6 Years and 5 Months'\n",
      " '6 Years and 6 Months' '6 Years and 7 Months' '6 Years and 8 Months'\n",
      " '6 Years and 9 Months' '6 Years and 10 Months' '6 Years and 11 Months'\n",
      " '7 Years and 0 Months' '27 Years and 6 Months' '27 Years and 7 Months'\n",
      " '27 Years and 8 Months' '27 Years and 9 Months' '18 Years and 7 Months'\n",
      " '19 Years and 9 Months' '19 Years and 10 Months' '10 Years and 1 Months'\n",
      " '10 Years and 2 Months' '10 Years and 3 Months' '10 Years and 4 Months'\n",
      " '10 Years and 5 Months' '10 Years and 6 Months' '10 Years and 7 Months'\n",
      " '10 Years and 8 Months' '32 Years and 9 Months' '32 Years and 10 Months'\n",
      " '32 Years and 11 Months' '33 Years and 0 Months' '33 Years and 1 Months'\n",
      " '33 Years and 4 Months' '12 Years and 3 Months' '12 Years and 4 Months'\n",
      " '12 Years and 5 Months' '12 Years and 6 Months' '12 Years and 7 Months'\n",
      " '12 Years and 8 Months' '12 Years and 10 Months' '12 Years and 9 Months'\n",
      " '13 Years and 8 Months' '13 Years and 11 Months' '14 Years and 0 Months'\n",
      " '14 Years and 1 Months' '14 Years and 2 Months' '14 Years and 3 Months'\n",
      " '30 Years and 3 Months' '30 Years and 4 Months' '30 Years and 5 Months'\n",
      " '30 Years and 6 Months' '8 Years and 9 Months' '8 Years and 10 Months'\n",
      " '18 Years and 10 Months' '18 Years and 11 Months' '19 Years and 0 Months'\n",
      " '19 Years and 1 Months' '8 Years and 8 Months' '13 Years and 1 Months'\n",
      " '13 Years and 2 Months' '13 Years and 3 Months' '13 Years and 5 Months'\n",
      " '13 Years and 6 Months' '13 Years and 7 Months' '22 Years and 0 Months'\n",
      " '26 Years and 1 Months' '26 Years and 2 Months' '13 Years and 4 Months'\n",
      " '13 Years and 9 Months' '27 Years and 11 Months' '28 Years and 0 Months'\n",
      " '28 Years and 1 Months' '28 Years and 2 Months' '28 Years and 3 Months'\n",
      " '28 Years and 4 Months' '28 Years and 5 Months' '28 Years and 6 Months'\n",
      " '7 Years and 10 Months' '7 Years and 11 Months' '8 Years and 0 Months'\n",
      " '8 Years and 1 Months' '8 Years and 2 Months' '8 Years and 3 Months'\n",
      " '8 Years and 4 Months' '8 Years and 5 Months' '24 Years and 3 Months'\n",
      " '24 Years and 4 Months' '24 Years and 5 Months' '24 Years and 6 Months'\n",
      " '24 Years and 7 Months' '24 Years and 8 Months' '24 Years and 9 Months'\n",
      " '1 Years and 2 Months' '1 Years and 3 Months' '1 Years and 4 Months'\n",
      " '1 Years and 5 Months' '1 Years and 6 Months' '1 Years and 7 Months'\n",
      " '1 Years and 8 Months' '10 Years and 11 Months' '11 Years and 0 Months'\n",
      " '11 Years and 1 Months' '11 Years and 2 Months' '11 Years and 3 Months'\n",
      " '11 Years and 4 Months' '11 Years and 5 Months' '11 Years and 6 Months'\n",
      " '19 Years and 11 Months' '20 Years and 0 Months' '20 Years and 1 Months'\n",
      " '10 Years and 9 Months' '10 Years and 10 Months' '14 Years and 4 Months'\n",
      " '14 Years and 5 Months' '14 Years and 6 Months' '20 Years and 8 Months'\n",
      " '20 Years and 9 Months' '20 Years and 10 Months' '20 Years and 11 Months'\n",
      " '21 Years and 0 Months' '21 Years and 1 Months' '21 Years and 2 Months'\n",
      " '21 Years and 3 Months' '0 Years and 4 Months' '0 Years and 5 Months'\n",
      " '0 Years and 6 Months' '0 Years and 8 Months' '0 Years and 9 Months'\n",
      " '0 Years and 10 Months' '31 Years and 7 Months' '31 Years and 8 Months'\n",
      " '31 Years and 9 Months' '31 Years and 10 Months' '31 Years and 11 Months'\n",
      " '32 Years and 1 Months' '12 Years and 11 Months' '13 Years and 0 Months'\n",
      " '27 Years and 10 Months' '11 Years and 7 Months' '11 Years and 8 Months'\n",
      " '11 Years and 9 Months' '11 Years and 10 Months' '24 Years and 10 Months'\n",
      " '24 Years and 11 Months' '25 Years and 0 Months' '25 Years and 1 Months'\n",
      " '25 Years and 2 Months' '25 Years and 3 Months' '18 Years and 0 Months'\n",
      " '31 Years and 4 Months' '31 Years and 5 Months' '31 Years and 6 Months'\n",
      " '5 Years and 2 Months' '5 Years and 3 Months' '5 Years and 4 Months'\n",
      " '5 Years and 5 Months' '5 Years and 6 Months' '5 Years and 7 Months'\n",
      " '5 Years and 8 Months' '5 Years and 9 Months' '2 Years and 11 Months'\n",
      " '3 Years and 0 Months' '3 Years and 1 Months' '3 Years and 2 Months'\n",
      " '3 Years and 3 Months' '3 Years and 4 Months' '3 Years and 5 Months'\n",
      " '3 Years and 6 Months' '16 Years and 4 Months' '16 Years and 5 Months'\n",
      " '16 Years and 6 Months' '16 Years and 7 Months' '16 Years and 8 Months'\n",
      " '16 Years and 9 Months' '22 Years and 11 Months' '23 Years and 0 Months'\n",
      " '23 Years and 2 Months' '23 Years and 3 Months' '23 Years and 4 Months'\n",
      " '23 Years and 5 Months' '23 Years and 6 Months' '8 Years and 6 Months'\n",
      " '8 Years and 7 Months' '4 Years and 5 Months' '4 Years and 6 Months'\n",
      " '4 Years and 7 Months' '4 Years and 8 Months' '4 Years and 9 Months'\n",
      " '4 Years and 10 Months' '4 Years and 11 Months' '5 Years and 0 Months'\n",
      " '32 Years and 8 Months' '33 Years and 2 Months' '33 Years and 3 Months'\n",
      " '12 Years and 2 Months' '32 Years and 4 Months' '29 Years and 11 Months'\n",
      " '30 Years and 0 Months' '30 Years and 2 Months' '26 Years and 3 Months'\n",
      " '26 Years and 4 Months' '26 Years and 5 Months' '7 Years and 6 Months'\n",
      " '7 Years and 7 Months' '7 Years and 8 Months' '7 Years and 9 Months'\n",
      " '28 Years and 7 Months' '28 Years and 8 Months' '28 Years and 9 Months'\n",
      " '28 Years and 10 Months' '29 Years and 5 Months' '29 Years and 7 Months'\n",
      " '20 Years and 2 Months' '20 Years and 3 Months' '20 Years and 4 Months'\n",
      " '20 Years and 5 Months' '20 Years and 6 Months' '20 Years and 7 Months'\n",
      " '28 Years and 11 Months' '29 Years and 0 Months' '13 Years and 10 Months'\n",
      " '1 Years and 9 Months' '1 Years and 10 Months' '1 Years and 11 Months'\n",
      " '33 Years and 5 Months' '33 Years and 6 Months' '33 Years and 7 Months'\n",
      " '33 Years and 8 Months' '29 Years and 1 Months' '5 Years and 1 Months'\n",
      " '5 Years and 10 Months' '5 Years and 11 Months' '6 Years and 0 Months'\n",
      " '6 Years and 1 Months' '6 Years and 2 Months' '6 Years and 3 Months'\n",
      " '22 Years and 9 Months' '22 Years and 10 Months' '23 Years and 1 Months'\n",
      " '22 Years and 2 Months' '15 Years and 4 Months' '15 Years and 5 Months'\n",
      " '15 Years and 6 Months' '15 Years and 7 Months' '15 Years and 8 Months'\n",
      " '15 Years and 9 Months' '15 Years and 10 Months' '15 Years and 11 Months'\n",
      " '2 Years and 3 Months' '2 Years and 4 Months' '2 Years and 5 Months'\n",
      " '2 Years and 6 Months' '2 Years and 7 Months' '2 Years and 8 Months'\n",
      " '2 Years and 9 Months' '2 Years and 10 Months' '2 Years and 0 Months'\n",
      " '16 Years and 2 Months' '16 Years and 3 Months' '22 Years and 8 Months'\n",
      " '9 Years and 5 Months' '9 Years and 7 Months' '9 Years and 8 Months'\n",
      " '9 Years and 9 Months' '11 Years and 11 Months' '12 Years and 0 Months'\n",
      " '12 Years and 1 Months' '24 Years and 2 Months' '16 Years and 0 Months'\n",
      " '16 Years and 1 Months' '14 Years and 7 Months' '25 Years and 4 Months'\n",
      " '15 Years and 3 Months' '7 Years and 1 Months' '7 Years and 2 Months'\n",
      " '7 Years and 3 Months' '7 Years and 4 Months' '7 Years and 5 Months'\n",
      " '23 Years and 7 Months' '23 Years and 8 Months' '23 Years and 9 Months'\n",
      " '30 Years and 1 Months' '29 Years and 10 Months' '9 Years and 10 Months'\n",
      " '9 Years and 11 Months' '10 Years and 0 Months' '2 Years and 2 Months'\n",
      " '23 Years and 10 Months' '23 Years and 11 Months' '24 Years and 0 Months'\n",
      " '24 Years and 1 Months' '6 Years and 4 Months' '0 Years and 1 Months'\n",
      " '0 Years and 2 Months' '0 Years and 3 Months' '0 Years and 7 Months'\n",
      " '3 Years and 8 Months' '32 Years and 7 Months' '3 Years and 7 Months'\n",
      " '3 Years and 9 Months' '3 Years and 10 Months' '0 Years and 11 Months'\n",
      " '1 Years and 0 Months' '1 Years and 1 Months' '4 Years and 4 Months'\n",
      " '3 Years and 11 Months' '4 Years and 0 Months' '4 Years and 1 Months'\n",
      " '4 Years and 2 Months' '4 Years and 3 Months' '2 Years and 1 Months']\n",
      "\n",
      " ************ Payment_of_Min_Amount ************** \n",
      " ['No' 'NM' 'Yes']\n",
      "\n",
      " ************ Total_EMI_per_month ************** \n",
      " [4.95749492e+01 1.88162146e+01 2.46992320e+02 ... 1.21120000e+04\n",
      " 3.51040226e+01 5.86380000e+04]\n",
      "\n",
      " ************ Amount_invested_monthly ************** \n",
      " ['80.41529544' '118.2802216' '81.69952126' ... '24.02847745' '251.6725822'\n",
      " '167.1638652']\n",
      "\n",
      " ************ Payment_Behaviour ************** \n",
      " ['High_spent_Small_value_payments' 'Low_spent_Large_value_payments'\n",
      " 'Low_spent_Medium_value_payments' 'Low_spent_Small_value_payments'\n",
      " 'High_spent_Medium_value_payments' '!@9#%8'\n",
      " 'High_spent_Large_value_payments']\n",
      "\n",
      " ************ Monthly_Balance ************** \n",
      " ['312.4940887' '284.6291625' '331.2098629' ... '516.8090833' '319.1649785'\n",
      " '393.6736956']\n",
      "\n",
      " ************ Credit_Score ************** \n",
      " ['Good' 'Standard' 'Poor']\n"
     ]
    }
   ],
   "source": [
    "# Check unique for missing value or incorrect data\n",
    "for i in train_df:\n",
    "  print('\\n',\"************\",i,\"**************\",'\\n',train_df[i].unique())"
   ]
  },
  {
   "cell_type": "code",
   "execution_count": 16,
   "id": "5395a0c9",
   "metadata": {},
   "outputs": [],
   "source": [
    "#Separating numerical and categorical columns\n",
    "num_cols = train_df.select_dtypes(include=np.number)\n",
    "cat_cols = train_df.select_dtypes(include='object')"
   ]
  },
  {
   "cell_type": "code",
   "execution_count": 17,
   "id": "c9f1a7e6",
   "metadata": {},
   "outputs": [
    {
     "data": {
      "text/plain": [
       "Index(['Monthly_Inhand_Salary', 'Num_Bank_Accounts', 'Num_Credit_Card',\n",
       "       'Interest_Rate', 'Delay_from_due_date', 'Num_Credit_Inquiries',\n",
       "       'Credit_Utilization_Ratio', 'Total_EMI_per_month'],\n",
       "      dtype='object')"
      ]
     },
     "execution_count": 17,
     "metadata": {},
     "output_type": "execute_result"
    }
   ],
   "source": [
    "num_cols.columns"
   ]
  },
  {
   "cell_type": "code",
   "execution_count": 18,
   "id": "95577a13",
   "metadata": {},
   "outputs": [
    {
     "data": {
      "text/plain": [
       "Index(['ID', 'Customer_ID', 'Month', 'Name', 'Age', 'SSN', 'Occupation',\n",
       "       'Annual_Income', 'Num_of_Loan', 'Type_of_Loan',\n",
       "       'Num_of_Delayed_Payment', 'Changed_Credit_Limit', 'Credit_Mix',\n",
       "       'Outstanding_Debt', 'Credit_History_Age', 'Payment_of_Min_Amount',\n",
       "       'Amount_invested_monthly', 'Payment_Behaviour', 'Monthly_Balance',\n",
       "       'Credit_Score'],\n",
       "      dtype='object')"
      ]
     },
     "execution_count": 18,
     "metadata": {},
     "output_type": "execute_result"
    }
   ],
   "source": [
    "cat_cols.columns"
   ]
  },
  {
   "cell_type": "markdown",
   "id": "00d2ea1a",
   "metadata": {},
   "source": [
    "# Data Preprocessing"
   ]
  },
  {
   "cell_type": "code",
   "execution_count": 19,
   "id": "d30a63a0",
   "metadata": {},
   "outputs": [],
   "source": [
    "train_df = train_df.applymap(lambda x: x if x is np.NaN or not isinstance(x, str) else str(x).strip('_ ,\"')).replace(['', 'nan', '!@9#%8', '#F%$D@*&8'], np.NaN)"
   ]
  },
  {
   "cell_type": "markdown",
   "id": "2e99f97e",
   "metadata": {},
   "source": [
    "# Remove Unnecessary columns"
   ]
  },
  {
   "cell_type": "code",
   "execution_count": 20,
   "id": "806964e8",
   "metadata": {},
   "outputs": [],
   "source": [
    "train = train_df.drop([\"ID\",'SSN','Name'], axis=1)"
   ]
  },
  {
   "cell_type": "code",
   "execution_count": 21,
   "id": "ca17b5d8",
   "metadata": {},
   "outputs": [
    {
     "data": {
      "text/plain": [
       "(100000, 25)"
      ]
     },
     "execution_count": 21,
     "metadata": {},
     "output_type": "execute_result"
    }
   ],
   "source": [
    "train.shape"
   ]
  },
  {
   "cell_type": "markdown",
   "id": "520b0938",
   "metadata": {},
   "source": [
    "# Edit columns and Datatype"
   ]
  },
  {
   "cell_type": "code",
   "execution_count": 22,
   "id": "99396de2",
   "metadata": {},
   "outputs": [],
   "source": [
    "train['Customer_ID'] = train.Customer_ID.apply(lambda x: int(x[4:], 16))"
   ]
  },
  {
   "cell_type": "code",
   "execution_count": 23,
   "id": "1c444f20",
   "metadata": {},
   "outputs": [],
   "source": [
    "train['Age'] = train.Age.astype(int)"
   ]
  },
  {
   "cell_type": "code",
   "execution_count": 24,
   "id": "eaf08c01",
   "metadata": {},
   "outputs": [],
   "source": [
    "train['Annual_Income'] = train.Annual_Income.astype(float)"
   ]
  },
  {
   "cell_type": "code",
   "execution_count": 25,
   "id": "fe2f06e3",
   "metadata": {},
   "outputs": [],
   "source": [
    "train['Num_of_Loan'] = train.Num_of_Loan.astype(int)"
   ]
  },
  {
   "cell_type": "code",
   "execution_count": 26,
   "id": "7928e25f",
   "metadata": {},
   "outputs": [],
   "source": [
    "train['Num_of_Delayed_Payment'] = train.Num_of_Delayed_Payment.astype(float)"
   ]
  },
  {
   "cell_type": "code",
   "execution_count": 27,
   "id": "c3881f06",
   "metadata": {},
   "outputs": [],
   "source": [
    "train['Changed_Credit_Limit'] = train.Changed_Credit_Limit.astype(float)"
   ]
  },
  {
   "cell_type": "code",
   "execution_count": 28,
   "id": "b40b4ace",
   "metadata": {},
   "outputs": [],
   "source": [
    "train['Outstanding_Debt'] = train.Outstanding_Debt.astype(float)"
   ]
  },
  {
   "cell_type": "code",
   "execution_count": 29,
   "id": "9bbb58a4",
   "metadata": {},
   "outputs": [],
   "source": [
    "train['Amount_invested_monthly'] = train.Amount_invested_monthly.astype(float)"
   ]
  },
  {
   "cell_type": "code",
   "execution_count": 30,
   "id": "d7aba043",
   "metadata": {},
   "outputs": [],
   "source": [
    "train['Monthly_Balance'] = train.Monthly_Balance.astype(float)"
   ]
  },
  {
   "cell_type": "code",
   "execution_count": 31,
   "id": "1deaf5d5",
   "metadata": {},
   "outputs": [],
   "source": [
    "def Month_Converter(x):\n",
    "    if pd.notnull(x):\n",
    "        num1 = int(x.split(' ')[0])\n",
    "        num2 = int(x.split(' ')[3])\n",
    "      \n",
    "        return num1*12+num2\n",
    "    else:\n",
    "        return x"
   ]
  },
  {
   "cell_type": "code",
   "execution_count": 32,
   "id": "e8edab9e",
   "metadata": {},
   "outputs": [],
   "source": [
    "train['Credit_History_Age'] = train.Credit_History_Age.apply(lambda x: Month_Converter(x)).astype(float)"
   ]
  },
  {
   "cell_type": "code",
   "execution_count": 33,
   "id": "15e7c0cc",
   "metadata": {},
   "outputs": [],
   "source": [
    "num_cols1 = train.select_dtypes(include=np.number)\n",
    "cat_cols1 = train.select_dtypes(include='object')"
   ]
  },
  {
   "cell_type": "code",
   "execution_count": 34,
   "id": "1e7248c9",
   "metadata": {},
   "outputs": [
    {
     "data": {
      "text/html": [
       "<div>\n",
       "<style scoped>\n",
       "    .dataframe tbody tr th:only-of-type {\n",
       "        vertical-align: middle;\n",
       "    }\n",
       "\n",
       "    .dataframe tbody tr th {\n",
       "        vertical-align: top;\n",
       "    }\n",
       "\n",
       "    .dataframe thead th {\n",
       "        text-align: right;\n",
       "    }\n",
       "</style>\n",
       "<table border=\"1\" class=\"dataframe\">\n",
       "  <thead>\n",
       "    <tr style=\"text-align: right;\">\n",
       "      <th></th>\n",
       "      <th>Customer_ID</th>\n",
       "      <th>Age</th>\n",
       "      <th>Annual_Income</th>\n",
       "      <th>Monthly_Inhand_Salary</th>\n",
       "      <th>Num_Bank_Accounts</th>\n",
       "      <th>Num_Credit_Card</th>\n",
       "      <th>Interest_Rate</th>\n",
       "      <th>Num_of_Loan</th>\n",
       "      <th>Delay_from_due_date</th>\n",
       "      <th>Num_of_Delayed_Payment</th>\n",
       "      <th>Changed_Credit_Limit</th>\n",
       "      <th>Num_Credit_Inquiries</th>\n",
       "      <th>Outstanding_Debt</th>\n",
       "      <th>Credit_Utilization_Ratio</th>\n",
       "      <th>Credit_History_Age</th>\n",
       "      <th>Total_EMI_per_month</th>\n",
       "      <th>Amount_invested_monthly</th>\n",
       "      <th>Monthly_Balance</th>\n",
       "    </tr>\n",
       "  </thead>\n",
       "  <tbody>\n",
       "    <tr>\n",
       "      <th>0</th>\n",
       "      <td>3392</td>\n",
       "      <td>23</td>\n",
       "      <td>19114.12</td>\n",
       "      <td>1824.843333</td>\n",
       "      <td>3</td>\n",
       "      <td>4</td>\n",
       "      <td>3</td>\n",
       "      <td>4</td>\n",
       "      <td>3</td>\n",
       "      <td>7.0</td>\n",
       "      <td>11.27</td>\n",
       "      <td>4.0</td>\n",
       "      <td>809.98</td>\n",
       "      <td>26.822620</td>\n",
       "      <td>265.0</td>\n",
       "      <td>49.574949</td>\n",
       "      <td>80.415295</td>\n",
       "      <td>312.494089</td>\n",
       "    </tr>\n",
       "    <tr>\n",
       "      <th>1</th>\n",
       "      <td>3392</td>\n",
       "      <td>23</td>\n",
       "      <td>19114.12</td>\n",
       "      <td>NaN</td>\n",
       "      <td>3</td>\n",
       "      <td>4</td>\n",
       "      <td>3</td>\n",
       "      <td>4</td>\n",
       "      <td>-1</td>\n",
       "      <td>NaN</td>\n",
       "      <td>11.27</td>\n",
       "      <td>4.0</td>\n",
       "      <td>809.98</td>\n",
       "      <td>31.944960</td>\n",
       "      <td>NaN</td>\n",
       "      <td>49.574949</td>\n",
       "      <td>118.280222</td>\n",
       "      <td>284.629163</td>\n",
       "    </tr>\n",
       "    <tr>\n",
       "      <th>2</th>\n",
       "      <td>3392</td>\n",
       "      <td>-500</td>\n",
       "      <td>19114.12</td>\n",
       "      <td>NaN</td>\n",
       "      <td>3</td>\n",
       "      <td>4</td>\n",
       "      <td>3</td>\n",
       "      <td>4</td>\n",
       "      <td>3</td>\n",
       "      <td>7.0</td>\n",
       "      <td>NaN</td>\n",
       "      <td>4.0</td>\n",
       "      <td>809.98</td>\n",
       "      <td>28.609352</td>\n",
       "      <td>267.0</td>\n",
       "      <td>49.574949</td>\n",
       "      <td>81.699521</td>\n",
       "      <td>331.209863</td>\n",
       "    </tr>\n",
       "    <tr>\n",
       "      <th>3</th>\n",
       "      <td>3392</td>\n",
       "      <td>23</td>\n",
       "      <td>19114.12</td>\n",
       "      <td>NaN</td>\n",
       "      <td>3</td>\n",
       "      <td>4</td>\n",
       "      <td>3</td>\n",
       "      <td>4</td>\n",
       "      <td>5</td>\n",
       "      <td>4.0</td>\n",
       "      <td>6.27</td>\n",
       "      <td>4.0</td>\n",
       "      <td>809.98</td>\n",
       "      <td>31.377862</td>\n",
       "      <td>268.0</td>\n",
       "      <td>49.574949</td>\n",
       "      <td>199.458074</td>\n",
       "      <td>223.451310</td>\n",
       "    </tr>\n",
       "    <tr>\n",
       "      <th>4</th>\n",
       "      <td>3392</td>\n",
       "      <td>23</td>\n",
       "      <td>19114.12</td>\n",
       "      <td>1824.843333</td>\n",
       "      <td>3</td>\n",
       "      <td>4</td>\n",
       "      <td>3</td>\n",
       "      <td>4</td>\n",
       "      <td>6</td>\n",
       "      <td>NaN</td>\n",
       "      <td>11.27</td>\n",
       "      <td>4.0</td>\n",
       "      <td>809.98</td>\n",
       "      <td>24.797347</td>\n",
       "      <td>269.0</td>\n",
       "      <td>49.574949</td>\n",
       "      <td>41.420153</td>\n",
       "      <td>341.489231</td>\n",
       "    </tr>\n",
       "    <tr>\n",
       "      <th>...</th>\n",
       "      <td>...</td>\n",
       "      <td>...</td>\n",
       "      <td>...</td>\n",
       "      <td>...</td>\n",
       "      <td>...</td>\n",
       "      <td>...</td>\n",
       "      <td>...</td>\n",
       "      <td>...</td>\n",
       "      <td>...</td>\n",
       "      <td>...</td>\n",
       "      <td>...</td>\n",
       "      <td>...</td>\n",
       "      <td>...</td>\n",
       "      <td>...</td>\n",
       "      <td>...</td>\n",
       "      <td>...</td>\n",
       "      <td>...</td>\n",
       "      <td>...</td>\n",
       "    </tr>\n",
       "    <tr>\n",
       "      <th>99995</th>\n",
       "      <td>37932</td>\n",
       "      <td>25</td>\n",
       "      <td>39628.99</td>\n",
       "      <td>3359.415833</td>\n",
       "      <td>4</td>\n",
       "      <td>6</td>\n",
       "      <td>7</td>\n",
       "      <td>2</td>\n",
       "      <td>23</td>\n",
       "      <td>7.0</td>\n",
       "      <td>11.50</td>\n",
       "      <td>3.0</td>\n",
       "      <td>502.38</td>\n",
       "      <td>34.663572</td>\n",
       "      <td>378.0</td>\n",
       "      <td>35.104023</td>\n",
       "      <td>60.971333</td>\n",
       "      <td>479.866228</td>\n",
       "    </tr>\n",
       "    <tr>\n",
       "      <th>99996</th>\n",
       "      <td>37932</td>\n",
       "      <td>25</td>\n",
       "      <td>39628.99</td>\n",
       "      <td>3359.415833</td>\n",
       "      <td>4</td>\n",
       "      <td>6</td>\n",
       "      <td>7</td>\n",
       "      <td>2</td>\n",
       "      <td>18</td>\n",
       "      <td>7.0</td>\n",
       "      <td>11.50</td>\n",
       "      <td>3.0</td>\n",
       "      <td>502.38</td>\n",
       "      <td>40.565631</td>\n",
       "      <td>379.0</td>\n",
       "      <td>35.104023</td>\n",
       "      <td>54.185950</td>\n",
       "      <td>496.651610</td>\n",
       "    </tr>\n",
       "    <tr>\n",
       "      <th>99997</th>\n",
       "      <td>37932</td>\n",
       "      <td>25</td>\n",
       "      <td>39628.99</td>\n",
       "      <td>3359.415833</td>\n",
       "      <td>4</td>\n",
       "      <td>6</td>\n",
       "      <td>5729</td>\n",
       "      <td>2</td>\n",
       "      <td>27</td>\n",
       "      <td>6.0</td>\n",
       "      <td>11.50</td>\n",
       "      <td>3.0</td>\n",
       "      <td>502.38</td>\n",
       "      <td>41.255522</td>\n",
       "      <td>380.0</td>\n",
       "      <td>35.104023</td>\n",
       "      <td>24.028477</td>\n",
       "      <td>516.809083</td>\n",
       "    </tr>\n",
       "    <tr>\n",
       "      <th>99998</th>\n",
       "      <td>37932</td>\n",
       "      <td>25</td>\n",
       "      <td>39628.99</td>\n",
       "      <td>3359.415833</td>\n",
       "      <td>4</td>\n",
       "      <td>6</td>\n",
       "      <td>7</td>\n",
       "      <td>2</td>\n",
       "      <td>20</td>\n",
       "      <td>NaN</td>\n",
       "      <td>11.50</td>\n",
       "      <td>3.0</td>\n",
       "      <td>502.38</td>\n",
       "      <td>33.638208</td>\n",
       "      <td>381.0</td>\n",
       "      <td>35.104023</td>\n",
       "      <td>251.672582</td>\n",
       "      <td>319.164979</td>\n",
       "    </tr>\n",
       "    <tr>\n",
       "      <th>99999</th>\n",
       "      <td>37932</td>\n",
       "      <td>25</td>\n",
       "      <td>39628.99</td>\n",
       "      <td>3359.415833</td>\n",
       "      <td>4</td>\n",
       "      <td>6</td>\n",
       "      <td>7</td>\n",
       "      <td>2</td>\n",
       "      <td>18</td>\n",
       "      <td>6.0</td>\n",
       "      <td>11.50</td>\n",
       "      <td>3.0</td>\n",
       "      <td>502.38</td>\n",
       "      <td>34.192463</td>\n",
       "      <td>382.0</td>\n",
       "      <td>35.104023</td>\n",
       "      <td>167.163865</td>\n",
       "      <td>393.673696</td>\n",
       "    </tr>\n",
       "  </tbody>\n",
       "</table>\n",
       "<p>100000 rows × 18 columns</p>\n",
       "</div>"
      ],
      "text/plain": [
       "       Customer_ID  Age  Annual_Income  Monthly_Inhand_Salary  \\\n",
       "0             3392   23       19114.12            1824.843333   \n",
       "1             3392   23       19114.12                    NaN   \n",
       "2             3392 -500       19114.12                    NaN   \n",
       "3             3392   23       19114.12                    NaN   \n",
       "4             3392   23       19114.12            1824.843333   \n",
       "...            ...  ...            ...                    ...   \n",
       "99995        37932   25       39628.99            3359.415833   \n",
       "99996        37932   25       39628.99            3359.415833   \n",
       "99997        37932   25       39628.99            3359.415833   \n",
       "99998        37932   25       39628.99            3359.415833   \n",
       "99999        37932   25       39628.99            3359.415833   \n",
       "\n",
       "       Num_Bank_Accounts  Num_Credit_Card  Interest_Rate  Num_of_Loan  \\\n",
       "0                      3                4              3            4   \n",
       "1                      3                4              3            4   \n",
       "2                      3                4              3            4   \n",
       "3                      3                4              3            4   \n",
       "4                      3                4              3            4   \n",
       "...                  ...              ...            ...          ...   \n",
       "99995                  4                6              7            2   \n",
       "99996                  4                6              7            2   \n",
       "99997                  4                6           5729            2   \n",
       "99998                  4                6              7            2   \n",
       "99999                  4                6              7            2   \n",
       "\n",
       "       Delay_from_due_date  Num_of_Delayed_Payment  Changed_Credit_Limit  \\\n",
       "0                        3                     7.0                 11.27   \n",
       "1                       -1                     NaN                 11.27   \n",
       "2                        3                     7.0                   NaN   \n",
       "3                        5                     4.0                  6.27   \n",
       "4                        6                     NaN                 11.27   \n",
       "...                    ...                     ...                   ...   \n",
       "99995                   23                     7.0                 11.50   \n",
       "99996                   18                     7.0                 11.50   \n",
       "99997                   27                     6.0                 11.50   \n",
       "99998                   20                     NaN                 11.50   \n",
       "99999                   18                     6.0                 11.50   \n",
       "\n",
       "       Num_Credit_Inquiries  Outstanding_Debt  Credit_Utilization_Ratio  \\\n",
       "0                       4.0            809.98                 26.822620   \n",
       "1                       4.0            809.98                 31.944960   \n",
       "2                       4.0            809.98                 28.609352   \n",
       "3                       4.0            809.98                 31.377862   \n",
       "4                       4.0            809.98                 24.797347   \n",
       "...                     ...               ...                       ...   \n",
       "99995                   3.0            502.38                 34.663572   \n",
       "99996                   3.0            502.38                 40.565631   \n",
       "99997                   3.0            502.38                 41.255522   \n",
       "99998                   3.0            502.38                 33.638208   \n",
       "99999                   3.0            502.38                 34.192463   \n",
       "\n",
       "       Credit_History_Age  Total_EMI_per_month  Amount_invested_monthly  \\\n",
       "0                   265.0            49.574949                80.415295   \n",
       "1                     NaN            49.574949               118.280222   \n",
       "2                   267.0            49.574949                81.699521   \n",
       "3                   268.0            49.574949               199.458074   \n",
       "4                   269.0            49.574949                41.420153   \n",
       "...                   ...                  ...                      ...   \n",
       "99995               378.0            35.104023                60.971333   \n",
       "99996               379.0            35.104023                54.185950   \n",
       "99997               380.0            35.104023                24.028477   \n",
       "99998               381.0            35.104023               251.672582   \n",
       "99999               382.0            35.104023               167.163865   \n",
       "\n",
       "       Monthly_Balance  \n",
       "0           312.494089  \n",
       "1           284.629163  \n",
       "2           331.209863  \n",
       "3           223.451310  \n",
       "4           341.489231  \n",
       "...                ...  \n",
       "99995       479.866228  \n",
       "99996       496.651610  \n",
       "99997       516.809083  \n",
       "99998       319.164979  \n",
       "99999       393.673696  \n",
       "\n",
       "[100000 rows x 18 columns]"
      ]
     },
     "execution_count": 34,
     "metadata": {},
     "output_type": "execute_result"
    }
   ],
   "source": [
    "num_cols1"
   ]
  },
  {
   "cell_type": "code",
   "execution_count": 35,
   "id": "4906141d",
   "metadata": {},
   "outputs": [
    {
     "data": {
      "text/html": [
       "<div>\n",
       "<style scoped>\n",
       "    .dataframe tbody tr th:only-of-type {\n",
       "        vertical-align: middle;\n",
       "    }\n",
       "\n",
       "    .dataframe tbody tr th {\n",
       "        vertical-align: top;\n",
       "    }\n",
       "\n",
       "    .dataframe thead th {\n",
       "        text-align: right;\n",
       "    }\n",
       "</style>\n",
       "<table border=\"1\" class=\"dataframe\">\n",
       "  <thead>\n",
       "    <tr style=\"text-align: right;\">\n",
       "      <th></th>\n",
       "      <th>Month</th>\n",
       "      <th>Occupation</th>\n",
       "      <th>Type_of_Loan</th>\n",
       "      <th>Credit_Mix</th>\n",
       "      <th>Payment_of_Min_Amount</th>\n",
       "      <th>Payment_Behaviour</th>\n",
       "      <th>Credit_Score</th>\n",
       "    </tr>\n",
       "  </thead>\n",
       "  <tbody>\n",
       "    <tr>\n",
       "      <th>0</th>\n",
       "      <td>January</td>\n",
       "      <td>Scientist</td>\n",
       "      <td>Auto Loan, Credit-Builder Loan, Personal Loan,...</td>\n",
       "      <td>NaN</td>\n",
       "      <td>No</td>\n",
       "      <td>High_spent_Small_value_payments</td>\n",
       "      <td>Good</td>\n",
       "    </tr>\n",
       "    <tr>\n",
       "      <th>1</th>\n",
       "      <td>February</td>\n",
       "      <td>Scientist</td>\n",
       "      <td>Auto Loan, Credit-Builder Loan, Personal Loan,...</td>\n",
       "      <td>Good</td>\n",
       "      <td>No</td>\n",
       "      <td>Low_spent_Large_value_payments</td>\n",
       "      <td>Good</td>\n",
       "    </tr>\n",
       "    <tr>\n",
       "      <th>2</th>\n",
       "      <td>March</td>\n",
       "      <td>Scientist</td>\n",
       "      <td>Auto Loan, Credit-Builder Loan, Personal Loan,...</td>\n",
       "      <td>Good</td>\n",
       "      <td>No</td>\n",
       "      <td>Low_spent_Medium_value_payments</td>\n",
       "      <td>Good</td>\n",
       "    </tr>\n",
       "    <tr>\n",
       "      <th>3</th>\n",
       "      <td>April</td>\n",
       "      <td>Scientist</td>\n",
       "      <td>Auto Loan, Credit-Builder Loan, Personal Loan,...</td>\n",
       "      <td>Good</td>\n",
       "      <td>No</td>\n",
       "      <td>Low_spent_Small_value_payments</td>\n",
       "      <td>Good</td>\n",
       "    </tr>\n",
       "    <tr>\n",
       "      <th>4</th>\n",
       "      <td>May</td>\n",
       "      <td>Scientist</td>\n",
       "      <td>Auto Loan, Credit-Builder Loan, Personal Loan,...</td>\n",
       "      <td>Good</td>\n",
       "      <td>No</td>\n",
       "      <td>High_spent_Medium_value_payments</td>\n",
       "      <td>Good</td>\n",
       "    </tr>\n",
       "    <tr>\n",
       "      <th>...</th>\n",
       "      <td>...</td>\n",
       "      <td>...</td>\n",
       "      <td>...</td>\n",
       "      <td>...</td>\n",
       "      <td>...</td>\n",
       "      <td>...</td>\n",
       "      <td>...</td>\n",
       "    </tr>\n",
       "    <tr>\n",
       "      <th>99995</th>\n",
       "      <td>April</td>\n",
       "      <td>Mechanic</td>\n",
       "      <td>Auto Loan, and Student Loan</td>\n",
       "      <td>NaN</td>\n",
       "      <td>No</td>\n",
       "      <td>High_spent_Large_value_payments</td>\n",
       "      <td>Poor</td>\n",
       "    </tr>\n",
       "    <tr>\n",
       "      <th>99996</th>\n",
       "      <td>May</td>\n",
       "      <td>Mechanic</td>\n",
       "      <td>Auto Loan, and Student Loan</td>\n",
       "      <td>NaN</td>\n",
       "      <td>No</td>\n",
       "      <td>High_spent_Medium_value_payments</td>\n",
       "      <td>Poor</td>\n",
       "    </tr>\n",
       "    <tr>\n",
       "      <th>99997</th>\n",
       "      <td>June</td>\n",
       "      <td>Mechanic</td>\n",
       "      <td>Auto Loan, and Student Loan</td>\n",
       "      <td>Good</td>\n",
       "      <td>No</td>\n",
       "      <td>High_spent_Large_value_payments</td>\n",
       "      <td>Poor</td>\n",
       "    </tr>\n",
       "    <tr>\n",
       "      <th>99998</th>\n",
       "      <td>July</td>\n",
       "      <td>Mechanic</td>\n",
       "      <td>Auto Loan, and Student Loan</td>\n",
       "      <td>Good</td>\n",
       "      <td>No</td>\n",
       "      <td>Low_spent_Large_value_payments</td>\n",
       "      <td>Standard</td>\n",
       "    </tr>\n",
       "    <tr>\n",
       "      <th>99999</th>\n",
       "      <td>August</td>\n",
       "      <td>Mechanic</td>\n",
       "      <td>Auto Loan, and Student Loan</td>\n",
       "      <td>Good</td>\n",
       "      <td>No</td>\n",
       "      <td>NaN</td>\n",
       "      <td>Poor</td>\n",
       "    </tr>\n",
       "  </tbody>\n",
       "</table>\n",
       "<p>100000 rows × 7 columns</p>\n",
       "</div>"
      ],
      "text/plain": [
       "          Month Occupation                                       Type_of_Loan  \\\n",
       "0       January  Scientist  Auto Loan, Credit-Builder Loan, Personal Loan,...   \n",
       "1      February  Scientist  Auto Loan, Credit-Builder Loan, Personal Loan,...   \n",
       "2         March  Scientist  Auto Loan, Credit-Builder Loan, Personal Loan,...   \n",
       "3         April  Scientist  Auto Loan, Credit-Builder Loan, Personal Loan,...   \n",
       "4           May  Scientist  Auto Loan, Credit-Builder Loan, Personal Loan,...   \n",
       "...         ...        ...                                                ...   \n",
       "99995     April   Mechanic                        Auto Loan, and Student Loan   \n",
       "99996       May   Mechanic                        Auto Loan, and Student Loan   \n",
       "99997      June   Mechanic                        Auto Loan, and Student Loan   \n",
       "99998      July   Mechanic                        Auto Loan, and Student Loan   \n",
       "99999    August   Mechanic                        Auto Loan, and Student Loan   \n",
       "\n",
       "      Credit_Mix Payment_of_Min_Amount                 Payment_Behaviour  \\\n",
       "0            NaN                    No   High_spent_Small_value_payments   \n",
       "1           Good                    No    Low_spent_Large_value_payments   \n",
       "2           Good                    No   Low_spent_Medium_value_payments   \n",
       "3           Good                    No    Low_spent_Small_value_payments   \n",
       "4           Good                    No  High_spent_Medium_value_payments   \n",
       "...          ...                   ...                               ...   \n",
       "99995        NaN                    No   High_spent_Large_value_payments   \n",
       "99996        NaN                    No  High_spent_Medium_value_payments   \n",
       "99997       Good                    No   High_spent_Large_value_payments   \n",
       "99998       Good                    No    Low_spent_Large_value_payments   \n",
       "99999       Good                    No                               NaN   \n",
       "\n",
       "      Credit_Score  \n",
       "0             Good  \n",
       "1             Good  \n",
       "2             Good  \n",
       "3             Good  \n",
       "4             Good  \n",
       "...            ...  \n",
       "99995         Poor  \n",
       "99996         Poor  \n",
       "99997         Poor  \n",
       "99998     Standard  \n",
       "99999         Poor  \n",
       "\n",
       "[100000 rows x 7 columns]"
      ]
     },
     "execution_count": 35,
     "metadata": {},
     "output_type": "execute_result"
    }
   ],
   "source": [
    "cat_cols1"
   ]
  },
  {
   "cell_type": "markdown",
   "id": "817bce0b",
   "metadata": {},
   "source": [
    "# Checking Missing Values in columns"
   ]
  },
  {
   "cell_type": "code",
   "execution_count": 36,
   "id": "68c106b2",
   "metadata": {
    "scrolled": true
   },
   "outputs": [
    {
     "data": {
      "text/plain": [
       "Occupation                  7062\n",
       "Monthly_Inhand_Salary      15002\n",
       "Type_of_Loan               11408\n",
       "Num_of_Delayed_Payment      7002\n",
       "Changed_Credit_Limit        2091\n",
       "Num_Credit_Inquiries        1965\n",
       "Credit_Mix                 20195\n",
       "Credit_History_Age          9030\n",
       "Amount_invested_monthly     4479\n",
       "Payment_Behaviour           7600\n",
       "Monthly_Balance             1200\n",
       "dtype: int64"
      ]
     },
     "execution_count": 36,
     "metadata": {},
     "output_type": "execute_result"
    }
   ],
   "source": [
    "def missing_value_columns (data):\n",
    "    miss_cols = (data.isnull().sum())\n",
    "    return miss_cols[miss_cols>0]\n",
    "\n",
    "missing_value_columns(train)"
   ]
  },
  {
   "cell_type": "code",
   "execution_count": 37,
   "id": "1004d774",
   "metadata": {},
   "outputs": [
    {
     "data": {
      "text/plain": [
       "Index(['Occupation', 'Monthly_Inhand_Salary', 'Type_of_Loan',\n",
       "       'Num_of_Delayed_Payment', 'Changed_Credit_Limit',\n",
       "       'Num_Credit_Inquiries', 'Credit_Mix', 'Credit_History_Age',\n",
       "       'Amount_invested_monthly', 'Payment_Behaviour', 'Monthly_Balance'],\n",
       "      dtype='object')"
      ]
     },
     "execution_count": 37,
     "metadata": {},
     "output_type": "execute_result"
    }
   ],
   "source": [
    "miss_cols = (train.isnull().sum())\n",
    "(miss_cols[miss_cols>0]).index"
   ]
  },
  {
   "cell_type": "markdown",
   "id": "a25a4e1f",
   "metadata": {},
   "source": [
    "# Otliers Detection & Filling null values"
   ]
  },
  {
   "cell_type": "code",
   "execution_count": 38,
   "id": "f8d1f589",
   "metadata": {},
   "outputs": [
    {
     "data": {
      "text/plain": [
       "['Monthly_Inhand_Salary',\n",
       " 'Num_of_Delayed_Payment',\n",
       " 'Changed_Credit_Limit',\n",
       " 'Num_Credit_Inquiries',\n",
       " 'Credit_History_Age',\n",
       " 'Amount_invested_monthly',\n",
       " 'Monthly_Balance']"
      ]
     },
     "execution_count": 38,
     "metadata": {},
     "output_type": "execute_result"
    }
   ],
   "source": [
    "miss_num_cols = list(train[(miss_cols[miss_cols>0]).index].select_dtypes(include=['int64','float64']).columns)\n",
    "miss_num_cols"
   ]
  },
  {
   "cell_type": "markdown",
   "id": "ea8b28b1",
   "metadata": {},
   "source": [
    "# Boxplot"
   ]
  },
  {
   "cell_type": "code",
   "execution_count": 39,
   "id": "548298f8",
   "metadata": {},
   "outputs": [
    {
     "data": {
      "image/png": "[encoded data removed]",
      "text/plain": [
       "<Figure size 1440x1440 with 9 Axes>"
      ]
     },
     "metadata": {
      "needs_background": "light"
     },
     "output_type": "display_data"
    }
   ],
   "source": [
    "fig, axes = plt.subplots(nrows=3, ncols=3, figsize=(20, 20))\n",
    "for i, column in enumerate(miss_num_cols):\n",
    "    row = i // 3\n",
    "    col = i % 3\n",
    "    if row < 5:\n",
    "        ax = axes[row][col]\n",
    "        ax.boxplot(train[column].dropna(), vert=False)\n",
    "        ax.set_xlabel(column)\n",
    "plt.show()"
   ]
  },
  {
   "cell_type": "markdown",
   "id": "cb5f1d91",
   "metadata": {},
   "source": [
    "# Removing Null values from numerical columns"
   ]
  },
  {
   "cell_type": "markdown",
   "id": "2eac153a",
   "metadata": {},
   "source": [
    "# Monthly_Inhand_Salary"
   ]
  },
  {
   "cell_type": "code",
   "execution_count": 40,
   "id": "ab9ed394",
   "metadata": {},
   "outputs": [],
   "source": [
    "def get_Monthly_Inhand_Salary(row):\n",
    "    if pd.isnull(row['Monthly_Inhand_Salary']):\n",
    "        Monthly_Inhand_Salary=(train[train['Customer_ID']==row['Customer_ID']]['Monthly_Inhand_Salary'].dropna()).mode()\n",
    "        try:\n",
    "            return Monthly_Inhand_Salary[0]\n",
    "        except:\n",
    "            return np.NaN\n",
    "    else:\n",
    "        return row['Monthly_Inhand_Salary']"
   ]
  },
  {
   "cell_type": "code",
   "execution_count": 41,
   "id": "bbf18cc8",
   "metadata": {},
   "outputs": [],
   "source": [
    "train['Monthly_Inhand_Salary']=train.apply(get_Monthly_Inhand_Salary,axis=1)"
   ]
  },
  {
   "cell_type": "code",
   "execution_count": 42,
   "id": "909be642",
   "metadata": {},
   "outputs": [
    {
     "name": "stdout",
     "output_type": "stream",
     "text": [
      "(1718, 25)\n"
     ]
    }
   ],
   "source": [
    "#Detect Outliers\n",
    "print(train[train['Monthly_Inhand_Salary']>= 12900].shape)\n",
    "train=train[train.Monthly_Inhand_Salary < 125900]"
   ]
  },
  {
   "cell_type": "code",
   "execution_count": 43,
   "id": "059bfa9a",
   "metadata": {},
   "outputs": [
    {
     "data": {
      "text/plain": [
       "(100000, 25)"
      ]
     },
     "execution_count": 43,
     "metadata": {},
     "output_type": "execute_result"
    }
   ],
   "source": [
    "train.shape"
   ]
  },
  {
   "cell_type": "markdown",
   "id": "2063ebff",
   "metadata": {},
   "source": [
    "# Num_of_Delayed_Payment"
   ]
  },
  {
   "cell_type": "code",
   "execution_count": 44,
   "id": "72ad50ce",
   "metadata": {},
   "outputs": [],
   "source": [
    "def get_Num_of_Delayed_Payment(row):\n",
    "    if pd.isnull(row['Num_of_Delayed_Payment']):\n",
    "        Num_of_Delayed_Payment=(train[train['Customer_ID']==row['Customer_ID']]['Num_of_Delayed_Payment'].dropna()).mode()\n",
    "        try:\n",
    "            return Num_of_Delayed_Payment[0]\n",
    "        except:\n",
    "            return np.NaN\n",
    "    else:\n",
    "        return row['Num_of_Delayed_Payment']"
   ]
  },
  {
   "cell_type": "code",
   "execution_count": 45,
   "id": "78d2a1ae",
   "metadata": {},
   "outputs": [],
   "source": [
    "train['Num_of_Delayed_Payment']=train.apply(get_Num_of_Delayed_Payment,axis=1)"
   ]
  },
  {
   "cell_type": "code",
   "execution_count": 46,
   "id": "fd4f468e",
   "metadata": {},
   "outputs": [
    {
     "name": "stdout",
     "output_type": "stream",
     "text": [
      "(733, 25)\n",
      "(654, 25)\n"
     ]
    }
   ],
   "source": [
    "print(train[train['Num_of_Delayed_Payment']>=50].shape)\n",
    "print(train[train['Num_of_Delayed_Payment'] < 0].shape)\n",
    "train=train[train['Num_of_Delayed_Payment']< 50]\n",
    "train=train[train['Num_of_Delayed_Payment'] >= 0]"
   ]
  },
  {
   "cell_type": "code",
   "execution_count": 47,
   "id": "85e4f3c3",
   "metadata": {},
   "outputs": [
    {
     "data": {
      "text/plain": [
       "(98613, 25)"
      ]
     },
     "execution_count": 47,
     "metadata": {},
     "output_type": "execute_result"
    }
   ],
   "source": [
    "train.shape"
   ]
  },
  {
   "cell_type": "markdown",
   "id": "7e439a15",
   "metadata": {},
   "source": [
    "# Changed_Credit_Limit"
   ]
  },
  {
   "cell_type": "code",
   "execution_count": 48,
   "id": "dbbd9047",
   "metadata": {},
   "outputs": [],
   "source": [
    "def get_Changed_Credit_Limit(row):\n",
    "    if pd.isnull(row['Changed_Credit_Limit']):\n",
    "        Changed_Credit_Limit=(train[train['Customer_ID']==row['Customer_ID']]['Changed_Credit_Limit'].dropna()).mode()\n",
    "        try:\n",
    "            return Changed_Credit_Limit[0]\n",
    "        except:\n",
    "            return np.NaN\n",
    "    else:\n",
    "        return row['Changed_Credit_Limit']"
   ]
  },
  {
   "cell_type": "code",
   "execution_count": 49,
   "id": "065f93e0",
   "metadata": {},
   "outputs": [],
   "source": [
    "train['Changed_Credit_Limit']=train.apply(get_Changed_Credit_Limit,axis=1)"
   ]
  },
  {
   "cell_type": "code",
   "execution_count": 50,
   "id": "1b5f5e7f",
   "metadata": {},
   "outputs": [
    {
     "name": "stdout",
     "output_type": "stream",
     "text": [
      "(254, 25)\n"
     ]
    }
   ],
   "source": [
    "print(train[train['Changed_Credit_Limit']>=30].shape)\n",
    "train=train[train['Changed_Credit_Limit'] < 30]"
   ]
  },
  {
   "cell_type": "code",
   "execution_count": 51,
   "id": "52d74801",
   "metadata": {},
   "outputs": [
    {
     "data": {
      "text/plain": [
       "(98359, 25)"
      ]
     },
     "execution_count": 51,
     "metadata": {},
     "output_type": "execute_result"
    }
   ],
   "source": [
    "train.shape"
   ]
  },
  {
   "cell_type": "markdown",
   "id": "10793bba",
   "metadata": {},
   "source": [
    "# Num_Credit_Inquiries"
   ]
  },
  {
   "cell_type": "code",
   "execution_count": 52,
   "id": "2ceab78c",
   "metadata": {},
   "outputs": [],
   "source": [
    "def get_Num_Credit_Inquiries(row):\n",
    "    if pd.isnull(row['Num_Credit_Inquiries']):\n",
    "        Num_Credit_Inquiries=(train[train['Customer_ID']==row['Customer_ID']]['Num_Credit_Inquiries'].dropna()).mode()\n",
    "        try:\n",
    "            return Num_Credit_Inquiries[0]\n",
    "        except:\n",
    "            return np.NaN\n",
    "    else:\n",
    "        return row['Num_Credit_Inquiries']"
   ]
  },
  {
   "cell_type": "code",
   "execution_count": 53,
   "id": "34904726",
   "metadata": {},
   "outputs": [],
   "source": [
    "train['Num_Credit_Inquiries']=train.apply(get_Num_Credit_Inquiries,axis=1)"
   ]
  },
  {
   "cell_type": "code",
   "execution_count": 54,
   "id": "0a987f22",
   "metadata": {},
   "outputs": [
    {
     "name": "stdout",
     "output_type": "stream",
     "text": [
      "(1624, 25)\n"
     ]
    }
   ],
   "source": [
    "print(train[train['Num_Credit_Inquiries']>=25].shape)\n",
    "train=train[train['Num_Credit_Inquiries']<25]"
   ]
  },
  {
   "cell_type": "code",
   "execution_count": 55,
   "id": "c152bbef",
   "metadata": {},
   "outputs": [
    {
     "data": {
      "text/plain": [
       "(96735, 25)"
      ]
     },
     "execution_count": 55,
     "metadata": {},
     "output_type": "execute_result"
    }
   ],
   "source": [
    "train.shape"
   ]
  },
  {
   "cell_type": "markdown",
   "id": "d8debc66",
   "metadata": {},
   "source": [
    "# Credit_History_Age"
   ]
  },
  {
   "cell_type": "code",
   "execution_count": 56,
   "id": "5ddf7e55",
   "metadata": {},
   "outputs": [],
   "source": [
    "def get_Credit_History_Age(row):\n",
    "    if pd.isnull(row['Credit_History_Age']):\n",
    "        Credit_History_Age=(train[train['Customer_ID']==row['Customer_ID']]['Credit_History_Age'].dropna()).mode()\n",
    "        try:\n",
    "            return Credit_History_Age[0]\n",
    "        except:\n",
    "            return np.NaN\n",
    "    else:\n",
    "        return row['Credit_History_Age']"
   ]
  },
  {
   "cell_type": "code",
   "execution_count": 57,
   "id": "43b5220d",
   "metadata": {},
   "outputs": [],
   "source": [
    "train['Credit_History_Age']=train.apply(get_Credit_History_Age,axis=1)"
   ]
  },
  {
   "cell_type": "markdown",
   "id": "eed35f18",
   "metadata": {},
   "source": [
    "# Amount_invested_monthly"
   ]
  },
  {
   "cell_type": "code",
   "execution_count": 58,
   "id": "7d3af7d0",
   "metadata": {},
   "outputs": [],
   "source": [
    "def get_Amount_invested_monthly(row):\n",
    "    if pd.isnull(row['Amount_invested_monthly']):\n",
    "        Amount_invested_monthly=(train[train['Customer_ID']==row['Customer_ID']]['Amount_invested_monthly'].dropna()).mode()\n",
    "        try:\n",
    "            return Amount_invested_monthly[0]\n",
    "        except:\n",
    "            return np.NaN\n",
    "    else:\n",
    "        return row['Amount_invested_monthly']"
   ]
  },
  {
   "cell_type": "code",
   "execution_count": 59,
   "id": "2caebb55",
   "metadata": {},
   "outputs": [],
   "source": [
    "train['Amount_invested_monthly']=train.apply(get_Amount_invested_monthly,axis=1)"
   ]
  },
  {
   "cell_type": "code",
   "execution_count": 60,
   "id": "96ee4c36",
   "metadata": {},
   "outputs": [
    {
     "name": "stdout",
     "output_type": "stream",
     "text": [
      "(11189, 25)\n"
     ]
    }
   ],
   "source": [
    "print(train[train['Amount_invested_monthly']>=500].shape)\n",
    "train=train[train['Amount_invested_monthly']<500]"
   ]
  },
  {
   "cell_type": "code",
   "execution_count": 61,
   "id": "ac6888e3",
   "metadata": {},
   "outputs": [
    {
     "data": {
      "text/plain": [
       "(85546, 25)"
      ]
     },
     "execution_count": 61,
     "metadata": {},
     "output_type": "execute_result"
    }
   ],
   "source": [
    "train.shape"
   ]
  },
  {
   "cell_type": "markdown",
   "id": "596083a1",
   "metadata": {},
   "source": [
    "# Monthly_Balance"
   ]
  },
  {
   "cell_type": "code",
   "execution_count": 62,
   "id": "835848bf",
   "metadata": {},
   "outputs": [],
   "source": [
    "def get_Monthly_Balance(row):\n",
    "    if pd.isnull(row['Monthly_Balance']):\n",
    "        Monthly_Balance=(train[train['Customer_ID']==row['Customer_ID']]['Monthly_Balance'].dropna()).mode()\n",
    "        try:\n",
    "            return Monthly_Balance[0]\n",
    "        except:\n",
    "            return np.NaN\n",
    "    else:\n",
    "        return row['Monthly_Balance']"
   ]
  },
  {
   "cell_type": "code",
   "execution_count": 63,
   "id": "b0405205",
   "metadata": {},
   "outputs": [],
   "source": [
    "train['Monthly_Balance']=train.apply(get_Monthly_Balance,axis=1)"
   ]
  },
  {
   "cell_type": "code",
   "execution_count": 64,
   "id": "e560ba9e",
   "metadata": {},
   "outputs": [
    {
     "name": "stdout",
     "output_type": "stream",
     "text": [
      "(8, 25)\n",
      "(0, 25)\n"
     ]
    }
   ],
   "source": [
    "print(train[train['Monthly_Balance'] <= 0].shape)\n",
    "print(train[train['Amount_invested_monthly']>=800].shape)\n",
    "train = train[train['Monthly_Balance'] > 0]\n",
    "train = train[train['Monthly_Balance'] <= 800]"
   ]
  },
  {
   "cell_type": "code",
   "execution_count": 65,
   "id": "16b73794",
   "metadata": {},
   "outputs": [
    {
     "data": {
      "text/plain": [
       "(79640, 25)"
      ]
     },
     "execution_count": 65,
     "metadata": {},
     "output_type": "execute_result"
    }
   ],
   "source": [
    "train.shape"
   ]
  },
  {
   "cell_type": "code",
   "execution_count": 66,
   "id": "05c28519",
   "metadata": {},
   "outputs": [
    {
     "data": {
      "text/plain": [
       "[]"
      ]
     },
     "execution_count": 66,
     "metadata": {},
     "output_type": "execute_result"
    }
   ],
   "source": [
    "missing_columns=train.isnull().sum()\n",
    "miss_num_columns = list(train[(missing_columns[missing_columns > 0]).index].select_dtypes(include=[\"int64\",\"float64\"]).columns)\n",
    "miss_num_columns"
   ]
  },
  {
   "cell_type": "markdown",
   "id": "644ee988",
   "metadata": {},
   "source": [
    "# Outliers Checking"
   ]
  },
  {
   "cell_type": "code",
   "execution_count": 67,
   "id": "c8d3d2b1",
   "metadata": {},
   "outputs": [
    {
     "data": {
      "image/png": "[encoded data removed]",
      "text/plain": [
       "<Figure size 1440x1440 with 9 Axes>"
      ]
     },
     "metadata": {
      "needs_background": "light"
     },
     "output_type": "display_data"
    }
   ],
   "source": [
    "fig, axes = plt.subplots(nrows=3, ncols=3, figsize=(20, 20))\n",
    "for i, column in enumerate(miss_num_cols):\n",
    "    row = i // 3\n",
    "    col = i % 3\n",
    "    if row < 5:\n",
    "        ax = axes[row][col]\n",
    "        ax.boxplot(train[column].dropna(), vert=False)\n",
    "        ax.set_xlabel(column)\n",
    "plt.show()"
   ]
  },
  {
   "cell_type": "code",
   "execution_count": 68,
   "id": "d632cad5",
   "metadata": {},
   "outputs": [
    {
     "data": {
      "text/plain": [
       "['Occupation', 'Type_of_Loan', 'Credit_Mix', 'Payment_Behaviour']"
      ]
     },
     "execution_count": 68,
     "metadata": {},
     "output_type": "execute_result"
    }
   ],
   "source": [
    "missing_columns=train.isnull().sum()\n",
    "miss_cat_columns = list(train[(missing_columns[missing_columns > 0]).index].select_dtypes(include=[\"object\",\"category\"]).columns)\n",
    "miss_cat_columns"
   ]
  },
  {
   "cell_type": "markdown",
   "id": "3696f395",
   "metadata": {},
   "source": [
    "# Filling null values in Categorical columns"
   ]
  },
  {
   "cell_type": "code",
   "execution_count": 69,
   "id": "b00135f3",
   "metadata": {},
   "outputs": [
    {
     "data": {
      "text/plain": [
       "Occupation            5636\n",
       "Type_of_Loan          7552\n",
       "Credit_Mix           16161\n",
       "Payment_Behaviour     6081\n",
       "dtype: int64"
      ]
     },
     "execution_count": 69,
     "metadata": {},
     "output_type": "execute_result"
    }
   ],
   "source": [
    "missing_value_columns(train)"
   ]
  },
  {
   "cell_type": "markdown",
   "id": "8e32de64",
   "metadata": {},
   "source": [
    "# Occupation"
   ]
  },
  {
   "cell_type": "code",
   "execution_count": 70,
   "id": "d500aba5",
   "metadata": {},
   "outputs": [],
   "source": [
    "def get_Occupation(row):\n",
    "    if pd.isnull(row['Occupation']):\n",
    "        Occupation=(train[train['Customer_ID']==row['Customer_ID']]['Occupation'].dropna()).mode()\n",
    "        try:\n",
    "            return Occupation[0]\n",
    "        except:\n",
    "            return np.NaN\n",
    "    else:\n",
    "        return row['Occupation']"
   ]
  },
  {
   "cell_type": "code",
   "execution_count": 71,
   "id": "ef23a8a3",
   "metadata": {},
   "outputs": [],
   "source": [
    "train['Occupation']=train.apply(get_Occupation,axis=1)"
   ]
  },
  {
   "cell_type": "code",
   "execution_count": 72,
   "id": "389b9563",
   "metadata": {},
   "outputs": [],
   "source": [
    "train['Occupation'] = train['Occupation'].fillna(train['Occupation'].mode()[0])"
   ]
  },
  {
   "cell_type": "code",
   "execution_count": 73,
   "id": "1aebd26c",
   "metadata": {},
   "outputs": [
    {
     "data": {
      "text/plain": [
       "0"
      ]
     },
     "execution_count": 73,
     "metadata": {},
     "output_type": "execute_result"
    }
   ],
   "source": [
    "len(train[train['Occupation'].isnull()])"
   ]
  },
  {
   "cell_type": "code",
   "execution_count": 74,
   "id": "681007fb",
   "metadata": {},
   "outputs": [],
   "source": [
    "train1 = train.drop('Type_of_Loan', axis=1)"
   ]
  },
  {
   "cell_type": "code",
   "execution_count": 75,
   "id": "ebb68b56",
   "metadata": {},
   "outputs": [
    {
     "data": {
      "text/plain": [
       "(79640, 24)"
      ]
     },
     "execution_count": 75,
     "metadata": {},
     "output_type": "execute_result"
    }
   ],
   "source": [
    "train1.shape"
   ]
  },
  {
   "cell_type": "markdown",
   "id": "dc4c5da0",
   "metadata": {},
   "source": [
    "# Credit_Mix"
   ]
  },
  {
   "cell_type": "code",
   "execution_count": 76,
   "id": "8cbdce25",
   "metadata": {},
   "outputs": [],
   "source": [
    "def get_Credit_Mix(row):\n",
    "    if pd.isnull(row['Credit_Mix']):\n",
    "        Credit_Mix=(train1[train1['Customer_ID']==row['Customer_ID']]['Credit_Mix'].dropna()).mode()\n",
    "        try:\n",
    "            return Credit_Mix[0]\n",
    "        except:\n",
    "            return np.NaN\n",
    "    else:\n",
    "        return row['Credit_Mix']"
   ]
  },
  {
   "cell_type": "code",
   "execution_count": 77,
   "id": "bdf3ea6b",
   "metadata": {},
   "outputs": [],
   "source": [
    "train1['Credit_Mix']=train1.apply(get_Credit_Mix,axis=1)"
   ]
  },
  {
   "cell_type": "code",
   "execution_count": 78,
   "id": "3e16ea25",
   "metadata": {},
   "outputs": [],
   "source": [
    "train1['Credit_Mix'] = train1['Credit_Mix'].fillna(train1['Credit_Mix'].mode()[0])"
   ]
  },
  {
   "cell_type": "code",
   "execution_count": 79,
   "id": "e3ce97a1",
   "metadata": {},
   "outputs": [
    {
     "data": {
      "text/plain": [
       "0"
      ]
     },
     "execution_count": 79,
     "metadata": {},
     "output_type": "execute_result"
    }
   ],
   "source": [
    "len(train1[train1['Credit_Mix'].isnull()])"
   ]
  },
  {
   "cell_type": "markdown",
   "id": "99a858d2",
   "metadata": {},
   "source": [
    "# Payment_Behaviour"
   ]
  },
  {
   "cell_type": "code",
   "execution_count": 80,
   "id": "d34dc3ff",
   "metadata": {},
   "outputs": [],
   "source": [
    "def get_Payment_Behaviour(row):\n",
    "    if pd.isnull(row['Payment_Behaviour']):\n",
    "        Payment_Behaviour=(train1[train1['Customer_ID']==row['Customer_ID']]['Payment_Behaviour'].dropna()).mode()\n",
    "        try:\n",
    "            return Payment_Behaviour[0]\n",
    "        except:\n",
    "            return np.NaN\n",
    "    else:\n",
    "        return row['Payment_Behaviour']"
   ]
  },
  {
   "cell_type": "code",
   "execution_count": 81,
   "id": "2452e855",
   "metadata": {},
   "outputs": [],
   "source": [
    "train1['Payment_Behaviour']=train1.apply(get_Payment_Behaviour,axis=1)"
   ]
  },
  {
   "cell_type": "code",
   "execution_count": 82,
   "id": "b734c5b1",
   "metadata": {},
   "outputs": [],
   "source": [
    "train1['Payment_Behaviour'] = train1['Payment_Behaviour'].fillna(train1['Payment_Behaviour'].mode()[0])"
   ]
  },
  {
   "cell_type": "code",
   "execution_count": 83,
   "id": "95e20cb9",
   "metadata": {},
   "outputs": [
    {
     "data": {
      "text/plain": [
       "0"
      ]
     },
     "execution_count": 83,
     "metadata": {},
     "output_type": "execute_result"
    }
   ],
   "source": [
    "len(train1[train1['Payment_Behaviour'].isnull()])"
   ]
  },
  {
   "cell_type": "markdown",
   "id": "a61f2bfe",
   "metadata": {},
   "source": [
    "# Removing outliers by  Manual Estimation"
   ]
  },
  {
   "cell_type": "code",
   "execution_count": 84,
   "id": "f4227048",
   "metadata": {},
   "outputs": [
    {
     "data": {
      "text/plain": [
       "RangeIndex(start=0, stop=100000, step=1)"
      ]
     },
     "execution_count": 84,
     "metadata": {},
     "output_type": "execute_result"
    }
   ],
   "source": [
    "(num_cols1).index"
   ]
  },
  {
   "cell_type": "code",
   "execution_count": 85,
   "id": "b3710b70",
   "metadata": {},
   "outputs": [],
   "source": [
    "#train1.reset_index(drop=True, inplace=True)\n",
    "\n",
    "train1.drop(train1[train1.Age < 10].index, inplace=True)\n",
    "train1.drop(train1[train1.Age > 99].index, inplace=True)"
   ]
  },
  {
   "cell_type": "code",
   "execution_count": 86,
   "id": "122d46d9",
   "metadata": {},
   "outputs": [],
   "source": [
    "#to limit the number of bank account till 15\n",
    "train1.drop(train1[train1.Num_Bank_Accounts>15].index, inplace = True)\n",
    "\n",
    "#to remove the entries having number of credit card more than 15 \n",
    "train1.drop(train1[train1.Num_Credit_Card > 15].index, inplace = True)\n",
    "\n",
    "#to drop the entries having unrealistic Annual Income, which is greater 1000000.00\n",
    "train1.drop(train1[train1.Annual_Income > 1000000.00].index, inplace = True)\n",
    "\n",
    "#to drop the negative number of loan\n",
    "train1.drop(train1[train1.Num_of_Loan < 0].index, inplace = True)\n",
    "\n",
    "#to drop the entries having number of loan greater than 20\n",
    "train1.drop(train1[train1.Num_of_Loan > 20].index, inplace = True)\n",
    "\n",
    "#to drop the enties having intrest rate greater than 1000.0\n",
    "train1.drop(train1[train1.Interest_Rate >1000.0].index, inplace = True)\n",
    "\n",
    "#to drop the negative values of delay from due date\n",
    "train1.drop(train1[train1.Delay_from_due_date < 0].index, inplace = True)\n",
    "\n",
    "#to drop the entires having total EMI per month greater than 10000\n",
    "train1.drop(train1[train1.Total_EMI_per_month > 10000.00].index, inplace = True)\n",
    "\n",
    "#to drop entries having number of credit inquiry greater than 10\n",
    "train1.drop(train1[train1.Num_Credit_Inquiries >10].index, inplace = True)"
   ]
  },
  {
   "cell_type": "markdown",
   "id": "328be952",
   "metadata": {},
   "source": [
    "# Encoding categorical features"
   ]
  },
  {
   "cell_type": "code",
   "execution_count": 87,
   "id": "24694bad",
   "metadata": {},
   "outputs": [
    {
     "data": {
      "text/plain": [
       "array(['January', 'April', 'May', 'June', 'July', 'August', 'February',\n",
       "       'March'], dtype=object)"
      ]
     },
     "execution_count": 87,
     "metadata": {},
     "output_type": "execute_result"
    }
   ],
   "source": [
    "train1['Month'].unique()"
   ]
  },
  {
   "cell_type": "code",
   "execution_count": 88,
   "id": "b155d6a8",
   "metadata": {},
   "outputs": [],
   "source": [
    "Months = ['January', 'April', 'May', 'June', 'July', 'August', 'February', 'March']"
   ]
  },
  {
   "cell_type": "code",
   "execution_count": 89,
   "id": "3ec52d8b",
   "metadata": {},
   "outputs": [],
   "source": [
    "# Define a dictionary to map each category to a numerical label\n",
    "label_map = {}\n",
    "label = 0\n",
    "for i in Months:\n",
    "    label_map[i] = label\n",
    "    label += 1\n",
    "\n",
    "# Map the Month column to its encoded labels\n",
    "train1['Month_Encoded'] = train1['Month'].apply(lambda x: label_map[x])"
   ]
  },
  {
   "cell_type": "code",
   "execution_count": 90,
   "id": "dd5165ae",
   "metadata": {},
   "outputs": [
    {
     "data": {
      "text/html": [
       "<div>\n",
       "<style scoped>\n",
       "    .dataframe tbody tr th:only-of-type {\n",
       "        vertical-align: middle;\n",
       "    }\n",
       "\n",
       "    .dataframe tbody tr th {\n",
       "        vertical-align: top;\n",
       "    }\n",
       "\n",
       "    .dataframe thead th {\n",
       "        text-align: right;\n",
       "    }\n",
       "</style>\n",
       "<table border=\"1\" class=\"dataframe\">\n",
       "  <thead>\n",
       "    <tr style=\"text-align: right;\">\n",
       "      <th></th>\n",
       "      <th>Customer_ID</th>\n",
       "      <th>Month</th>\n",
       "      <th>Age</th>\n",
       "      <th>Occupation</th>\n",
       "      <th>Annual_Income</th>\n",
       "      <th>Monthly_Inhand_Salary</th>\n",
       "      <th>Num_Bank_Accounts</th>\n",
       "      <th>Num_Credit_Card</th>\n",
       "      <th>Interest_Rate</th>\n",
       "      <th>Num_of_Loan</th>\n",
       "      <th>...</th>\n",
       "      <th>Outstanding_Debt</th>\n",
       "      <th>Credit_Utilization_Ratio</th>\n",
       "      <th>Credit_History_Age</th>\n",
       "      <th>Payment_of_Min_Amount</th>\n",
       "      <th>Total_EMI_per_month</th>\n",
       "      <th>Amount_invested_monthly</th>\n",
       "      <th>Payment_Behaviour</th>\n",
       "      <th>Monthly_Balance</th>\n",
       "      <th>Credit_Score</th>\n",
       "      <th>Month_Encoded</th>\n",
       "    </tr>\n",
       "  </thead>\n",
       "  <tbody>\n",
       "    <tr>\n",
       "      <th>0</th>\n",
       "      <td>3392</td>\n",
       "      <td>January</td>\n",
       "      <td>23</td>\n",
       "      <td>Scientist</td>\n",
       "      <td>19114.12</td>\n",
       "      <td>1824.843333</td>\n",
       "      <td>3</td>\n",
       "      <td>4</td>\n",
       "      <td>3</td>\n",
       "      <td>4</td>\n",
       "      <td>...</td>\n",
       "      <td>809.98</td>\n",
       "      <td>26.822620</td>\n",
       "      <td>265.0</td>\n",
       "      <td>No</td>\n",
       "      <td>49.574949</td>\n",
       "      <td>80.415295</td>\n",
       "      <td>High_spent_Small_value_payments</td>\n",
       "      <td>312.494089</td>\n",
       "      <td>Good</td>\n",
       "      <td>0</td>\n",
       "    </tr>\n",
       "    <tr>\n",
       "      <th>3</th>\n",
       "      <td>3392</td>\n",
       "      <td>April</td>\n",
       "      <td>23</td>\n",
       "      <td>Scientist</td>\n",
       "      <td>19114.12</td>\n",
       "      <td>1824.843333</td>\n",
       "      <td>3</td>\n",
       "      <td>4</td>\n",
       "      <td>3</td>\n",
       "      <td>4</td>\n",
       "      <td>...</td>\n",
       "      <td>809.98</td>\n",
       "      <td>31.377862</td>\n",
       "      <td>268.0</td>\n",
       "      <td>No</td>\n",
       "      <td>49.574949</td>\n",
       "      <td>199.458074</td>\n",
       "      <td>Low_spent_Small_value_payments</td>\n",
       "      <td>223.451310</td>\n",
       "      <td>Good</td>\n",
       "      <td>1</td>\n",
       "    </tr>\n",
       "    <tr>\n",
       "      <th>4</th>\n",
       "      <td>3392</td>\n",
       "      <td>May</td>\n",
       "      <td>23</td>\n",
       "      <td>Scientist</td>\n",
       "      <td>19114.12</td>\n",
       "      <td>1824.843333</td>\n",
       "      <td>3</td>\n",
       "      <td>4</td>\n",
       "      <td>3</td>\n",
       "      <td>4</td>\n",
       "      <td>...</td>\n",
       "      <td>809.98</td>\n",
       "      <td>24.797347</td>\n",
       "      <td>269.0</td>\n",
       "      <td>No</td>\n",
       "      <td>49.574949</td>\n",
       "      <td>41.420153</td>\n",
       "      <td>High_spent_Medium_value_payments</td>\n",
       "      <td>341.489231</td>\n",
       "      <td>Good</td>\n",
       "      <td>2</td>\n",
       "    </tr>\n",
       "    <tr>\n",
       "      <th>5</th>\n",
       "      <td>3392</td>\n",
       "      <td>June</td>\n",
       "      <td>23</td>\n",
       "      <td>Scientist</td>\n",
       "      <td>19114.12</td>\n",
       "      <td>1824.843333</td>\n",
       "      <td>3</td>\n",
       "      <td>4</td>\n",
       "      <td>3</td>\n",
       "      <td>4</td>\n",
       "      <td>...</td>\n",
       "      <td>809.98</td>\n",
       "      <td>27.262259</td>\n",
       "      <td>270.0</td>\n",
       "      <td>No</td>\n",
       "      <td>49.574949</td>\n",
       "      <td>62.430172</td>\n",
       "      <td>High_spent_Medium_value_payments</td>\n",
       "      <td>340.479212</td>\n",
       "      <td>Good</td>\n",
       "      <td>3</td>\n",
       "    </tr>\n",
       "    <tr>\n",
       "      <th>6</th>\n",
       "      <td>3392</td>\n",
       "      <td>July</td>\n",
       "      <td>23</td>\n",
       "      <td>Scientist</td>\n",
       "      <td>19114.12</td>\n",
       "      <td>1824.843333</td>\n",
       "      <td>3</td>\n",
       "      <td>4</td>\n",
       "      <td>3</td>\n",
       "      <td>4</td>\n",
       "      <td>...</td>\n",
       "      <td>809.98</td>\n",
       "      <td>22.537593</td>\n",
       "      <td>271.0</td>\n",
       "      <td>No</td>\n",
       "      <td>49.574949</td>\n",
       "      <td>178.344067</td>\n",
       "      <td>Low_spent_Small_value_payments</td>\n",
       "      <td>244.565317</td>\n",
       "      <td>Good</td>\n",
       "      <td>4</td>\n",
       "    </tr>\n",
       "  </tbody>\n",
       "</table>\n",
       "<p>5 rows × 25 columns</p>\n",
       "</div>"
      ],
      "text/plain": [
       "   Customer_ID    Month  Age Occupation  Annual_Income  Monthly_Inhand_Salary  \\\n",
       "0         3392  January   23  Scientist       19114.12            1824.843333   \n",
       "3         3392    April   23  Scientist       19114.12            1824.843333   \n",
       "4         3392      May   23  Scientist       19114.12            1824.843333   \n",
       "5         3392     June   23  Scientist       19114.12            1824.843333   \n",
       "6         3392     July   23  Scientist       19114.12            1824.843333   \n",
       "\n",
       "   Num_Bank_Accounts  Num_Credit_Card  Interest_Rate  Num_of_Loan  ...  \\\n",
       "0                  3                4              3            4  ...   \n",
       "3                  3                4              3            4  ...   \n",
       "4                  3                4              3            4  ...   \n",
       "5                  3                4              3            4  ...   \n",
       "6                  3                4              3            4  ...   \n",
       "\n",
       "   Outstanding_Debt  Credit_Utilization_Ratio  Credit_History_Age  \\\n",
       "0            809.98                 26.822620               265.0   \n",
       "3            809.98                 31.377862               268.0   \n",
       "4            809.98                 24.797347               269.0   \n",
       "5            809.98                 27.262259               270.0   \n",
       "6            809.98                 22.537593               271.0   \n",
       "\n",
       "   Payment_of_Min_Amount Total_EMI_per_month  Amount_invested_monthly  \\\n",
       "0                     No           49.574949                80.415295   \n",
       "3                     No           49.574949               199.458074   \n",
       "4                     No           49.574949                41.420153   \n",
       "5                     No           49.574949                62.430172   \n",
       "6                     No           49.574949               178.344067   \n",
       "\n",
       "                  Payment_Behaviour  Monthly_Balance Credit_Score  \\\n",
       "0   High_spent_Small_value_payments       312.494089         Good   \n",
       "3    Low_spent_Small_value_payments       223.451310         Good   \n",
       "4  High_spent_Medium_value_payments       341.489231         Good   \n",
       "5  High_spent_Medium_value_payments       340.479212         Good   \n",
       "6    Low_spent_Small_value_payments       244.565317         Good   \n",
       "\n",
       "   Month_Encoded  \n",
       "0              0  \n",
       "3              1  \n",
       "4              2  \n",
       "5              3  \n",
       "6              4  \n",
       "\n",
       "[5 rows x 25 columns]"
      ]
     },
     "execution_count": 90,
     "metadata": {},
     "output_type": "execute_result"
    }
   ],
   "source": [
    "train1.head()"
   ]
  },
  {
   "cell_type": "code",
   "execution_count": 91,
   "id": "1e3e13b1",
   "metadata": {},
   "outputs": [
    {
     "data": {
      "text/plain": [
       "array(['Scientist', 'Teacher', 'Entrepreneur', 'Developer', 'Lawyer',\n",
       "       'Media_Manager', 'Doctor', 'Journalist', 'Engineer', 'Manager',\n",
       "       'Accountant', 'Musician', 'Writer', 'Architect', 'Mechanic'],\n",
       "      dtype=object)"
      ]
     },
     "execution_count": 91,
     "metadata": {},
     "output_type": "execute_result"
    }
   ],
   "source": [
    "train1['Occupation'].unique()"
   ]
  },
  {
   "cell_type": "code",
   "execution_count": 92,
   "id": "a508ce87",
   "metadata": {},
   "outputs": [],
   "source": [
    "Occupations = ['Scientist', 'Teacher', 'Entrepreneur', 'Developer', 'Lawyer',\n",
    "       'Media_Manager', 'Doctor', 'Journalist', 'Engineer', 'Manager',\n",
    "       'Accountant', 'Musician', 'Writer', 'Architect', 'Mechanic']"
   ]
  },
  {
   "cell_type": "code",
   "execution_count": 93,
   "id": "285b7f80",
   "metadata": {},
   "outputs": [],
   "source": [
    "label_map = {}\n",
    "label = 0\n",
    "for i in Occupations:\n",
    "    label_map[i] = label\n",
    "    label += 1\n",
    "\n",
    "train1['Occupation_Encoded'] = train1['Occupation'].apply(lambda x: label_map[x])"
   ]
  },
  {
   "cell_type": "code",
   "execution_count": 94,
   "id": "7e1d38de",
   "metadata": {},
   "outputs": [
    {
     "data": {
      "text/html": [
       "<div>\n",
       "<style scoped>\n",
       "    .dataframe tbody tr th:only-of-type {\n",
       "        vertical-align: middle;\n",
       "    }\n",
       "\n",
       "    .dataframe tbody tr th {\n",
       "        vertical-align: top;\n",
       "    }\n",
       "\n",
       "    .dataframe thead th {\n",
       "        text-align: right;\n",
       "    }\n",
       "</style>\n",
       "<table border=\"1\" class=\"dataframe\">\n",
       "  <thead>\n",
       "    <tr style=\"text-align: right;\">\n",
       "      <th></th>\n",
       "      <th>Customer_ID</th>\n",
       "      <th>Month</th>\n",
       "      <th>Age</th>\n",
       "      <th>Occupation</th>\n",
       "      <th>Annual_Income</th>\n",
       "      <th>Monthly_Inhand_Salary</th>\n",
       "      <th>Num_Bank_Accounts</th>\n",
       "      <th>Num_Credit_Card</th>\n",
       "      <th>Interest_Rate</th>\n",
       "      <th>Num_of_Loan</th>\n",
       "      <th>...</th>\n",
       "      <th>Credit_Utilization_Ratio</th>\n",
       "      <th>Credit_History_Age</th>\n",
       "      <th>Payment_of_Min_Amount</th>\n",
       "      <th>Total_EMI_per_month</th>\n",
       "      <th>Amount_invested_monthly</th>\n",
       "      <th>Payment_Behaviour</th>\n",
       "      <th>Monthly_Balance</th>\n",
       "      <th>Credit_Score</th>\n",
       "      <th>Month_Encoded</th>\n",
       "      <th>Occupation_Encoded</th>\n",
       "    </tr>\n",
       "  </thead>\n",
       "  <tbody>\n",
       "    <tr>\n",
       "      <th>0</th>\n",
       "      <td>3392</td>\n",
       "      <td>January</td>\n",
       "      <td>23</td>\n",
       "      <td>Scientist</td>\n",
       "      <td>19114.12</td>\n",
       "      <td>1824.843333</td>\n",
       "      <td>3</td>\n",
       "      <td>4</td>\n",
       "      <td>3</td>\n",
       "      <td>4</td>\n",
       "      <td>...</td>\n",
       "      <td>26.822620</td>\n",
       "      <td>265.0</td>\n",
       "      <td>No</td>\n",
       "      <td>49.574949</td>\n",
       "      <td>80.415295</td>\n",
       "      <td>High_spent_Small_value_payments</td>\n",
       "      <td>312.494089</td>\n",
       "      <td>Good</td>\n",
       "      <td>0</td>\n",
       "      <td>0</td>\n",
       "    </tr>\n",
       "    <tr>\n",
       "      <th>3</th>\n",
       "      <td>3392</td>\n",
       "      <td>April</td>\n",
       "      <td>23</td>\n",
       "      <td>Scientist</td>\n",
       "      <td>19114.12</td>\n",
       "      <td>1824.843333</td>\n",
       "      <td>3</td>\n",
       "      <td>4</td>\n",
       "      <td>3</td>\n",
       "      <td>4</td>\n",
       "      <td>...</td>\n",
       "      <td>31.377862</td>\n",
       "      <td>268.0</td>\n",
       "      <td>No</td>\n",
       "      <td>49.574949</td>\n",
       "      <td>199.458074</td>\n",
       "      <td>Low_spent_Small_value_payments</td>\n",
       "      <td>223.451310</td>\n",
       "      <td>Good</td>\n",
       "      <td>1</td>\n",
       "      <td>0</td>\n",
       "    </tr>\n",
       "    <tr>\n",
       "      <th>4</th>\n",
       "      <td>3392</td>\n",
       "      <td>May</td>\n",
       "      <td>23</td>\n",
       "      <td>Scientist</td>\n",
       "      <td>19114.12</td>\n",
       "      <td>1824.843333</td>\n",
       "      <td>3</td>\n",
       "      <td>4</td>\n",
       "      <td>3</td>\n",
       "      <td>4</td>\n",
       "      <td>...</td>\n",
       "      <td>24.797347</td>\n",
       "      <td>269.0</td>\n",
       "      <td>No</td>\n",
       "      <td>49.574949</td>\n",
       "      <td>41.420153</td>\n",
       "      <td>High_spent_Medium_value_payments</td>\n",
       "      <td>341.489231</td>\n",
       "      <td>Good</td>\n",
       "      <td>2</td>\n",
       "      <td>0</td>\n",
       "    </tr>\n",
       "    <tr>\n",
       "      <th>5</th>\n",
       "      <td>3392</td>\n",
       "      <td>June</td>\n",
       "      <td>23</td>\n",
       "      <td>Scientist</td>\n",
       "      <td>19114.12</td>\n",
       "      <td>1824.843333</td>\n",
       "      <td>3</td>\n",
       "      <td>4</td>\n",
       "      <td>3</td>\n",
       "      <td>4</td>\n",
       "      <td>...</td>\n",
       "      <td>27.262259</td>\n",
       "      <td>270.0</td>\n",
       "      <td>No</td>\n",
       "      <td>49.574949</td>\n",
       "      <td>62.430172</td>\n",
       "      <td>High_spent_Medium_value_payments</td>\n",
       "      <td>340.479212</td>\n",
       "      <td>Good</td>\n",
       "      <td>3</td>\n",
       "      <td>0</td>\n",
       "    </tr>\n",
       "    <tr>\n",
       "      <th>6</th>\n",
       "      <td>3392</td>\n",
       "      <td>July</td>\n",
       "      <td>23</td>\n",
       "      <td>Scientist</td>\n",
       "      <td>19114.12</td>\n",
       "      <td>1824.843333</td>\n",
       "      <td>3</td>\n",
       "      <td>4</td>\n",
       "      <td>3</td>\n",
       "      <td>4</td>\n",
       "      <td>...</td>\n",
       "      <td>22.537593</td>\n",
       "      <td>271.0</td>\n",
       "      <td>No</td>\n",
       "      <td>49.574949</td>\n",
       "      <td>178.344067</td>\n",
       "      <td>Low_spent_Small_value_payments</td>\n",
       "      <td>244.565317</td>\n",
       "      <td>Good</td>\n",
       "      <td>4</td>\n",
       "      <td>0</td>\n",
       "    </tr>\n",
       "  </tbody>\n",
       "</table>\n",
       "<p>5 rows × 26 columns</p>\n",
       "</div>"
      ],
      "text/plain": [
       "   Customer_ID    Month  Age Occupation  Annual_Income  Monthly_Inhand_Salary  \\\n",
       "0         3392  January   23  Scientist       19114.12            1824.843333   \n",
       "3         3392    April   23  Scientist       19114.12            1824.843333   \n",
       "4         3392      May   23  Scientist       19114.12            1824.843333   \n",
       "5         3392     June   23  Scientist       19114.12            1824.843333   \n",
       "6         3392     July   23  Scientist       19114.12            1824.843333   \n",
       "\n",
       "   Num_Bank_Accounts  Num_Credit_Card  Interest_Rate  Num_of_Loan  ...  \\\n",
       "0                  3                4              3            4  ...   \n",
       "3                  3                4              3            4  ...   \n",
       "4                  3                4              3            4  ...   \n",
       "5                  3                4              3            4  ...   \n",
       "6                  3                4              3            4  ...   \n",
       "\n",
       "   Credit_Utilization_Ratio  Credit_History_Age  Payment_of_Min_Amount  \\\n",
       "0                 26.822620               265.0                     No   \n",
       "3                 31.377862               268.0                     No   \n",
       "4                 24.797347               269.0                     No   \n",
       "5                 27.262259               270.0                     No   \n",
       "6                 22.537593               271.0                     No   \n",
       "\n",
       "   Total_EMI_per_month Amount_invested_monthly  \\\n",
       "0            49.574949               80.415295   \n",
       "3            49.574949              199.458074   \n",
       "4            49.574949               41.420153   \n",
       "5            49.574949               62.430172   \n",
       "6            49.574949              178.344067   \n",
       "\n",
       "                  Payment_Behaviour  Monthly_Balance  Credit_Score  \\\n",
       "0   High_spent_Small_value_payments       312.494089          Good   \n",
       "3    Low_spent_Small_value_payments       223.451310          Good   \n",
       "4  High_spent_Medium_value_payments       341.489231          Good   \n",
       "5  High_spent_Medium_value_payments       340.479212          Good   \n",
       "6    Low_spent_Small_value_payments       244.565317          Good   \n",
       "\n",
       "  Month_Encoded  Occupation_Encoded  \n",
       "0             0                   0  \n",
       "3             1                   0  \n",
       "4             2                   0  \n",
       "5             3                   0  \n",
       "6             4                   0  \n",
       "\n",
       "[5 rows x 26 columns]"
      ]
     },
     "execution_count": 94,
     "metadata": {},
     "output_type": "execute_result"
    }
   ],
   "source": [
    "train1.head()"
   ]
  },
  {
   "cell_type": "code",
   "execution_count": 95,
   "id": "ea5fa275",
   "metadata": {},
   "outputs": [
    {
     "data": {
      "text/plain": [
       "array(['Good', 'Standard', 'Bad'], dtype=object)"
      ]
     },
     "execution_count": 95,
     "metadata": {},
     "output_type": "execute_result"
    }
   ],
   "source": [
    "train1['Credit_Mix'].unique()"
   ]
  },
  {
   "cell_type": "code",
   "execution_count": 96,
   "id": "27ba2486",
   "metadata": {},
   "outputs": [],
   "source": [
    "Credit_Mixs = ['Good', 'Standard', 'Bad']"
   ]
  },
  {
   "cell_type": "code",
   "execution_count": 97,
   "id": "046cb5e8",
   "metadata": {},
   "outputs": [],
   "source": [
    "label_map = {}\n",
    "label = 0\n",
    "for i in Credit_Mixs:\n",
    "    label_map[i] = label\n",
    "    label += 1\n",
    "\n",
    "train1['Credit_Mix_Encoded'] = train1['Credit_Mix'].apply(lambda x: label_map[x])"
   ]
  },
  {
   "cell_type": "code",
   "execution_count": 98,
   "id": "04bda169",
   "metadata": {},
   "outputs": [
    {
     "data": {
      "text/plain": [
       "array(['High_spent_Small_value_payments',\n",
       "       'Low_spent_Small_value_payments',\n",
       "       'High_spent_Medium_value_payments',\n",
       "       'High_spent_Large_value_payments',\n",
       "       'Low_spent_Medium_value_payments',\n",
       "       'Low_spent_Large_value_payments'], dtype=object)"
      ]
     },
     "execution_count": 98,
     "metadata": {},
     "output_type": "execute_result"
    }
   ],
   "source": [
    "train1['Payment_Behaviour'].unique()"
   ]
  },
  {
   "cell_type": "code",
   "execution_count": 99,
   "id": "0a3616ba",
   "metadata": {},
   "outputs": [],
   "source": [
    "Payment_Behaviours = ['High_spent_Small_value_payments',\n",
    "       'Low_spent_Small_value_payments',\n",
    "       'High_spent_Medium_value_payments',\n",
    "       'High_spent_Large_value_payments',\n",
    "       'Low_spent_Medium_value_payments',\n",
    "       'Low_spent_Large_value_payments']"
   ]
  },
  {
   "cell_type": "code",
   "execution_count": 100,
   "id": "caa6b130",
   "metadata": {},
   "outputs": [],
   "source": [
    "label_map = {}\n",
    "label = 0\n",
    "for i in Payment_Behaviours:\n",
    "    label_map[i] = label\n",
    "    label += 1\n",
    "\n",
    "train1['Payment_Behaviour_Encoded'] = train1['Payment_Behaviour'].apply(lambda x: label_map[x])"
   ]
  },
  {
   "cell_type": "code",
   "execution_count": 101,
   "id": "c7771908",
   "metadata": {},
   "outputs": [
    {
     "data": {
      "text/plain": [
       "array(['No', 'NM', 'Yes'], dtype=object)"
      ]
     },
     "execution_count": 101,
     "metadata": {},
     "output_type": "execute_result"
    }
   ],
   "source": [
    "train1['Payment_of_Min_Amount'].unique()"
   ]
  },
  {
   "cell_type": "code",
   "execution_count": 102,
   "id": "9fa88fbe",
   "metadata": {},
   "outputs": [],
   "source": [
    "Payment_of_Min_Amounts = ['No', 'NM', 'Yes']"
   ]
  },
  {
   "cell_type": "code",
   "execution_count": 103,
   "id": "54e9057c",
   "metadata": {},
   "outputs": [],
   "source": [
    "label_map = {}\n",
    "label = 0\n",
    "for i in Payment_of_Min_Amounts:\n",
    "    label_map[i] = label\n",
    "    label += 1\n",
    "\n",
    "train1['Payment_of_Min_Amount_Encoded'] = train1['Payment_of_Min_Amount'].apply(lambda x: label_map[x])"
   ]
  },
  {
   "cell_type": "code",
   "execution_count": 104,
   "id": "f8d52427",
   "metadata": {},
   "outputs": [
    {
     "data": {
      "text/plain": [
       "array(['Good', 'Standard', 'Poor'], dtype=object)"
      ]
     },
     "execution_count": 104,
     "metadata": {},
     "output_type": "execute_result"
    }
   ],
   "source": [
    "train1['Credit_Score'].unique()"
   ]
  },
  {
   "cell_type": "code",
   "execution_count": 105,
   "id": "1f1c611e",
   "metadata": {},
   "outputs": [],
   "source": [
    "Credit_Scores = ['Good', 'Standard', 'Poor']"
   ]
  },
  {
   "cell_type": "code",
   "execution_count": 106,
   "id": "81ab300e",
   "metadata": {},
   "outputs": [],
   "source": [
    "label_map = {}\n",
    "label = 0\n",
    "for i in Credit_Scores:\n",
    "    label_map[i] = label\n",
    "    label += 1\n",
    "\n",
    "train1['Credit_Score_Encoded'] = train1['Credit_Score'].apply(lambda x: label_map[x])"
   ]
  },
  {
   "cell_type": "code",
   "execution_count": 107,
   "id": "ce46dedb",
   "metadata": {},
   "outputs": [],
   "source": [
    "new_train = train1.drop(['Month','Occupation','Credit_Mix','Payment_Behaviour','Payment_of_Min_Amount','Credit_Score'], axis=1)"
   ]
  },
  {
   "cell_type": "code",
   "execution_count": 108,
   "id": "45791e6d",
   "metadata": {},
   "outputs": [
    {
     "data": {
      "text/html": [
       "<div>\n",
       "<style scoped>\n",
       "    .dataframe tbody tr th:only-of-type {\n",
       "        vertical-align: middle;\n",
       "    }\n",
       "\n",
       "    .dataframe tbody tr th {\n",
       "        vertical-align: top;\n",
       "    }\n",
       "\n",
       "    .dataframe thead th {\n",
       "        text-align: right;\n",
       "    }\n",
       "</style>\n",
       "<table border=\"1\" class=\"dataframe\">\n",
       "  <thead>\n",
       "    <tr style=\"text-align: right;\">\n",
       "      <th></th>\n",
       "      <th>Customer_ID</th>\n",
       "      <th>Age</th>\n",
       "      <th>Annual_Income</th>\n",
       "      <th>Monthly_Inhand_Salary</th>\n",
       "      <th>Num_Bank_Accounts</th>\n",
       "      <th>Num_Credit_Card</th>\n",
       "      <th>Interest_Rate</th>\n",
       "      <th>Num_of_Loan</th>\n",
       "      <th>Delay_from_due_date</th>\n",
       "      <th>Num_of_Delayed_Payment</th>\n",
       "      <th>...</th>\n",
       "      <th>Credit_History_Age</th>\n",
       "      <th>Total_EMI_per_month</th>\n",
       "      <th>Amount_invested_monthly</th>\n",
       "      <th>Monthly_Balance</th>\n",
       "      <th>Month_Encoded</th>\n",
       "      <th>Occupation_Encoded</th>\n",
       "      <th>Credit_Mix_Encoded</th>\n",
       "      <th>Payment_Behaviour_Encoded</th>\n",
       "      <th>Payment_of_Min_Amount_Encoded</th>\n",
       "      <th>Credit_Score_Encoded</th>\n",
       "    </tr>\n",
       "  </thead>\n",
       "  <tbody>\n",
       "    <tr>\n",
       "      <th>0</th>\n",
       "      <td>3392</td>\n",
       "      <td>23</td>\n",
       "      <td>19114.12</td>\n",
       "      <td>1824.843333</td>\n",
       "      <td>3</td>\n",
       "      <td>4</td>\n",
       "      <td>3</td>\n",
       "      <td>4</td>\n",
       "      <td>3</td>\n",
       "      <td>7.0</td>\n",
       "      <td>...</td>\n",
       "      <td>265.0</td>\n",
       "      <td>49.574949</td>\n",
       "      <td>80.415295</td>\n",
       "      <td>312.494089</td>\n",
       "      <td>0</td>\n",
       "      <td>0</td>\n",
       "      <td>0</td>\n",
       "      <td>0</td>\n",
       "      <td>0</td>\n",
       "      <td>0</td>\n",
       "    </tr>\n",
       "    <tr>\n",
       "      <th>3</th>\n",
       "      <td>3392</td>\n",
       "      <td>23</td>\n",
       "      <td>19114.12</td>\n",
       "      <td>1824.843333</td>\n",
       "      <td>3</td>\n",
       "      <td>4</td>\n",
       "      <td>3</td>\n",
       "      <td>4</td>\n",
       "      <td>5</td>\n",
       "      <td>4.0</td>\n",
       "      <td>...</td>\n",
       "      <td>268.0</td>\n",
       "      <td>49.574949</td>\n",
       "      <td>199.458074</td>\n",
       "      <td>223.451310</td>\n",
       "      <td>1</td>\n",
       "      <td>0</td>\n",
       "      <td>0</td>\n",
       "      <td>1</td>\n",
       "      <td>0</td>\n",
       "      <td>0</td>\n",
       "    </tr>\n",
       "    <tr>\n",
       "      <th>4</th>\n",
       "      <td>3392</td>\n",
       "      <td>23</td>\n",
       "      <td>19114.12</td>\n",
       "      <td>1824.843333</td>\n",
       "      <td>3</td>\n",
       "      <td>4</td>\n",
       "      <td>3</td>\n",
       "      <td>4</td>\n",
       "      <td>6</td>\n",
       "      <td>4.0</td>\n",
       "      <td>...</td>\n",
       "      <td>269.0</td>\n",
       "      <td>49.574949</td>\n",
       "      <td>41.420153</td>\n",
       "      <td>341.489231</td>\n",
       "      <td>2</td>\n",
       "      <td>0</td>\n",
       "      <td>0</td>\n",
       "      <td>2</td>\n",
       "      <td>0</td>\n",
       "      <td>0</td>\n",
       "    </tr>\n",
       "    <tr>\n",
       "      <th>5</th>\n",
       "      <td>3392</td>\n",
       "      <td>23</td>\n",
       "      <td>19114.12</td>\n",
       "      <td>1824.843333</td>\n",
       "      <td>3</td>\n",
       "      <td>4</td>\n",
       "      <td>3</td>\n",
       "      <td>4</td>\n",
       "      <td>8</td>\n",
       "      <td>4.0</td>\n",
       "      <td>...</td>\n",
       "      <td>270.0</td>\n",
       "      <td>49.574949</td>\n",
       "      <td>62.430172</td>\n",
       "      <td>340.479212</td>\n",
       "      <td>3</td>\n",
       "      <td>0</td>\n",
       "      <td>0</td>\n",
       "      <td>2</td>\n",
       "      <td>0</td>\n",
       "      <td>0</td>\n",
       "    </tr>\n",
       "    <tr>\n",
       "      <th>6</th>\n",
       "      <td>3392</td>\n",
       "      <td>23</td>\n",
       "      <td>19114.12</td>\n",
       "      <td>1824.843333</td>\n",
       "      <td>3</td>\n",
       "      <td>4</td>\n",
       "      <td>3</td>\n",
       "      <td>4</td>\n",
       "      <td>3</td>\n",
       "      <td>8.0</td>\n",
       "      <td>...</td>\n",
       "      <td>271.0</td>\n",
       "      <td>49.574949</td>\n",
       "      <td>178.344067</td>\n",
       "      <td>244.565317</td>\n",
       "      <td>4</td>\n",
       "      <td>0</td>\n",
       "      <td>0</td>\n",
       "      <td>1</td>\n",
       "      <td>0</td>\n",
       "      <td>0</td>\n",
       "    </tr>\n",
       "  </tbody>\n",
       "</table>\n",
       "<p>5 rows × 24 columns</p>\n",
       "</div>"
      ],
      "text/plain": [
       "   Customer_ID  Age  Annual_Income  Monthly_Inhand_Salary  Num_Bank_Accounts  \\\n",
       "0         3392   23       19114.12            1824.843333                  3   \n",
       "3         3392   23       19114.12            1824.843333                  3   \n",
       "4         3392   23       19114.12            1824.843333                  3   \n",
       "5         3392   23       19114.12            1824.843333                  3   \n",
       "6         3392   23       19114.12            1824.843333                  3   \n",
       "\n",
       "   Num_Credit_Card  Interest_Rate  Num_of_Loan  Delay_from_due_date  \\\n",
       "0                4              3            4                    3   \n",
       "3                4              3            4                    5   \n",
       "4                4              3            4                    6   \n",
       "5                4              3            4                    8   \n",
       "6                4              3            4                    3   \n",
       "\n",
       "   Num_of_Delayed_Payment  ...  Credit_History_Age  Total_EMI_per_month  \\\n",
       "0                     7.0  ...               265.0            49.574949   \n",
       "3                     4.0  ...               268.0            49.574949   \n",
       "4                     4.0  ...               269.0            49.574949   \n",
       "5                     4.0  ...               270.0            49.574949   \n",
       "6                     8.0  ...               271.0            49.574949   \n",
       "\n",
       "   Amount_invested_monthly  Monthly_Balance  Month_Encoded  \\\n",
       "0                80.415295       312.494089              0   \n",
       "3               199.458074       223.451310              1   \n",
       "4                41.420153       341.489231              2   \n",
       "5                62.430172       340.479212              3   \n",
       "6               178.344067       244.565317              4   \n",
       "\n",
       "   Occupation_Encoded  Credit_Mix_Encoded  Payment_Behaviour_Encoded  \\\n",
       "0                   0                   0                          0   \n",
       "3                   0                   0                          1   \n",
       "4                   0                   0                          2   \n",
       "5                   0                   0                          2   \n",
       "6                   0                   0                          1   \n",
       "\n",
       "   Payment_of_Min_Amount_Encoded  Credit_Score_Encoded  \n",
       "0                              0                     0  \n",
       "3                              0                     0  \n",
       "4                              0                     0  \n",
       "5                              0                     0  \n",
       "6                              0                     0  \n",
       "\n",
       "[5 rows x 24 columns]"
      ]
     },
     "execution_count": 108,
     "metadata": {},
     "output_type": "execute_result"
    }
   ],
   "source": [
    "new_train.head()"
   ]
  },
  {
   "cell_type": "code",
   "execution_count": 109,
   "id": "6f3e6bc1",
   "metadata": {},
   "outputs": [
    {
     "data": {
      "text/plain": [
       "(56332, 24)"
      ]
     },
     "execution_count": 109,
     "metadata": {},
     "output_type": "execute_result"
    }
   ],
   "source": [
    "new_train.shape"
   ]
  },
  {
   "cell_type": "markdown",
   "id": "e3bd7d36",
   "metadata": {},
   "source": [
    "# CART Model Building"
   ]
  },
  {
   "cell_type": "code",
   "execution_count": 110,
   "id": "55dbef05",
   "metadata": {},
   "outputs": [],
   "source": [
    "# Define a function to calculate Gini impurity\n",
    "def gini_impurity(labels):\n",
    "    classes = np.unique(labels)\n",
    "    impurity = 1\n",
    "    for c in classes:\n",
    "        p = np.sum(labels == c) / len(labels)\n",
    "        impurity -= p ** 2\n",
    "    return impurity\n",
    "\n",
    "# Define a function to split the data based on a feature and threshold\n",
    "def split_data(X, y, feature, threshold):\n",
    "    left_indices = np.where(X[:, feature] <= threshold)[0]           \n",
    "    right_indices = np.where(X[:, feature] > threshold)[0]\n",
    "    X_left, y_left = X[left_indices], y[left_indices]\n",
    "    X_right, y_right = X[right_indices], y[right_indices]\n",
    "    return X_left, y_left, X_right, y_right\n",
    "\n",
    "# Define a function to find the best split for a given node\n",
    "def find_best_split(X, y):\n",
    "    best_feature, best_threshold, best_impurity = None, None, 1\n",
    "    for feature in range(X.shape[1]):\n",
    "        thresholds = np.unique(X[:, feature])\n",
    "        for threshold in thresholds:\n",
    "            X_left, y_left, X_right, y_right = split_data(X, y, feature, threshold)\n",
    "            impurity = (len(y_left) / len(y)) * gini_impurity(y_left) + (len(y_right) / len(y)) * gini_impurity(y_right)\n",
    "            if impurity < best_impurity:\n",
    "                best_feature, best_threshold, best_impurity = feature, threshold, impurity\n",
    "    return best_feature, best_threshold"
   ]
  },
  {
   "cell_type": "code",
   "execution_count": 111,
   "id": "23df7fc5",
   "metadata": {},
   "outputs": [],
   "source": [
    "# Define a class for the decision tree\n",
    "class Node:\n",
    "    def __init__(self, X, y, depth, max_depth, min_samples_leaf):\n",
    "        self.X = X\n",
    "        self.y = y\n",
    "        self.depth = depth\n",
    "        self.max_depth = max_depth\n",
    "        self.min_samples_leaf = min_samples_leaf\n",
    "        self.left = None\n",
    "        self.right = None\n",
    "        self.feature = None\n",
    "        self.threshold = None\n",
    "        self.label = None\n",
    "\n",
    "    def split(self):    # Splits the input data and labels into two subsets based on the best feature and threshold \n",
    "        self.feature, self.threshold = find_best_split(self.X, self.y)\n",
    "        X_left, y_left, X_right, y_right = split_data(self.X, self.y, self.feature, self.threshold)\n",
    "        if len(y_left) > 0 and len(y_right) > 0 and self.depth < self.max_depth:\n",
    "            self.left = Node(X_left, y_left, self.depth + 1, self.max_depth, min_samples_leaf)\n",
    "            self.right = Node(X_right, y_right, self.depth + 1, self.max_depth, min_samples_leaf)\n",
    "\n",
    "    def predict(self, x):#Given a new data point x, traverses the tree to predict the class label for x.\n",
    "        if self.label is not None:\n",
    "            return self.label\n",
    "        if x[self.feature] <= self.threshold:\n",
    "            return self.left.predict(x)\n",
    "        else:\n",
    "            return self.right.predict(x)\n",
    "            \n",
    "\n",
    "    def fit(self):\n",
    "        if len(np.unique(self.y)) == 1: #If all the elements in the target variable y are the same .This node becomes a leaf node\n",
    "            self.label = self.y[0]\n",
    "            return\n",
    "        if self.depth == self.max_depth:\n",
    "            self.label = np.bincount(self.y).argmax()\n",
    "            return\n",
    "        if len(y) < self.min_samples_leaf:\n",
    "            self.label = np.bincount(self.y).argmax()\n",
    "            return\n",
    "        self.split()\n",
    "        if self.left is not None:\n",
    "            self.left.fit()\n",
    "        if self.right is not None:\n",
    "            self.right.fit()\n"
   ]
  },
  {
   "cell_type": "code",
   "execution_count": 112,
   "id": "734aa54c",
   "metadata": {},
   "outputs": [],
   "source": [
    "# Split the data into features and target\n",
    "X = new_train.drop('Credit_Score_Encoded', axis=1).values # convert this DataFrame into a NumPy array\n",
    "y = new_train['Credit_Score_Encoded'].values"
   ]
  },
  {
   "cell_type": "code",
   "execution_count": 113,
   "id": "42c01b59",
   "metadata": {},
   "outputs": [],
   "source": [
    "def minmax_scaler(X):\n",
    "    min_val = np.min(X)\n",
    "    max_val = np.max(X)\n",
    "    X = (X - min_val) / (max_val - min_val)\n",
    "    return X"
   ]
  },
  {
   "cell_type": "code",
   "execution_count": 114,
   "id": "b9ef8699",
   "metadata": {},
   "outputs": [],
   "source": [
    "from sklearn.model_selection import train_test_split\n",
    "\n",
    "X_train, X_test, y_train, y_test = train_test_split(X, y, test_size=0.2, random_state=42)"
   ]
  },
  {
   "cell_type": "code",
   "execution_count": 115,
   "id": "b742c28d",
   "metadata": {},
   "outputs": [
    {
     "name": "stdout",
     "output_type": "stream",
     "text": [
      "Accuracy: 0.7371971243454336\n"
     ]
    }
   ],
   "source": [
    "# Build the decision tree\n",
    "min_samples_leaf = 5\n",
    "tree = Node(X_train, y_train, 0, 10, min_samples_leaf)\n",
    "tree.fit()\n",
    "\n",
    "# Define a function to calculate the accuracy of the model\n",
    "def accuracy(y_true, y_pred):\n",
    "    return np.mean(y_true == y_pred)\n",
    "\n",
    "# Predict the classes of the test data\n",
    "y_pred = np.array([tree.predict(x) for x in X_test])\n",
    "\n",
    "# Calculate the accuracy of the model\n",
    "print('Accuracy:', accuracy(y_test, y_pred)) "
   ]
  },
  {
   "cell_type": "code",
   "execution_count": 116,
   "id": "df890c6f",
   "metadata": {},
   "outputs": [
    {
     "name": "stdout",
     "output_type": "stream",
     "text": [
      "Recall: [0.6881507188894398, 0.7854352242537896, 0.663626797614872]\n"
     ]
    }
   ],
   "source": [
    "# Define a function to calculate recall for a multiclass problem with 3 classes\n",
    "def recall(y_true, y_pred):\n",
    "    classes = np.unique(y_true)\n",
    "    recall_list = []\n",
    "    for c in classes:\n",
    "        tp = np.sum((y_true == c) & (y_pred == c))\n",
    "        fn = np.sum((y_true == c) & (y_pred != c))\n",
    "        recall = tp / (tp + fn)\n",
    "        recall_list.append(recall)\n",
    "    return recall_list\n",
    "\n",
    "# Calculate the recall of the model\n",
    "print('Recall:', recall(y_test, y_pred))"
   ]
  },
  {
   "cell_type": "code",
   "execution_count": 117,
   "id": "163f948e",
   "metadata": {},
   "outputs": [
    {
     "data": {
      "text/plain": [
       "(11267,)"
      ]
     },
     "execution_count": 117,
     "metadata": {},
     "output_type": "execute_result"
    }
   ],
   "source": [
    "y_test.shape"
   ]
  },
  {
   "cell_type": "code",
   "execution_count": 118,
   "id": "248fc537",
   "metadata": {},
   "outputs": [
    {
     "data": {
      "text/plain": [
       "(11267,)"
      ]
     },
     "execution_count": 118,
     "metadata": {},
     "output_type": "execute_result"
    }
   ],
   "source": [
    "y_pred.shape"
   ]
  },
  {
   "cell_type": "code",
   "execution_count": 119,
   "id": "dd14ca09",
   "metadata": {},
   "outputs": [
    {
     "name": "stdout",
     "output_type": "stream",
     "text": [
      "Recall: [0.6881507188894398, 0.7854352242537896, 0.663626797614872]\n"
     ]
    }
   ],
   "source": [
    "print('Recall:', recall(y_test, y_pred))"
   ]
  },
  {
   "cell_type": "markdown",
   "id": "9cb66561",
   "metadata": {},
   "source": [
    "# Test Data"
   ]
  },
  {
   "cell_type": "code",
   "execution_count": 120,
   "id": "e7b996f4",
   "metadata": {},
   "outputs": [
    {
     "name": "stdout",
     "output_type": "stream",
     "text": [
      "<class 'pandas.core.frame.DataFrame'>\n",
      "RangeIndex: 50000 entries, 0 to 49999\n",
      "Data columns (total 27 columns):\n",
      " #   Column                    Non-Null Count  Dtype  \n",
      "---  ------                    --------------  -----  \n",
      " 0   ID                        50000 non-null  object \n",
      " 1   Customer_ID               50000 non-null  object \n",
      " 2   Month                     50000 non-null  object \n",
      " 3   Name                      44985 non-null  object \n",
      " 4   Age                       50000 non-null  object \n",
      " 5   SSN                       50000 non-null  object \n",
      " 6   Occupation                50000 non-null  object \n",
      " 7   Annual_Income             50000 non-null  object \n",
      " 8   Monthly_Inhand_Salary     42502 non-null  float64\n",
      " 9   Num_Bank_Accounts         50000 non-null  int64  \n",
      " 10  Num_Credit_Card           50000 non-null  int64  \n",
      " 11  Interest_Rate             50000 non-null  int64  \n",
      " 12  Num_of_Loan               50000 non-null  object \n",
      " 13  Type_of_Loan              44296 non-null  object \n",
      " 14  Delay_from_due_date       50000 non-null  int64  \n",
      " 15  Num_of_Delayed_Payment    46502 non-null  object \n",
      " 16  Changed_Credit_Limit      50000 non-null  object \n",
      " 17  Num_Credit_Inquiries      48965 non-null  float64\n",
      " 18  Credit_Mix                50000 non-null  object \n",
      " 19  Outstanding_Debt          50000 non-null  object \n",
      " 20  Credit_Utilization_Ratio  50000 non-null  float64\n",
      " 21  Credit_History_Age        45530 non-null  object \n",
      " 22  Payment_of_Min_Amount     50000 non-null  object \n",
      " 23  Total_EMI_per_month       50000 non-null  float64\n",
      " 24  Amount_invested_monthly   47729 non-null  object \n",
      " 25  Payment_Behaviour         50000 non-null  object \n",
      " 26  Monthly_Balance           49438 non-null  object \n",
      "dtypes: float64(4), int64(4), object(19)\n",
      "memory usage: 10.3+ MB\n"
     ]
    }
   ],
   "source": [
    "test_df.info()"
   ]
  },
  {
   "cell_type": "code",
   "execution_count": 121,
   "id": "7170d471",
   "metadata": {},
   "outputs": [
    {
     "data": {
      "text/html": [
       "<div>\n",
       "<style scoped>\n",
       "    .dataframe tbody tr th:only-of-type {\n",
       "        vertical-align: middle;\n",
       "    }\n",
       "\n",
       "    .dataframe tbody tr th {\n",
       "        vertical-align: top;\n",
       "    }\n",
       "\n",
       "    .dataframe thead th {\n",
       "        text-align: right;\n",
       "    }\n",
       "</style>\n",
       "<table border=\"1\" class=\"dataframe\">\n",
       "  <thead>\n",
       "    <tr style=\"text-align: right;\">\n",
       "      <th></th>\n",
       "      <th>Monthly_Inhand_Salary</th>\n",
       "      <th>Num_Bank_Accounts</th>\n",
       "      <th>Num_Credit_Card</th>\n",
       "      <th>Interest_Rate</th>\n",
       "      <th>Delay_from_due_date</th>\n",
       "      <th>Num_Credit_Inquiries</th>\n",
       "      <th>Credit_Utilization_Ratio</th>\n",
       "      <th>Total_EMI_per_month</th>\n",
       "    </tr>\n",
       "  </thead>\n",
       "  <tbody>\n",
       "    <tr>\n",
       "      <th>count</th>\n",
       "      <td>42502.000000</td>\n",
       "      <td>50000.000000</td>\n",
       "      <td>50000.000000</td>\n",
       "      <td>50000.000000</td>\n",
       "      <td>50000.000000</td>\n",
       "      <td>48965.000000</td>\n",
       "      <td>50000.000000</td>\n",
       "      <td>50000.000000</td>\n",
       "    </tr>\n",
       "    <tr>\n",
       "      <th>mean</th>\n",
       "      <td>4182.004291</td>\n",
       "      <td>16.838260</td>\n",
       "      <td>22.921480</td>\n",
       "      <td>68.772640</td>\n",
       "      <td>21.052640</td>\n",
       "      <td>30.080200</td>\n",
       "      <td>32.279581</td>\n",
       "      <td>1491.304305</td>\n",
       "    </tr>\n",
       "    <tr>\n",
       "      <th>std</th>\n",
       "      <td>3174.109304</td>\n",
       "      <td>116.396848</td>\n",
       "      <td>129.314804</td>\n",
       "      <td>451.602363</td>\n",
       "      <td>14.860397</td>\n",
       "      <td>196.984121</td>\n",
       "      <td>5.106238</td>\n",
       "      <td>8595.647887</td>\n",
       "    </tr>\n",
       "    <tr>\n",
       "      <th>min</th>\n",
       "      <td>303.645417</td>\n",
       "      <td>-1.000000</td>\n",
       "      <td>0.000000</td>\n",
       "      <td>1.000000</td>\n",
       "      <td>-5.000000</td>\n",
       "      <td>0.000000</td>\n",
       "      <td>20.509652</td>\n",
       "      <td>0.000000</td>\n",
       "    </tr>\n",
       "    <tr>\n",
       "      <th>25%</th>\n",
       "      <td>1625.188333</td>\n",
       "      <td>3.000000</td>\n",
       "      <td>4.000000</td>\n",
       "      <td>8.000000</td>\n",
       "      <td>10.000000</td>\n",
       "      <td>4.000000</td>\n",
       "      <td>28.061040</td>\n",
       "      <td>32.222388</td>\n",
       "    </tr>\n",
       "    <tr>\n",
       "      <th>50%</th>\n",
       "      <td>3086.305000</td>\n",
       "      <td>6.000000</td>\n",
       "      <td>5.000000</td>\n",
       "      <td>13.000000</td>\n",
       "      <td>18.000000</td>\n",
       "      <td>7.000000</td>\n",
       "      <td>32.280390</td>\n",
       "      <td>74.733349</td>\n",
       "    </tr>\n",
       "    <tr>\n",
       "      <th>75%</th>\n",
       "      <td>5934.189094</td>\n",
       "      <td>7.000000</td>\n",
       "      <td>7.000000</td>\n",
       "      <td>20.000000</td>\n",
       "      <td>28.000000</td>\n",
       "      <td>10.000000</td>\n",
       "      <td>36.468591</td>\n",
       "      <td>176.157491</td>\n",
       "    </tr>\n",
       "    <tr>\n",
       "      <th>max</th>\n",
       "      <td>15204.633333</td>\n",
       "      <td>1798.000000</td>\n",
       "      <td>1499.000000</td>\n",
       "      <td>5799.000000</td>\n",
       "      <td>67.000000</td>\n",
       "      <td>2593.000000</td>\n",
       "      <td>48.540663</td>\n",
       "      <td>82398.000000</td>\n",
       "    </tr>\n",
       "  </tbody>\n",
       "</table>\n",
       "</div>"
      ],
      "text/plain": [
       "       Monthly_Inhand_Salary  Num_Bank_Accounts  Num_Credit_Card  \\\n",
       "count           42502.000000       50000.000000     50000.000000   \n",
       "mean             4182.004291          16.838260        22.921480   \n",
       "std              3174.109304         116.396848       129.314804   \n",
       "min               303.645417          -1.000000         0.000000   \n",
       "25%              1625.188333           3.000000         4.000000   \n",
       "50%              3086.305000           6.000000         5.000000   \n",
       "75%              5934.189094           7.000000         7.000000   \n",
       "max             15204.633333        1798.000000      1499.000000   \n",
       "\n",
       "       Interest_Rate  Delay_from_due_date  Num_Credit_Inquiries  \\\n",
       "count   50000.000000         50000.000000          48965.000000   \n",
       "mean       68.772640            21.052640             30.080200   \n",
       "std       451.602363            14.860397            196.984121   \n",
       "min         1.000000            -5.000000              0.000000   \n",
       "25%         8.000000            10.000000              4.000000   \n",
       "50%        13.000000            18.000000              7.000000   \n",
       "75%        20.000000            28.000000             10.000000   \n",
       "max      5799.000000            67.000000           2593.000000   \n",
       "\n",
       "       Credit_Utilization_Ratio  Total_EMI_per_month  \n",
       "count              50000.000000         50000.000000  \n",
       "mean                  32.279581          1491.304305  \n",
       "std                    5.106238          8595.647887  \n",
       "min                   20.509652             0.000000  \n",
       "25%                   28.061040            32.222388  \n",
       "50%                   32.280390            74.733349  \n",
       "75%                   36.468591           176.157491  \n",
       "max                   48.540663         82398.000000  "
      ]
     },
     "execution_count": 121,
     "metadata": {},
     "output_type": "execute_result"
    }
   ],
   "source": [
    "test_df.describe()"
   ]
  },
  {
   "cell_type": "code",
   "execution_count": 122,
   "id": "aeaeebaa",
   "metadata": {},
   "outputs": [
    {
     "data": {
      "text/html": [
       "<div>\n",
       "<style scoped>\n",
       "    .dataframe tbody tr th:only-of-type {\n",
       "        vertical-align: middle;\n",
       "    }\n",
       "\n",
       "    .dataframe tbody tr th {\n",
       "        vertical-align: top;\n",
       "    }\n",
       "\n",
       "    .dataframe thead th {\n",
       "        text-align: right;\n",
       "    }\n",
       "</style>\n",
       "<table border=\"1\" class=\"dataframe\">\n",
       "  <thead>\n",
       "    <tr style=\"text-align: right;\">\n",
       "      <th></th>\n",
       "      <th>ID</th>\n",
       "      <th>Customer_ID</th>\n",
       "      <th>Month</th>\n",
       "      <th>Name</th>\n",
       "      <th>Age</th>\n",
       "      <th>SSN</th>\n",
       "      <th>Occupation</th>\n",
       "      <th>Annual_Income</th>\n",
       "      <th>Num_of_Loan</th>\n",
       "      <th>Type_of_Loan</th>\n",
       "      <th>Num_of_Delayed_Payment</th>\n",
       "      <th>Changed_Credit_Limit</th>\n",
       "      <th>Credit_Mix</th>\n",
       "      <th>Outstanding_Debt</th>\n",
       "      <th>Credit_History_Age</th>\n",
       "      <th>Payment_of_Min_Amount</th>\n",
       "      <th>Amount_invested_monthly</th>\n",
       "      <th>Payment_Behaviour</th>\n",
       "      <th>Monthly_Balance</th>\n",
       "    </tr>\n",
       "  </thead>\n",
       "  <tbody>\n",
       "    <tr>\n",
       "      <th>count</th>\n",
       "      <td>50000</td>\n",
       "      <td>50000</td>\n",
       "      <td>50000</td>\n",
       "      <td>44985</td>\n",
       "      <td>50000</td>\n",
       "      <td>50000</td>\n",
       "      <td>50000</td>\n",
       "      <td>50000</td>\n",
       "      <td>50000</td>\n",
       "      <td>44296</td>\n",
       "      <td>46502</td>\n",
       "      <td>50000</td>\n",
       "      <td>50000</td>\n",
       "      <td>50000</td>\n",
       "      <td>45530</td>\n",
       "      <td>50000</td>\n",
       "      <td>47729</td>\n",
       "      <td>50000</td>\n",
       "      <td>49438</td>\n",
       "    </tr>\n",
       "    <tr>\n",
       "      <th>unique</th>\n",
       "      <td>50000</td>\n",
       "      <td>12500</td>\n",
       "      <td>4</td>\n",
       "      <td>10139</td>\n",
       "      <td>976</td>\n",
       "      <td>12501</td>\n",
       "      <td>16</td>\n",
       "      <td>16121</td>\n",
       "      <td>263</td>\n",
       "      <td>6260</td>\n",
       "      <td>443</td>\n",
       "      <td>3927</td>\n",
       "      <td>4</td>\n",
       "      <td>12685</td>\n",
       "      <td>399</td>\n",
       "      <td>3</td>\n",
       "      <td>45450</td>\n",
       "      <td>7</td>\n",
       "      <td>49433</td>\n",
       "    </tr>\n",
       "    <tr>\n",
       "      <th>top</th>\n",
       "      <td>0x160a</td>\n",
       "      <td>CUS_0xd40</td>\n",
       "      <td>September</td>\n",
       "      <td>Stevex</td>\n",
       "      <td>39</td>\n",
       "      <td>#F%$D@*&amp;8</td>\n",
       "      <td>_______</td>\n",
       "      <td>109945.32</td>\n",
       "      <td>2</td>\n",
       "      <td>Not Specified</td>\n",
       "      <td>19</td>\n",
       "      <td>_</td>\n",
       "      <td>Standard</td>\n",
       "      <td>1109.03</td>\n",
       "      <td>20 Years and 1 Months</td>\n",
       "      <td>Yes</td>\n",
       "      <td>__10000__</td>\n",
       "      <td>Low_spent_Small_value_payments</td>\n",
       "      <td>__-333333333333333333333333333__</td>\n",
       "    </tr>\n",
       "    <tr>\n",
       "      <th>freq</th>\n",
       "      <td>1</td>\n",
       "      <td>4</td>\n",
       "      <td>12500</td>\n",
       "      <td>22</td>\n",
       "      <td>1493</td>\n",
       "      <td>2828</td>\n",
       "      <td>3438</td>\n",
       "      <td>8</td>\n",
       "      <td>7173</td>\n",
       "      <td>704</td>\n",
       "      <td>2622</td>\n",
       "      <td>1059</td>\n",
       "      <td>18379</td>\n",
       "      <td>12</td>\n",
       "      <td>254</td>\n",
       "      <td>26158</td>\n",
       "      <td>2175</td>\n",
       "      <td>12694</td>\n",
       "      <td>6</td>\n",
       "    </tr>\n",
       "  </tbody>\n",
       "</table>\n",
       "</div>"
      ],
      "text/plain": [
       "            ID Customer_ID      Month    Name    Age        SSN Occupation  \\\n",
       "count    50000       50000      50000   44985  50000      50000      50000   \n",
       "unique   50000       12500          4   10139    976      12501         16   \n",
       "top     0x160a   CUS_0xd40  September  Stevex     39  #F%$D@*&8    _______   \n",
       "freq         1           4      12500      22   1493       2828       3438   \n",
       "\n",
       "       Annual_Income Num_of_Loan   Type_of_Loan Num_of_Delayed_Payment  \\\n",
       "count          50000       50000          44296                  46502   \n",
       "unique         16121         263           6260                    443   \n",
       "top        109945.32           2  Not Specified                     19   \n",
       "freq               8        7173            704                   2622   \n",
       "\n",
       "       Changed_Credit_Limit Credit_Mix Outstanding_Debt  \\\n",
       "count                 50000      50000            50000   \n",
       "unique                 3927          4            12685   \n",
       "top                       _   Standard          1109.03   \n",
       "freq                   1059      18379               12   \n",
       "\n",
       "           Credit_History_Age Payment_of_Min_Amount Amount_invested_monthly  \\\n",
       "count                   45530                 50000                   47729   \n",
       "unique                    399                     3                   45450   \n",
       "top     20 Years and 1 Months                   Yes               __10000__   \n",
       "freq                      254                 26158                    2175   \n",
       "\n",
       "                     Payment_Behaviour                   Monthly_Balance  \n",
       "count                            50000                             49438  \n",
       "unique                               7                             49433  \n",
       "top     Low_spent_Small_value_payments  __-333333333333333333333333333__  \n",
       "freq                             12694                                 6  "
      ]
     },
     "execution_count": 122,
     "metadata": {},
     "output_type": "execute_result"
    }
   ],
   "source": [
    "test_df.describe(exclude=np.number)"
   ]
  },
  {
   "cell_type": "code",
   "execution_count": 123,
   "id": "356065c5",
   "metadata": {},
   "outputs": [
    {
     "data": {
      "text/plain": [
       "ID                             0\n",
       "Customer_ID                    0\n",
       "Month                          0\n",
       "Name                        5015\n",
       "Age                            0\n",
       "SSN                            0\n",
       "Occupation                     0\n",
       "Annual_Income                  0\n",
       "Monthly_Inhand_Salary       7498\n",
       "Num_Bank_Accounts              0\n",
       "Num_Credit_Card                0\n",
       "Interest_Rate                  0\n",
       "Num_of_Loan                    0\n",
       "Type_of_Loan                5704\n",
       "Delay_from_due_date            0\n",
       "Num_of_Delayed_Payment      3498\n",
       "Changed_Credit_Limit           0\n",
       "Num_Credit_Inquiries        1035\n",
       "Credit_Mix                     0\n",
       "Outstanding_Debt               0\n",
       "Credit_Utilization_Ratio       0\n",
       "Credit_History_Age          4470\n",
       "Payment_of_Min_Amount          0\n",
       "Total_EMI_per_month            0\n",
       "Amount_invested_monthly     2271\n",
       "Payment_Behaviour              0\n",
       "Monthly_Balance              562\n",
       "dtype: int64"
      ]
     },
     "execution_count": 123,
     "metadata": {},
     "output_type": "execute_result"
    }
   ],
   "source": [
    "test_df.isnull().sum()"
   ]
  },
  {
   "cell_type": "code",
   "execution_count": 124,
   "id": "aae98e27",
   "metadata": {},
   "outputs": [],
   "source": [
    "empty_space_df = test_df.isnull().sum()\n",
    "empty_space_df_percentage = (empty_space_df/ (empty_space_df.sum()))*100\n",
    "\n",
    "#to remove columns withour missing value\n",
    "empty_space_df_percentage = empty_space_df_percentage.drop(empty_space_df_percentage[empty_space_df_percentage ==0].index)\n",
    "\n",
    "empty_space_df_percentage = empty_space_df_percentage.sort_values(ascending=False)"
   ]
  },
  {
   "cell_type": "code",
   "execution_count": 125,
   "id": "41dfa020",
   "metadata": {},
   "outputs": [
    {
     "data": {
      "image/png": "[encoded data removed]",
      "text/plain": [
       "<Figure size 432x288 with 1 Axes>"
      ]
     },
     "metadata": {
      "needs_background": "light"
     },
     "output_type": "display_data"
    }
   ],
   "source": [
    "plt.xticks(rotation = '75')\n",
    "sns.barplot(x = empty_space_df_percentage.index, y = empty_space_df_percentage)\n",
    "plt.title('Percentage of missing values');"
   ]
  },
  {
   "cell_type": "markdown",
   "id": "2608e90b",
   "metadata": {},
   "source": [
    "# Test Data Preprocessing"
   ]
  },
  {
   "cell_type": "code",
   "execution_count": 126,
   "id": "26813a71",
   "metadata": {},
   "outputs": [],
   "source": [
    "test_df = test_df.applymap(lambda x: x if x is np.NaN or not isinstance(x, str) else str(x).strip('_ ,\"')).replace(['', 'nan', '!@9#%8', '#F%$D@*&8'], np.NaN)"
   ]
  },
  {
   "cell_type": "markdown",
   "id": "c65424be",
   "metadata": {},
   "source": [
    "# Remove Unnecessary column"
   ]
  },
  {
   "cell_type": "code",
   "execution_count": 127,
   "id": "e0e603fa",
   "metadata": {},
   "outputs": [],
   "source": [
    "test = test_df.drop([\"ID\",'SSN','Name','Type_of_Loan'], axis=1)"
   ]
  },
  {
   "cell_type": "code",
   "execution_count": 128,
   "id": "40a8fcac",
   "metadata": {},
   "outputs": [
    {
     "data": {
      "text/plain": [
       "(50000, 23)"
      ]
     },
     "execution_count": 128,
     "metadata": {},
     "output_type": "execute_result"
    }
   ],
   "source": [
    "test.shape"
   ]
  },
  {
   "cell_type": "code",
   "execution_count": 129,
   "id": "b02135af",
   "metadata": {},
   "outputs": [],
   "source": [
    "test['Customer_ID'] = test.Customer_ID.apply(lambda x: int(x[4:], 16))"
   ]
  },
  {
   "cell_type": "code",
   "execution_count": 130,
   "id": "8c78bc64",
   "metadata": {},
   "outputs": [],
   "source": [
    "test['Age'] = test.Age.astype(int)"
   ]
  },
  {
   "cell_type": "code",
   "execution_count": 131,
   "id": "983a13da",
   "metadata": {},
   "outputs": [],
   "source": [
    "test['Annual_Income'] = test.Annual_Income.astype(float)"
   ]
  },
  {
   "cell_type": "code",
   "execution_count": 132,
   "id": "bffef7c5",
   "metadata": {},
   "outputs": [],
   "source": [
    "test['Num_of_Loan'] = test.Num_of_Loan.astype(int)"
   ]
  },
  {
   "cell_type": "code",
   "execution_count": 133,
   "id": "e8ec1cbf",
   "metadata": {},
   "outputs": [],
   "source": [
    "test['Num_of_Delayed_Payment'] = test.Num_of_Delayed_Payment.astype(float)"
   ]
  },
  {
   "cell_type": "code",
   "execution_count": 134,
   "id": "08fe17cd",
   "metadata": {},
   "outputs": [],
   "source": [
    "test['Changed_Credit_Limit'] = test.Changed_Credit_Limit.astype(float)"
   ]
  },
  {
   "cell_type": "code",
   "execution_count": 135,
   "id": "da9991b6",
   "metadata": {},
   "outputs": [],
   "source": [
    "test['Outstanding_Debt'] = test.Outstanding_Debt.astype(float)"
   ]
  },
  {
   "cell_type": "code",
   "execution_count": 136,
   "id": "376b28ad",
   "metadata": {},
   "outputs": [],
   "source": [
    "test['Amount_invested_monthly'] = test.Amount_invested_monthly.astype(float)"
   ]
  },
  {
   "cell_type": "code",
   "execution_count": 137,
   "id": "4f2d5563",
   "metadata": {},
   "outputs": [],
   "source": [
    "test['Monthly_Balance'] = test.Monthly_Balance.astype(float)"
   ]
  },
  {
   "cell_type": "code",
   "execution_count": 138,
   "id": "d4715ba9",
   "metadata": {},
   "outputs": [],
   "source": [
    "def Month_Converter(x):\n",
    "    if pd.notnull(x):\n",
    "        num1 = int(x.split(' ')[0])\n",
    "        num2 = int(x.split(' ')[3])\n",
    "      \n",
    "        return num1*12+num2\n",
    "    else:\n",
    "        return x"
   ]
  },
  {
   "cell_type": "code",
   "execution_count": 139,
   "id": "a2bf5ccb",
   "metadata": {},
   "outputs": [],
   "source": [
    "test['Credit_History_Age'] = test.Credit_History_Age.apply(lambda x: Month_Converter(x)).astype(float)"
   ]
  },
  {
   "cell_type": "code",
   "execution_count": 140,
   "id": "609bfa69",
   "metadata": {},
   "outputs": [],
   "source": [
    "num_cols1 = test.select_dtypes(include=np.number)\n",
    "cat_cols1 = test.select_dtypes(include='object')"
   ]
  },
  {
   "cell_type": "code",
   "execution_count": 141,
   "id": "26fa4ffc",
   "metadata": {},
   "outputs": [
    {
     "data": {
      "text/html": [
       "<div>\n",
       "<style scoped>\n",
       "    .dataframe tbody tr th:only-of-type {\n",
       "        vertical-align: middle;\n",
       "    }\n",
       "\n",
       "    .dataframe tbody tr th {\n",
       "        vertical-align: top;\n",
       "    }\n",
       "\n",
       "    .dataframe thead th {\n",
       "        text-align: right;\n",
       "    }\n",
       "</style>\n",
       "<table border=\"1\" class=\"dataframe\">\n",
       "  <thead>\n",
       "    <tr style=\"text-align: right;\">\n",
       "      <th></th>\n",
       "      <th>Customer_ID</th>\n",
       "      <th>Age</th>\n",
       "      <th>Annual_Income</th>\n",
       "      <th>Monthly_Inhand_Salary</th>\n",
       "      <th>Num_Bank_Accounts</th>\n",
       "      <th>Num_Credit_Card</th>\n",
       "      <th>Interest_Rate</th>\n",
       "      <th>Num_of_Loan</th>\n",
       "      <th>Delay_from_due_date</th>\n",
       "      <th>Num_of_Delayed_Payment</th>\n",
       "      <th>Changed_Credit_Limit</th>\n",
       "      <th>Num_Credit_Inquiries</th>\n",
       "      <th>Outstanding_Debt</th>\n",
       "      <th>Credit_Utilization_Ratio</th>\n",
       "      <th>Credit_History_Age</th>\n",
       "      <th>Total_EMI_per_month</th>\n",
       "      <th>Amount_invested_monthly</th>\n",
       "      <th>Monthly_Balance</th>\n",
       "    </tr>\n",
       "  </thead>\n",
       "  <tbody>\n",
       "    <tr>\n",
       "      <th>0</th>\n",
       "      <td>3392</td>\n",
       "      <td>23</td>\n",
       "      <td>19114.12</td>\n",
       "      <td>1824.843333</td>\n",
       "      <td>3</td>\n",
       "      <td>4</td>\n",
       "      <td>3</td>\n",
       "      <td>4</td>\n",
       "      <td>3</td>\n",
       "      <td>7.0</td>\n",
       "      <td>11.27</td>\n",
       "      <td>2022.0</td>\n",
       "      <td>809.98</td>\n",
       "      <td>35.030402</td>\n",
       "      <td>273.0</td>\n",
       "      <td>49.574949</td>\n",
       "      <td>236.642682</td>\n",
       "      <td>186.266702</td>\n",
       "    </tr>\n",
       "    <tr>\n",
       "      <th>1</th>\n",
       "      <td>3392</td>\n",
       "      <td>24</td>\n",
       "      <td>19114.12</td>\n",
       "      <td>1824.843333</td>\n",
       "      <td>3</td>\n",
       "      <td>4</td>\n",
       "      <td>3</td>\n",
       "      <td>4</td>\n",
       "      <td>3</td>\n",
       "      <td>9.0</td>\n",
       "      <td>13.27</td>\n",
       "      <td>4.0</td>\n",
       "      <td>809.98</td>\n",
       "      <td>33.053114</td>\n",
       "      <td>274.0</td>\n",
       "      <td>49.574949</td>\n",
       "      <td>21.465380</td>\n",
       "      <td>361.444004</td>\n",
       "    </tr>\n",
       "    <tr>\n",
       "      <th>2</th>\n",
       "      <td>3392</td>\n",
       "      <td>24</td>\n",
       "      <td>19114.12</td>\n",
       "      <td>1824.843333</td>\n",
       "      <td>3</td>\n",
       "      <td>4</td>\n",
       "      <td>3</td>\n",
       "      <td>4</td>\n",
       "      <td>-1</td>\n",
       "      <td>4.0</td>\n",
       "      <td>12.27</td>\n",
       "      <td>4.0</td>\n",
       "      <td>809.98</td>\n",
       "      <td>33.811894</td>\n",
       "      <td>NaN</td>\n",
       "      <td>49.574949</td>\n",
       "      <td>148.233938</td>\n",
       "      <td>264.675446</td>\n",
       "    </tr>\n",
       "    <tr>\n",
       "      <th>3</th>\n",
       "      <td>3392</td>\n",
       "      <td>24</td>\n",
       "      <td>19114.12</td>\n",
       "      <td>NaN</td>\n",
       "      <td>3</td>\n",
       "      <td>4</td>\n",
       "      <td>3</td>\n",
       "      <td>4</td>\n",
       "      <td>4</td>\n",
       "      <td>5.0</td>\n",
       "      <td>11.27</td>\n",
       "      <td>4.0</td>\n",
       "      <td>809.98</td>\n",
       "      <td>32.430559</td>\n",
       "      <td>276.0</td>\n",
       "      <td>49.574949</td>\n",
       "      <td>39.082511</td>\n",
       "      <td>343.826873</td>\n",
       "    </tr>\n",
       "    <tr>\n",
       "      <th>4</th>\n",
       "      <td>8625</td>\n",
       "      <td>28</td>\n",
       "      <td>34847.84</td>\n",
       "      <td>3037.986667</td>\n",
       "      <td>2</td>\n",
       "      <td>4</td>\n",
       "      <td>6</td>\n",
       "      <td>1</td>\n",
       "      <td>3</td>\n",
       "      <td>1.0</td>\n",
       "      <td>5.42</td>\n",
       "      <td>5.0</td>\n",
       "      <td>605.03</td>\n",
       "      <td>25.926822</td>\n",
       "      <td>327.0</td>\n",
       "      <td>18.816215</td>\n",
       "      <td>39.684018</td>\n",
       "      <td>485.298434</td>\n",
       "    </tr>\n",
       "    <tr>\n",
       "      <th>...</th>\n",
       "      <td>...</td>\n",
       "      <td>...</td>\n",
       "      <td>...</td>\n",
       "      <td>...</td>\n",
       "      <td>...</td>\n",
       "      <td>...</td>\n",
       "      <td>...</td>\n",
       "      <td>...</td>\n",
       "      <td>...</td>\n",
       "      <td>...</td>\n",
       "      <td>...</td>\n",
       "      <td>...</td>\n",
       "      <td>...</td>\n",
       "      <td>...</td>\n",
       "      <td>...</td>\n",
       "      <td>...</td>\n",
       "      <td>...</td>\n",
       "      <td>...</td>\n",
       "    </tr>\n",
       "    <tr>\n",
       "      <th>49995</th>\n",
       "      <td>34304</td>\n",
       "      <td>4975</td>\n",
       "      <td>20002.88</td>\n",
       "      <td>1929.906667</td>\n",
       "      <td>10</td>\n",
       "      <td>8</td>\n",
       "      <td>29</td>\n",
       "      <td>5</td>\n",
       "      <td>33</td>\n",
       "      <td>25.0</td>\n",
       "      <td>18.31</td>\n",
       "      <td>12.0</td>\n",
       "      <td>3571.70</td>\n",
       "      <td>34.780553</td>\n",
       "      <td>NaN</td>\n",
       "      <td>60.964772</td>\n",
       "      <td>146.486325</td>\n",
       "      <td>275.539570</td>\n",
       "    </tr>\n",
       "    <tr>\n",
       "      <th>49996</th>\n",
       "      <td>37932</td>\n",
       "      <td>25</td>\n",
       "      <td>39628.99</td>\n",
       "      <td>NaN</td>\n",
       "      <td>4</td>\n",
       "      <td>6</td>\n",
       "      <td>7</td>\n",
       "      <td>2</td>\n",
       "      <td>20</td>\n",
       "      <td>NaN</td>\n",
       "      <td>11.50</td>\n",
       "      <td>7.0</td>\n",
       "      <td>502.38</td>\n",
       "      <td>27.758522</td>\n",
       "      <td>383.0</td>\n",
       "      <td>35.104023</td>\n",
       "      <td>181.442999</td>\n",
       "      <td>409.394562</td>\n",
       "    </tr>\n",
       "    <tr>\n",
       "      <th>49997</th>\n",
       "      <td>37932</td>\n",
       "      <td>25</td>\n",
       "      <td>39628.99</td>\n",
       "      <td>3359.415833</td>\n",
       "      <td>4</td>\n",
       "      <td>6</td>\n",
       "      <td>7</td>\n",
       "      <td>2</td>\n",
       "      <td>23</td>\n",
       "      <td>5.0</td>\n",
       "      <td>13.50</td>\n",
       "      <td>7.0</td>\n",
       "      <td>502.38</td>\n",
       "      <td>36.858542</td>\n",
       "      <td>384.0</td>\n",
       "      <td>35.104023</td>\n",
       "      <td>10000.000000</td>\n",
       "      <td>349.726332</td>\n",
       "    </tr>\n",
       "    <tr>\n",
       "      <th>49998</th>\n",
       "      <td>37932</td>\n",
       "      <td>25</td>\n",
       "      <td>39628.99</td>\n",
       "      <td>NaN</td>\n",
       "      <td>4</td>\n",
       "      <td>6</td>\n",
       "      <td>7</td>\n",
       "      <td>2</td>\n",
       "      <td>21</td>\n",
       "      <td>6.0</td>\n",
       "      <td>11.50</td>\n",
       "      <td>7.0</td>\n",
       "      <td>502.38</td>\n",
       "      <td>39.139840</td>\n",
       "      <td>385.0</td>\n",
       "      <td>35.104023</td>\n",
       "      <td>97.598580</td>\n",
       "      <td>463.238981</td>\n",
       "    </tr>\n",
       "    <tr>\n",
       "      <th>49999</th>\n",
       "      <td>37932</td>\n",
       "      <td>25</td>\n",
       "      <td>39628.99</td>\n",
       "      <td>3359.415833</td>\n",
       "      <td>4</td>\n",
       "      <td>6</td>\n",
       "      <td>7</td>\n",
       "      <td>2</td>\n",
       "      <td>22</td>\n",
       "      <td>5.0</td>\n",
       "      <td>11.50</td>\n",
       "      <td>7.0</td>\n",
       "      <td>502.38</td>\n",
       "      <td>34.108530</td>\n",
       "      <td>386.0</td>\n",
       "      <td>35.104023</td>\n",
       "      <td>220.457878</td>\n",
       "      <td>360.379683</td>\n",
       "    </tr>\n",
       "  </tbody>\n",
       "</table>\n",
       "<p>50000 rows × 18 columns</p>\n",
       "</div>"
      ],
      "text/plain": [
       "       Customer_ID   Age  Annual_Income  Monthly_Inhand_Salary  \\\n",
       "0             3392    23       19114.12            1824.843333   \n",
       "1             3392    24       19114.12            1824.843333   \n",
       "2             3392    24       19114.12            1824.843333   \n",
       "3             3392    24       19114.12                    NaN   \n",
       "4             8625    28       34847.84            3037.986667   \n",
       "...            ...   ...            ...                    ...   \n",
       "49995        34304  4975       20002.88            1929.906667   \n",
       "49996        37932    25       39628.99                    NaN   \n",
       "49997        37932    25       39628.99            3359.415833   \n",
       "49998        37932    25       39628.99                    NaN   \n",
       "49999        37932    25       39628.99            3359.415833   \n",
       "\n",
       "       Num_Bank_Accounts  Num_Credit_Card  Interest_Rate  Num_of_Loan  \\\n",
       "0                      3                4              3            4   \n",
       "1                      3                4              3            4   \n",
       "2                      3                4              3            4   \n",
       "3                      3                4              3            4   \n",
       "4                      2                4              6            1   \n",
       "...                  ...              ...            ...          ...   \n",
       "49995                 10                8             29            5   \n",
       "49996                  4                6              7            2   \n",
       "49997                  4                6              7            2   \n",
       "49998                  4                6              7            2   \n",
       "49999                  4                6              7            2   \n",
       "\n",
       "       Delay_from_due_date  Num_of_Delayed_Payment  Changed_Credit_Limit  \\\n",
       "0                        3                     7.0                 11.27   \n",
       "1                        3                     9.0                 13.27   \n",
       "2                       -1                     4.0                 12.27   \n",
       "3                        4                     5.0                 11.27   \n",
       "4                        3                     1.0                  5.42   \n",
       "...                    ...                     ...                   ...   \n",
       "49995                   33                    25.0                 18.31   \n",
       "49996                   20                     NaN                 11.50   \n",
       "49997                   23                     5.0                 13.50   \n",
       "49998                   21                     6.0                 11.50   \n",
       "49999                   22                     5.0                 11.50   \n",
       "\n",
       "       Num_Credit_Inquiries  Outstanding_Debt  Credit_Utilization_Ratio  \\\n",
       "0                    2022.0            809.98                 35.030402   \n",
       "1                       4.0            809.98                 33.053114   \n",
       "2                       4.0            809.98                 33.811894   \n",
       "3                       4.0            809.98                 32.430559   \n",
       "4                       5.0            605.03                 25.926822   \n",
       "...                     ...               ...                       ...   \n",
       "49995                  12.0           3571.70                 34.780553   \n",
       "49996                   7.0            502.38                 27.758522   \n",
       "49997                   7.0            502.38                 36.858542   \n",
       "49998                   7.0            502.38                 39.139840   \n",
       "49999                   7.0            502.38                 34.108530   \n",
       "\n",
       "       Credit_History_Age  Total_EMI_per_month  Amount_invested_monthly  \\\n",
       "0                   273.0            49.574949               236.642682   \n",
       "1                   274.0            49.574949                21.465380   \n",
       "2                     NaN            49.574949               148.233938   \n",
       "3                   276.0            49.574949                39.082511   \n",
       "4                   327.0            18.816215                39.684018   \n",
       "...                   ...                  ...                      ...   \n",
       "49995                 NaN            60.964772               146.486325   \n",
       "49996               383.0            35.104023               181.442999   \n",
       "49997               384.0            35.104023             10000.000000   \n",
       "49998               385.0            35.104023                97.598580   \n",
       "49999               386.0            35.104023               220.457878   \n",
       "\n",
       "       Monthly_Balance  \n",
       "0           186.266702  \n",
       "1           361.444004  \n",
       "2           264.675446  \n",
       "3           343.826873  \n",
       "4           485.298434  \n",
       "...                ...  \n",
       "49995       275.539570  \n",
       "49996       409.394562  \n",
       "49997       349.726332  \n",
       "49998       463.238981  \n",
       "49999       360.379683  \n",
       "\n",
       "[50000 rows x 18 columns]"
      ]
     },
     "execution_count": 141,
     "metadata": {},
     "output_type": "execute_result"
    }
   ],
   "source": [
    "num_cols1"
   ]
  },
  {
   "cell_type": "code",
   "execution_count": 142,
   "id": "d56e3796",
   "metadata": {},
   "outputs": [
    {
     "data": {
      "text/html": [
       "<div>\n",
       "<style scoped>\n",
       "    .dataframe tbody tr th:only-of-type {\n",
       "        vertical-align: middle;\n",
       "    }\n",
       "\n",
       "    .dataframe tbody tr th {\n",
       "        vertical-align: top;\n",
       "    }\n",
       "\n",
       "    .dataframe thead th {\n",
       "        text-align: right;\n",
       "    }\n",
       "</style>\n",
       "<table border=\"1\" class=\"dataframe\">\n",
       "  <thead>\n",
       "    <tr style=\"text-align: right;\">\n",
       "      <th></th>\n",
       "      <th>Month</th>\n",
       "      <th>Occupation</th>\n",
       "      <th>Credit_Mix</th>\n",
       "      <th>Payment_of_Min_Amount</th>\n",
       "      <th>Payment_Behaviour</th>\n",
       "    </tr>\n",
       "  </thead>\n",
       "  <tbody>\n",
       "    <tr>\n",
       "      <th>0</th>\n",
       "      <td>September</td>\n",
       "      <td>Scientist</td>\n",
       "      <td>Good</td>\n",
       "      <td>No</td>\n",
       "      <td>Low_spent_Small_value_payments</td>\n",
       "    </tr>\n",
       "    <tr>\n",
       "      <th>1</th>\n",
       "      <td>October</td>\n",
       "      <td>Scientist</td>\n",
       "      <td>Good</td>\n",
       "      <td>No</td>\n",
       "      <td>High_spent_Medium_value_payments</td>\n",
       "    </tr>\n",
       "    <tr>\n",
       "      <th>2</th>\n",
       "      <td>November</td>\n",
       "      <td>Scientist</td>\n",
       "      <td>Good</td>\n",
       "      <td>No</td>\n",
       "      <td>Low_spent_Medium_value_payments</td>\n",
       "    </tr>\n",
       "    <tr>\n",
       "      <th>3</th>\n",
       "      <td>December</td>\n",
       "      <td>Scientist</td>\n",
       "      <td>Good</td>\n",
       "      <td>No</td>\n",
       "      <td>High_spent_Medium_value_payments</td>\n",
       "    </tr>\n",
       "    <tr>\n",
       "      <th>4</th>\n",
       "      <td>September</td>\n",
       "      <td>NaN</td>\n",
       "      <td>Good</td>\n",
       "      <td>No</td>\n",
       "      <td>High_spent_Large_value_payments</td>\n",
       "    </tr>\n",
       "    <tr>\n",
       "      <th>...</th>\n",
       "      <td>...</td>\n",
       "      <td>...</td>\n",
       "      <td>...</td>\n",
       "      <td>...</td>\n",
       "      <td>...</td>\n",
       "    </tr>\n",
       "    <tr>\n",
       "      <th>49995</th>\n",
       "      <td>December</td>\n",
       "      <td>Architect</td>\n",
       "      <td>NaN</td>\n",
       "      <td>Yes</td>\n",
       "      <td>Low_spent_Small_value_payments</td>\n",
       "    </tr>\n",
       "    <tr>\n",
       "      <th>49996</th>\n",
       "      <td>September</td>\n",
       "      <td>Mechanic</td>\n",
       "      <td>Good</td>\n",
       "      <td>NM</td>\n",
       "      <td>Low_spent_Small_value_payments</td>\n",
       "    </tr>\n",
       "    <tr>\n",
       "      <th>49997</th>\n",
       "      <td>October</td>\n",
       "      <td>Mechanic</td>\n",
       "      <td>Good</td>\n",
       "      <td>No</td>\n",
       "      <td>Low_spent_Large_value_payments</td>\n",
       "    </tr>\n",
       "    <tr>\n",
       "      <th>49998</th>\n",
       "      <td>November</td>\n",
       "      <td>Mechanic</td>\n",
       "      <td>Good</td>\n",
       "      <td>No</td>\n",
       "      <td>High_spent_Small_value_payments</td>\n",
       "    </tr>\n",
       "    <tr>\n",
       "      <th>49999</th>\n",
       "      <td>December</td>\n",
       "      <td>Mechanic</td>\n",
       "      <td>NaN</td>\n",
       "      <td>No</td>\n",
       "      <td>Low_spent_Medium_value_payments</td>\n",
       "    </tr>\n",
       "  </tbody>\n",
       "</table>\n",
       "<p>50000 rows × 5 columns</p>\n",
       "</div>"
      ],
      "text/plain": [
       "           Month Occupation Credit_Mix Payment_of_Min_Amount  \\\n",
       "0      September  Scientist       Good                    No   \n",
       "1        October  Scientist       Good                    No   \n",
       "2       November  Scientist       Good                    No   \n",
       "3       December  Scientist       Good                    No   \n",
       "4      September        NaN       Good                    No   \n",
       "...          ...        ...        ...                   ...   \n",
       "49995   December  Architect        NaN                   Yes   \n",
       "49996  September   Mechanic       Good                    NM   \n",
       "49997    October   Mechanic       Good                    No   \n",
       "49998   November   Mechanic       Good                    No   \n",
       "49999   December   Mechanic        NaN                    No   \n",
       "\n",
       "                      Payment_Behaviour  \n",
       "0        Low_spent_Small_value_payments  \n",
       "1      High_spent_Medium_value_payments  \n",
       "2       Low_spent_Medium_value_payments  \n",
       "3      High_spent_Medium_value_payments  \n",
       "4       High_spent_Large_value_payments  \n",
       "...                                 ...  \n",
       "49995    Low_spent_Small_value_payments  \n",
       "49996    Low_spent_Small_value_payments  \n",
       "49997    Low_spent_Large_value_payments  \n",
       "49998   High_spent_Small_value_payments  \n",
       "49999   Low_spent_Medium_value_payments  \n",
       "\n",
       "[50000 rows x 5 columns]"
      ]
     },
     "execution_count": 142,
     "metadata": {},
     "output_type": "execute_result"
    }
   ],
   "source": [
    "cat_cols1"
   ]
  },
  {
   "cell_type": "markdown",
   "id": "89030184",
   "metadata": {},
   "source": [
    "# Checking Missing Values in columns"
   ]
  },
  {
   "cell_type": "code",
   "execution_count": 143,
   "id": "10637399",
   "metadata": {},
   "outputs": [
    {
     "data": {
      "text/plain": [
       "Occupation                 3438\n",
       "Monthly_Inhand_Salary      7498\n",
       "Num_of_Delayed_Payment     3498\n",
       "Changed_Credit_Limit       1059\n",
       "Num_Credit_Inquiries       1035\n",
       "Credit_Mix                 9805\n",
       "Credit_History_Age         4470\n",
       "Amount_invested_monthly    2271\n",
       "Payment_Behaviour          3800\n",
       "Monthly_Balance             562\n",
       "dtype: int64"
      ]
     },
     "execution_count": 143,
     "metadata": {},
     "output_type": "execute_result"
    }
   ],
   "source": [
    "def missing_value_columns (data):\n",
    "    miss_cols = (data.isnull().sum())\n",
    "    return miss_cols[miss_cols>0]\n",
    "\n",
    "missing_value_columns(test)"
   ]
  },
  {
   "cell_type": "code",
   "execution_count": 144,
   "id": "ea81fcfc",
   "metadata": {},
   "outputs": [
    {
     "data": {
      "text/plain": [
       "Index(['Occupation', 'Monthly_Inhand_Salary', 'Num_of_Delayed_Payment',\n",
       "       'Changed_Credit_Limit', 'Num_Credit_Inquiries', 'Credit_Mix',\n",
       "       'Credit_History_Age', 'Amount_invested_monthly', 'Payment_Behaviour',\n",
       "       'Monthly_Balance'],\n",
       "      dtype='object')"
      ]
     },
     "execution_count": 144,
     "metadata": {},
     "output_type": "execute_result"
    }
   ],
   "source": [
    "miss_cols = (test.isnull().sum())\n",
    "(miss_cols[miss_cols>0]).index"
   ]
  },
  {
   "cell_type": "markdown",
   "id": "66d28f5b",
   "metadata": {},
   "source": [
    "# Otliers Detection & Filling null values"
   ]
  },
  {
   "cell_type": "code",
   "execution_count": 145,
   "id": "8ae5cb00",
   "metadata": {},
   "outputs": [
    {
     "data": {
      "text/plain": [
       "['Monthly_Inhand_Salary',\n",
       " 'Num_of_Delayed_Payment',\n",
       " 'Changed_Credit_Limit',\n",
       " 'Num_Credit_Inquiries',\n",
       " 'Credit_History_Age',\n",
       " 'Amount_invested_monthly',\n",
       " 'Monthly_Balance']"
      ]
     },
     "execution_count": 145,
     "metadata": {},
     "output_type": "execute_result"
    }
   ],
   "source": [
    "miss_num_cols = list(test[(miss_cols[miss_cols>0]).index].select_dtypes(include=['int64','float64']).columns)\n",
    "miss_num_cols"
   ]
  },
  {
   "cell_type": "markdown",
   "id": "3187271c",
   "metadata": {},
   "source": [
    "# Boxplot"
   ]
  },
  {
   "cell_type": "code",
   "execution_count": 146,
   "id": "50eb0933",
   "metadata": {},
   "outputs": [
    {
     "data": {
      "image/png": "[encoded data removed]",
      "text/plain": [
       "<Figure size 1440x1440 with 9 Axes>"
      ]
     },
     "metadata": {
      "needs_background": "light"
     },
     "output_type": "display_data"
    }
   ],
   "source": [
    "fig, axes = plt.subplots(nrows=3, ncols=3, figsize=(20, 20))\n",
    "for i, column in enumerate(miss_num_cols):\n",
    "    row = i // 3\n",
    "    col = i % 3\n",
    "    if row < 5:\n",
    "        ax = axes[row][col]\n",
    "        ax.boxplot(test[column].dropna(), vert=False)\n",
    "        ax.set_xlabel(column)\n",
    "plt.show()"
   ]
  },
  {
   "cell_type": "markdown",
   "id": "1f2e08df",
   "metadata": {},
   "source": [
    "# Removing Null values from numerical columns"
   ]
  },
  {
   "cell_type": "markdown",
   "id": "b570bf2b",
   "metadata": {},
   "source": [
    "# Monthly_Inhand_Salary"
   ]
  },
  {
   "cell_type": "code",
   "execution_count": 147,
   "id": "278f2846",
   "metadata": {},
   "outputs": [],
   "source": [
    "def get_Monthly_Inhand_Salary(row):\n",
    "    if pd.isnull(row['Monthly_Inhand_Salary']):\n",
    "        Monthly_Inhand_Salary=(test[test['Customer_ID']==row['Customer_ID']]['Monthly_Inhand_Salary'].dropna()).mode()\n",
    "        try:\n",
    "            return Monthly_Inhand_Salary[0]\n",
    "        except:\n",
    "            return np.NaN\n",
    "    else:\n",
    "        return row['Monthly_Inhand_Salary']"
   ]
  },
  {
   "cell_type": "code",
   "execution_count": 148,
   "id": "c2c1dc1f",
   "metadata": {},
   "outputs": [],
   "source": [
    "test['Monthly_Inhand_Salary']=test.apply(get_Monthly_Inhand_Salary,axis=1)"
   ]
  },
  {
   "cell_type": "code",
   "execution_count": 149,
   "id": "8f9e020b",
   "metadata": {},
   "outputs": [
    {
     "name": "stdout",
     "output_type": "stream",
     "text": [
      "(623, 23)\n"
     ]
    }
   ],
   "source": [
    "#Detect Outliers\n",
    "\n",
    "print(test[test['Monthly_Inhand_Salary']>= 13500].shape)\n",
    "test=test[test.Monthly_Inhand_Salary < 13500]"
   ]
  },
  {
   "cell_type": "markdown",
   "id": "c668aa13",
   "metadata": {},
   "source": [
    "# Num_of_Delayed_Payment"
   ]
  },
  {
   "cell_type": "code",
   "execution_count": 150,
   "id": "e0c16873",
   "metadata": {},
   "outputs": [],
   "source": [
    "def get_Num_of_Delayed_Payment(row):\n",
    "    if pd.isnull(row['Num_of_Delayed_Payment']):\n",
    "        Num_of_Delayed_Payment=(test[test['Customer_ID']==row['Customer_ID']]['Num_of_Delayed_Payment'].dropna()).mode()\n",
    "        try:\n",
    "            return Num_of_Delayed_Payment[0]\n",
    "        except:\n",
    "            return np.NaN\n",
    "    else:\n",
    "        return row['Num_of_Delayed_Payment']"
   ]
  },
  {
   "cell_type": "code",
   "execution_count": 151,
   "id": "84e3bc26",
   "metadata": {},
   "outputs": [],
   "source": [
    "test['Num_of_Delayed_Payment']=test.apply(get_Num_of_Delayed_Payment,axis=1)"
   ]
  },
  {
   "cell_type": "code",
   "execution_count": 152,
   "id": "5a2eccc5",
   "metadata": {},
   "outputs": [
    {
     "name": "stdout",
     "output_type": "stream",
     "text": [
      "(388, 23)\n",
      "(309, 23)\n"
     ]
    }
   ],
   "source": [
    "print(test[test['Num_of_Delayed_Payment']>=50].shape)\n",
    "print(test[test['Num_of_Delayed_Payment'] < 0].shape)\n",
    "test=test[test['Num_of_Delayed_Payment']< 50]\n",
    "test=test[test['Num_of_Delayed_Payment'] >= 0]"
   ]
  },
  {
   "cell_type": "markdown",
   "id": "d48d6420",
   "metadata": {},
   "source": [
    "# Changed_Credit_Limit"
   ]
  },
  {
   "cell_type": "code",
   "execution_count": 153,
   "id": "4ccc4c68",
   "metadata": {},
   "outputs": [],
   "source": [
    "def get_Changed_Credit_Limit(row):\n",
    "    if pd.isnull(row['Changed_Credit_Limit']):\n",
    "        Changed_Credit_Limit=(test[test['Customer_ID']==row['Customer_ID']]['Changed_Credit_Limit'].dropna()).mode()\n",
    "        try:\n",
    "            return Changed_Credit_Limit[0]\n",
    "        except:\n",
    "            return np.NaN\n",
    "    else:\n",
    "        return row['Changed_Credit_Limit']"
   ]
  },
  {
   "cell_type": "code",
   "execution_count": 154,
   "id": "a07257d4",
   "metadata": {},
   "outputs": [],
   "source": [
    "test['Changed_Credit_Limit']=test.apply(get_Changed_Credit_Limit,axis=1)"
   ]
  },
  {
   "cell_type": "code",
   "execution_count": 155,
   "id": "7b2fa15a",
   "metadata": {},
   "outputs": [
    {
     "name": "stdout",
     "output_type": "stream",
     "text": [
      "(114, 23)\n"
     ]
    }
   ],
   "source": [
    "print(test[test['Changed_Credit_Limit']>=30].shape)\n",
    "train=test[test['Changed_Credit_Limit'] < 30]"
   ]
  },
  {
   "cell_type": "code",
   "execution_count": null,
   "id": "47a41dea",
   "metadata": {},
   "outputs": [],
   "source": []
  },
  {
   "cell_type": "markdown",
   "id": "c2ed613c",
   "metadata": {},
   "source": [
    "# Num_Credit_Inquiries"
   ]
  },
  {
   "cell_type": "code",
   "execution_count": 156,
   "id": "e2046df3",
   "metadata": {},
   "outputs": [],
   "source": [
    "def get_Num_Credit_Inquiries(row):\n",
    "    if pd.isnull(row['Num_Credit_Inquiries']):\n",
    "        Num_Credit_Inquiries=(test[test['Customer_ID']==row['Customer_ID']]['Num_Credit_Inquiries'].dropna()).mode()\n",
    "        try:\n",
    "            return Num_Credit_Inquiries[0]\n",
    "        except:\n",
    "            return np.NaN\n",
    "    else:\n",
    "        return row['Num_Credit_Inquiries']"
   ]
  },
  {
   "cell_type": "code",
   "execution_count": 157,
   "id": "32f04700",
   "metadata": {},
   "outputs": [],
   "source": [
    "test['Num_Credit_Inquiries']=test.apply(get_Num_Credit_Inquiries,axis=1)"
   ]
  },
  {
   "cell_type": "code",
   "execution_count": 158,
   "id": "fdd4ebf1",
   "metadata": {},
   "outputs": [
    {
     "name": "stdout",
     "output_type": "stream",
     "text": [
      "(832, 23)\n"
     ]
    }
   ],
   "source": [
    "print(test[test['Num_Credit_Inquiries']>=18].shape)\n",
    "train=test[test['Num_Credit_Inquiries']<18]"
   ]
  },
  {
   "cell_type": "markdown",
   "id": "496adda4",
   "metadata": {},
   "source": [
    "# Credit_History_Age"
   ]
  },
  {
   "cell_type": "code",
   "execution_count": 159,
   "id": "84a760b4",
   "metadata": {},
   "outputs": [],
   "source": [
    "def get_Credit_History_Age(row):\n",
    "    if pd.isnull(row['Credit_History_Age']):\n",
    "        Credit_History_Age=(test[test['Customer_ID']==row['Customer_ID']]['Credit_History_Age'].dropna()).mode()\n",
    "        try:\n",
    "            return Credit_History_Age[0]\n",
    "        except:\n",
    "            return np.NaN\n",
    "    else:\n",
    "        return row['Credit_History_Age']"
   ]
  },
  {
   "cell_type": "code",
   "execution_count": 160,
   "id": "8acc7e95",
   "metadata": {},
   "outputs": [],
   "source": [
    "test['Credit_History_Age']=test.apply(get_Credit_History_Age,axis=1)"
   ]
  },
  {
   "cell_type": "markdown",
   "id": "6d7f2336",
   "metadata": {},
   "source": [
    "# Amount_invested_monthly"
   ]
  },
  {
   "cell_type": "code",
   "execution_count": 161,
   "id": "480d0efe",
   "metadata": {},
   "outputs": [],
   "source": [
    "def get_Amount_invested_monthly(row):\n",
    "    if pd.isnull(row['Amount_invested_monthly']):\n",
    "        Amount_invested_monthly=(test[test['Customer_ID']==row['Customer_ID']]['Amount_invested_monthly'].dropna()).mode()\n",
    "        try:\n",
    "            return Amount_invested_monthly[0]\n",
    "        except:\n",
    "            return np.NaN\n",
    "    else:\n",
    "        return row['Amount_invested_monthly']"
   ]
  },
  {
   "cell_type": "code",
   "execution_count": 162,
   "id": "26ad504e",
   "metadata": {},
   "outputs": [],
   "source": [
    "test['Amount_invested_monthly']=test.apply(get_Amount_invested_monthly,axis=1)"
   ]
  },
  {
   "cell_type": "code",
   "execution_count": 163,
   "id": "2c3cf336",
   "metadata": {},
   "outputs": [
    {
     "name": "stdout",
     "output_type": "stream",
     "text": [
      "(5390, 23)\n"
     ]
    }
   ],
   "source": [
    "print(test[test['Amount_invested_monthly']>=500].shape)\n",
    "test=test[test['Amount_invested_monthly']<500]"
   ]
  },
  {
   "cell_type": "markdown",
   "id": "51416cf6",
   "metadata": {},
   "source": [
    "# Monthly_Balance"
   ]
  },
  {
   "cell_type": "code",
   "execution_count": 164,
   "id": "ac3d29c3",
   "metadata": {},
   "outputs": [],
   "source": [
    "def get_Monthly_Balance(row):\n",
    "    if pd.isnull(row['Monthly_Balance']):\n",
    "        Monthly_Balance=(test[test['Customer_ID']==row['Customer_ID']]['Monthly_Balance'].dropna()).mode()\n",
    "        try:\n",
    "            return Monthly_Balance[0]\n",
    "        except:\n",
    "            return np.NaN\n",
    "    else:\n",
    "        return row['Monthly_Balance']"
   ]
  },
  {
   "cell_type": "code",
   "execution_count": 165,
   "id": "7097aa79",
   "metadata": {},
   "outputs": [],
   "source": [
    "test['Monthly_Balance']=test.apply(get_Monthly_Balance,axis=1)"
   ]
  },
  {
   "cell_type": "code",
   "execution_count": 166,
   "id": "5786f5e2",
   "metadata": {},
   "outputs": [
    {
     "name": "stdout",
     "output_type": "stream",
     "text": [
      "(5, 23)\n",
      "(0, 23)\n"
     ]
    }
   ],
   "source": [
    "print(test[test['Monthly_Balance'] <= 0].shape)\n",
    "print(test[test['Amount_invested_monthly']>=800].shape)\n",
    "test = test[test['Monthly_Balance'] > 0]\n",
    "test = test[test['Monthly_Balance'] <= 800]"
   ]
  },
  {
   "cell_type": "code",
   "execution_count": 167,
   "id": "d844211d",
   "metadata": {},
   "outputs": [
    {
     "data": {
      "text/plain": [
       "['Credit_History_Age']"
      ]
     },
     "execution_count": 167,
     "metadata": {},
     "output_type": "execute_result"
    }
   ],
   "source": [
    "missing_columns=test.isnull().sum()\n",
    "miss_num_columns = list(test[(missing_columns[missing_columns > 0]).index].select_dtypes(include=[\"int64\",\"float64\"]).columns)\n",
    "miss_num_columns"
   ]
  },
  {
   "cell_type": "markdown",
   "id": "dd7594fe",
   "metadata": {},
   "source": [
    "# Outliers Checking"
   ]
  },
  {
   "cell_type": "code",
   "execution_count": 168,
   "id": "3400ce82",
   "metadata": {},
   "outputs": [
    {
     "data": {
      "image/png": "[encoded data removed]",
      "text/plain": [
       "<Figure size 1440x1440 with 9 Axes>"
      ]
     },
     "metadata": {
      "needs_background": "light"
     },
     "output_type": "display_data"
    }
   ],
   "source": [
    "fig, axes = plt.subplots(nrows=3, ncols=3, figsize=(20, 20))\n",
    "for i, column in enumerate(miss_num_cols):\n",
    "    row = i // 3\n",
    "    col = i % 3\n",
    "    if row < 5:\n",
    "        ax = axes[row][col]\n",
    "        ax.boxplot(test[column].dropna(), vert=False)\n",
    "        ax.set_xlabel(column)\n",
    "plt.show()"
   ]
  },
  {
   "cell_type": "code",
   "execution_count": 169,
   "id": "7eaa588d",
   "metadata": {},
   "outputs": [
    {
     "data": {
      "text/plain": [
       "['Occupation', 'Credit_Mix', 'Payment_Behaviour']"
      ]
     },
     "execution_count": 169,
     "metadata": {},
     "output_type": "execute_result"
    }
   ],
   "source": [
    "missing_columns=test.isnull().sum()\n",
    "miss_cat_columns = list(test[(missing_columns[missing_columns > 0]).index].select_dtypes(include=[\"object\",\"category\"]).columns)\n",
    "miss_cat_columns"
   ]
  },
  {
   "cell_type": "markdown",
   "id": "5f49be9f",
   "metadata": {},
   "source": [
    "# Filling null values in Categorical columns"
   ]
  },
  {
   "cell_type": "code",
   "execution_count": 170,
   "id": "d047136f",
   "metadata": {},
   "outputs": [
    {
     "data": {
      "text/plain": [
       "Occupation            2764\n",
       "Credit_Mix            7965\n",
       "Credit_History_Age       6\n",
       "Payment_Behaviour     3080\n",
       "dtype: int64"
      ]
     },
     "execution_count": 170,
     "metadata": {},
     "output_type": "execute_result"
    }
   ],
   "source": [
    "missing_value_columns(test)"
   ]
  },
  {
   "cell_type": "markdown",
   "id": "bfcdede4",
   "metadata": {},
   "source": [
    "# Occupation"
   ]
  },
  {
   "cell_type": "code",
   "execution_count": 171,
   "id": "f4d9fb04",
   "metadata": {},
   "outputs": [],
   "source": [
    "def get_Occupation(row):\n",
    "    if pd.isnull(row['Occupation']):\n",
    "        Occupation=(test[test['Customer_ID']==row['Customer_ID']]['Occupation'].dropna()).mode()\n",
    "        try:\n",
    "            return Occupation[0]\n",
    "        except:\n",
    "            return np.NaN\n",
    "    else:\n",
    "        return row['Occupation']"
   ]
  },
  {
   "cell_type": "code",
   "execution_count": 172,
   "id": "b77d9083",
   "metadata": {},
   "outputs": [],
   "source": [
    "test['Occupation']=test.apply(get_Occupation,axis=1)"
   ]
  },
  {
   "cell_type": "code",
   "execution_count": 173,
   "id": "1c826108",
   "metadata": {},
   "outputs": [],
   "source": [
    "test['Occupation'] = test['Occupation'].fillna(test['Occupation'].mode()[0])"
   ]
  },
  {
   "cell_type": "code",
   "execution_count": 174,
   "id": "d7857de7",
   "metadata": {},
   "outputs": [
    {
     "data": {
      "text/plain": [
       "0"
      ]
     },
     "execution_count": 174,
     "metadata": {},
     "output_type": "execute_result"
    }
   ],
   "source": [
    "len(test[test['Occupation'].isnull()])"
   ]
  },
  {
   "cell_type": "markdown",
   "id": "a598e099",
   "metadata": {},
   "source": [
    "# Credit_Mix"
   ]
  },
  {
   "cell_type": "code",
   "execution_count": 175,
   "id": "c10ddd63",
   "metadata": {},
   "outputs": [],
   "source": [
    "def get_Credit_Mix(row):\n",
    "    if pd.isnull(row['Credit_Mix']):\n",
    "        Credit_Mix=(test[test['Customer_ID']==row['Customer_ID']]['Credit_Mix'].dropna()).mode()\n",
    "        try:\n",
    "            return Credit_Mix[0]\n",
    "        except:\n",
    "            return np.NaN\n",
    "    else:\n",
    "        return row['Credit_Mix']"
   ]
  },
  {
   "cell_type": "code",
   "execution_count": 176,
   "id": "de8574ce",
   "metadata": {},
   "outputs": [],
   "source": [
    "test['Credit_Mix']=test.apply(get_Credit_Mix,axis=1)"
   ]
  },
  {
   "cell_type": "code",
   "execution_count": 177,
   "id": "e25b9df4",
   "metadata": {},
   "outputs": [],
   "source": [
    "test['Credit_Mix'] = test['Credit_Mix'].fillna(test['Credit_Mix'].mode()[0])"
   ]
  },
  {
   "cell_type": "code",
   "execution_count": 178,
   "id": "7c5b21eb",
   "metadata": {},
   "outputs": [
    {
     "data": {
      "text/plain": [
       "0"
      ]
     },
     "execution_count": 178,
     "metadata": {},
     "output_type": "execute_result"
    }
   ],
   "source": [
    "len(test[test['Credit_Mix'].isnull()])"
   ]
  },
  {
   "cell_type": "markdown",
   "id": "73cfb9f9",
   "metadata": {},
   "source": [
    "# Payment_Behaviour"
   ]
  },
  {
   "cell_type": "code",
   "execution_count": 179,
   "id": "6e421e17",
   "metadata": {},
   "outputs": [],
   "source": [
    "def get_Payment_Behaviour(row):\n",
    "    if pd.isnull(row['Payment_Behaviour']):\n",
    "        Payment_Behaviour=(test[test['Customer_ID']==row['Customer_ID']]['Payment_Behaviour'].dropna()).mode()\n",
    "        try:\n",
    "            return Payment_Behaviour[0]\n",
    "        except:\n",
    "            return np.NaN\n",
    "    else:\n",
    "        return row['Payment_Behaviour']"
   ]
  },
  {
   "cell_type": "code",
   "execution_count": 180,
   "id": "c53ef7e3",
   "metadata": {},
   "outputs": [],
   "source": [
    "test['Payment_Behaviour']=test.apply(get_Payment_Behaviour,axis=1)"
   ]
  },
  {
   "cell_type": "code",
   "execution_count": 181,
   "id": "5d221ac2",
   "metadata": {},
   "outputs": [],
   "source": [
    "test['Payment_Behaviour'] = test['Payment_Behaviour'].fillna(test['Payment_Behaviour'].mode()[0])"
   ]
  },
  {
   "cell_type": "code",
   "execution_count": 182,
   "id": "70edebcf",
   "metadata": {},
   "outputs": [
    {
     "data": {
      "text/plain": [
       "0"
      ]
     },
     "execution_count": 182,
     "metadata": {},
     "output_type": "execute_result"
    }
   ],
   "source": [
    "len(test[test['Payment_Behaviour'].isnull()])"
   ]
  },
  {
   "cell_type": "markdown",
   "id": "17d6c0f5",
   "metadata": {},
   "source": [
    "# Removing outliers by Manual Estimation"
   ]
  },
  {
   "cell_type": "code",
   "execution_count": 183,
   "id": "8f54d03a",
   "metadata": {},
   "outputs": [],
   "source": [
    "test.drop(test[test.Age < 10].index, inplace=True)\n",
    "test.drop(test[test.Age > 99].index, inplace=True)"
   ]
  },
  {
   "cell_type": "code",
   "execution_count": 184,
   "id": "6f9bc427",
   "metadata": {},
   "outputs": [],
   "source": [
    "#to limit the number of bank account till 15\n",
    "test.drop(test[test.Num_Bank_Accounts>15].index, inplace = True)\n",
    "\n",
    "#to remove the entries having number of credit card more than 15 \n",
    "test.drop(test[test.Num_Credit_Card > 15].index, inplace = True)\n",
    "\n",
    "#to drop the entries having unrealistic Annual Income, which is greater 1000000.00\n",
    "test.drop(test[test.Annual_Income > 1000000.00].index, inplace = True)\n",
    "\n",
    "#to drop the negative number of loan\n",
    "test.drop(test[test.Num_of_Loan < 0].index, inplace = True)\n",
    "\n",
    "#to drop the entries having number of loan greater than 20\n",
    "test.drop(test[test.Num_of_Loan > 20].index, inplace = True)\n",
    "\n",
    "#to drop the enties having intrest rate greater than 1000.0\n",
    "test.drop(test[test.Interest_Rate >1000.0].index, inplace = True)\n",
    "\n",
    "#to drop the negative values of delay from due date\n",
    "test.drop(test[test.Delay_from_due_date < 0].index, inplace = True)\n",
    "\n",
    "#to drop the entires having total EMI per month greater than 10000\n",
    "test.drop(test[test.Total_EMI_per_month > 10000.00].index, inplace = True)\n",
    "\n",
    "#to drop entries having number of credit inquiry greater than 10\n",
    "test.drop(test[test.Num_Credit_Inquiries >10].index, inplace=True)"
   ]
  },
  {
   "cell_type": "markdown",
   "id": "3a36e401",
   "metadata": {},
   "source": [
    "# Encoding categorical features"
   ]
  },
  {
   "cell_type": "code",
   "execution_count": 185,
   "id": "5540fe1e",
   "metadata": {},
   "outputs": [
    {
     "data": {
      "text/plain": [
       "array(['October', 'December', 'September', 'November'], dtype=object)"
      ]
     },
     "execution_count": 185,
     "metadata": {},
     "output_type": "execute_result"
    }
   ],
   "source": [
    "test['Month'].unique()"
   ]
  },
  {
   "cell_type": "code",
   "execution_count": 186,
   "id": "d98cb4d8",
   "metadata": {},
   "outputs": [],
   "source": [
    "Months = ['October', 'December', 'September', 'November']"
   ]
  },
  {
   "cell_type": "code",
   "execution_count": 187,
   "id": "3e830259",
   "metadata": {},
   "outputs": [],
   "source": [
    "# Define a dictionary to map each category to a numerical label\n",
    "label_map = {}\n",
    "label = 0\n",
    "for i in Months:\n",
    "    label_map[i] = label\n",
    "    label += 1\n",
    "\n",
    "# Map the Month column to its encoded labels\n",
    "test['Month_Encoded'] = test['Month'].apply(lambda x: label_map[x])"
   ]
  },
  {
   "cell_type": "code",
   "execution_count": 188,
   "id": "3ba00437",
   "metadata": {},
   "outputs": [
    {
     "data": {
      "text/html": [
       "<div>\n",
       "<style scoped>\n",
       "    .dataframe tbody tr th:only-of-type {\n",
       "        vertical-align: middle;\n",
       "    }\n",
       "\n",
       "    .dataframe tbody tr th {\n",
       "        vertical-align: top;\n",
       "    }\n",
       "\n",
       "    .dataframe thead th {\n",
       "        text-align: right;\n",
       "    }\n",
       "</style>\n",
       "<table border=\"1\" class=\"dataframe\">\n",
       "  <thead>\n",
       "    <tr style=\"text-align: right;\">\n",
       "      <th></th>\n",
       "      <th>Customer_ID</th>\n",
       "      <th>Month</th>\n",
       "      <th>Age</th>\n",
       "      <th>Occupation</th>\n",
       "      <th>Annual_Income</th>\n",
       "      <th>Monthly_Inhand_Salary</th>\n",
       "      <th>Num_Bank_Accounts</th>\n",
       "      <th>Num_Credit_Card</th>\n",
       "      <th>Interest_Rate</th>\n",
       "      <th>Num_of_Loan</th>\n",
       "      <th>...</th>\n",
       "      <th>Credit_Mix</th>\n",
       "      <th>Outstanding_Debt</th>\n",
       "      <th>Credit_Utilization_Ratio</th>\n",
       "      <th>Credit_History_Age</th>\n",
       "      <th>Payment_of_Min_Amount</th>\n",
       "      <th>Total_EMI_per_month</th>\n",
       "      <th>Amount_invested_monthly</th>\n",
       "      <th>Payment_Behaviour</th>\n",
       "      <th>Monthly_Balance</th>\n",
       "      <th>Month_Encoded</th>\n",
       "    </tr>\n",
       "  </thead>\n",
       "  <tbody>\n",
       "    <tr>\n",
       "      <th>1</th>\n",
       "      <td>3392</td>\n",
       "      <td>October</td>\n",
       "      <td>24</td>\n",
       "      <td>Scientist</td>\n",
       "      <td>19114.12</td>\n",
       "      <td>1824.843333</td>\n",
       "      <td>3</td>\n",
       "      <td>4</td>\n",
       "      <td>3</td>\n",
       "      <td>4</td>\n",
       "      <td>...</td>\n",
       "      <td>Good</td>\n",
       "      <td>809.98</td>\n",
       "      <td>33.053114</td>\n",
       "      <td>274.0</td>\n",
       "      <td>No</td>\n",
       "      <td>49.574949</td>\n",
       "      <td>21.465380</td>\n",
       "      <td>High_spent_Medium_value_payments</td>\n",
       "      <td>361.444004</td>\n",
       "      <td>0</td>\n",
       "    </tr>\n",
       "    <tr>\n",
       "      <th>3</th>\n",
       "      <td>3392</td>\n",
       "      <td>December</td>\n",
       "      <td>24</td>\n",
       "      <td>Scientist</td>\n",
       "      <td>19114.12</td>\n",
       "      <td>1824.843333</td>\n",
       "      <td>3</td>\n",
       "      <td>4</td>\n",
       "      <td>3</td>\n",
       "      <td>4</td>\n",
       "      <td>...</td>\n",
       "      <td>Good</td>\n",
       "      <td>809.98</td>\n",
       "      <td>32.430559</td>\n",
       "      <td>276.0</td>\n",
       "      <td>No</td>\n",
       "      <td>49.574949</td>\n",
       "      <td>39.082511</td>\n",
       "      <td>High_spent_Medium_value_payments</td>\n",
       "      <td>343.826873</td>\n",
       "      <td>1</td>\n",
       "    </tr>\n",
       "    <tr>\n",
       "      <th>4</th>\n",
       "      <td>8625</td>\n",
       "      <td>September</td>\n",
       "      <td>28</td>\n",
       "      <td>Teacher</td>\n",
       "      <td>34847.84</td>\n",
       "      <td>3037.986667</td>\n",
       "      <td>2</td>\n",
       "      <td>4</td>\n",
       "      <td>6</td>\n",
       "      <td>1</td>\n",
       "      <td>...</td>\n",
       "      <td>Good</td>\n",
       "      <td>605.03</td>\n",
       "      <td>25.926822</td>\n",
       "      <td>327.0</td>\n",
       "      <td>No</td>\n",
       "      <td>18.816215</td>\n",
       "      <td>39.684018</td>\n",
       "      <td>High_spent_Large_value_payments</td>\n",
       "      <td>485.298434</td>\n",
       "      <td>2</td>\n",
       "    </tr>\n",
       "    <tr>\n",
       "      <th>5</th>\n",
       "      <td>8625</td>\n",
       "      <td>October</td>\n",
       "      <td>28</td>\n",
       "      <td>Teacher</td>\n",
       "      <td>34847.84</td>\n",
       "      <td>3037.986667</td>\n",
       "      <td>2</td>\n",
       "      <td>4</td>\n",
       "      <td>6</td>\n",
       "      <td>1</td>\n",
       "      <td>...</td>\n",
       "      <td>Good</td>\n",
       "      <td>605.03</td>\n",
       "      <td>30.116600</td>\n",
       "      <td>328.0</td>\n",
       "      <td>No</td>\n",
       "      <td>18.816215</td>\n",
       "      <td>251.627369</td>\n",
       "      <td>Low_spent_Large_value_payments</td>\n",
       "      <td>303.355083</td>\n",
       "      <td>0</td>\n",
       "    </tr>\n",
       "    <tr>\n",
       "      <th>6</th>\n",
       "      <td>8625</td>\n",
       "      <td>November</td>\n",
       "      <td>28</td>\n",
       "      <td>Teacher</td>\n",
       "      <td>34847.84</td>\n",
       "      <td>3037.986667</td>\n",
       "      <td>2</td>\n",
       "      <td>4</td>\n",
       "      <td>6</td>\n",
       "      <td>1</td>\n",
       "      <td>...</td>\n",
       "      <td>Good</td>\n",
       "      <td>605.03</td>\n",
       "      <td>30.996424</td>\n",
       "      <td>329.0</td>\n",
       "      <td>No</td>\n",
       "      <td>18.816215</td>\n",
       "      <td>72.680145</td>\n",
       "      <td>High_spent_Large_value_payments</td>\n",
       "      <td>452.302307</td>\n",
       "      <td>3</td>\n",
       "    </tr>\n",
       "  </tbody>\n",
       "</table>\n",
       "<p>5 rows × 24 columns</p>\n",
       "</div>"
      ],
      "text/plain": [
       "   Customer_ID      Month  Age Occupation  Annual_Income  \\\n",
       "1         3392    October   24  Scientist       19114.12   \n",
       "3         3392   December   24  Scientist       19114.12   \n",
       "4         8625  September   28    Teacher       34847.84   \n",
       "5         8625    October   28    Teacher       34847.84   \n",
       "6         8625   November   28    Teacher       34847.84   \n",
       "\n",
       "   Monthly_Inhand_Salary  Num_Bank_Accounts  Num_Credit_Card  Interest_Rate  \\\n",
       "1            1824.843333                  3                4              3   \n",
       "3            1824.843333                  3                4              3   \n",
       "4            3037.986667                  2                4              6   \n",
       "5            3037.986667                  2                4              6   \n",
       "6            3037.986667                  2                4              6   \n",
       "\n",
       "   Num_of_Loan  ...  Credit_Mix  Outstanding_Debt  Credit_Utilization_Ratio  \\\n",
       "1            4  ...        Good            809.98                 33.053114   \n",
       "3            4  ...        Good            809.98                 32.430559   \n",
       "4            1  ...        Good            605.03                 25.926822   \n",
       "5            1  ...        Good            605.03                 30.116600   \n",
       "6            1  ...        Good            605.03                 30.996424   \n",
       "\n",
       "   Credit_History_Age Payment_of_Min_Amount  Total_EMI_per_month  \\\n",
       "1               274.0                    No            49.574949   \n",
       "3               276.0                    No            49.574949   \n",
       "4               327.0                    No            18.816215   \n",
       "5               328.0                    No            18.816215   \n",
       "6               329.0                    No            18.816215   \n",
       "\n",
       "   Amount_invested_monthly                 Payment_Behaviour Monthly_Balance  \\\n",
       "1                21.465380  High_spent_Medium_value_payments      361.444004   \n",
       "3                39.082511  High_spent_Medium_value_payments      343.826873   \n",
       "4                39.684018   High_spent_Large_value_payments      485.298434   \n",
       "5               251.627369    Low_spent_Large_value_payments      303.355083   \n",
       "6                72.680145   High_spent_Large_value_payments      452.302307   \n",
       "\n",
       "   Month_Encoded  \n",
       "1              0  \n",
       "3              1  \n",
       "4              2  \n",
       "5              0  \n",
       "6              3  \n",
       "\n",
       "[5 rows x 24 columns]"
      ]
     },
     "execution_count": 188,
     "metadata": {},
     "output_type": "execute_result"
    }
   ],
   "source": [
    "test.head()"
   ]
  },
  {
   "cell_type": "code",
   "execution_count": 189,
   "id": "c4ddc21f",
   "metadata": {},
   "outputs": [
    {
     "data": {
      "text/plain": [
       "array(['Scientist', 'Teacher', 'Engineer', 'Entrepreneur', 'Developer',\n",
       "       'Lawyer', 'Media_Manager', 'Doctor', 'Journalist', 'Manager',\n",
       "       'Accountant', 'Musician', 'Architect', 'Writer', 'Mechanic'],\n",
       "      dtype=object)"
      ]
     },
     "execution_count": 189,
     "metadata": {},
     "output_type": "execute_result"
    }
   ],
   "source": [
    "test['Occupation'].unique()"
   ]
  },
  {
   "cell_type": "code",
   "execution_count": 190,
   "id": "4fb984f4",
   "metadata": {},
   "outputs": [],
   "source": [
    "Occupations = ['Scientist', 'Teacher', 'Entrepreneur', 'Developer', 'Lawyer',\n",
    "       'Media_Manager', 'Doctor', 'Journalist', 'Engineer', 'Manager',\n",
    "       'Accountant', 'Musician', 'Writer', 'Architect', 'Mechanic']"
   ]
  },
  {
   "cell_type": "code",
   "execution_count": 191,
   "id": "4843cb75",
   "metadata": {},
   "outputs": [],
   "source": [
    "label_map = {}\n",
    "label = 0\n",
    "for i in Occupations:\n",
    "    label_map[i] = label\n",
    "    label += 1\n",
    "\n",
    "test['Occupation_Encoded'] = test['Occupation'].apply(lambda x: label_map[x])"
   ]
  },
  {
   "cell_type": "code",
   "execution_count": 192,
   "id": "701e0210",
   "metadata": {},
   "outputs": [
    {
     "data": {
      "text/plain": [
       "array(['Good', 'Standard', 'Bad'], dtype=object)"
      ]
     },
     "execution_count": 192,
     "metadata": {},
     "output_type": "execute_result"
    }
   ],
   "source": [
    "test['Credit_Mix'].unique()"
   ]
  },
  {
   "cell_type": "code",
   "execution_count": 193,
   "id": "c6328e1f",
   "metadata": {},
   "outputs": [],
   "source": [
    "Credit_Mixs = ['Good', 'Standard', 'Bad']"
   ]
  },
  {
   "cell_type": "code",
   "execution_count": 194,
   "id": "32565b18",
   "metadata": {},
   "outputs": [],
   "source": [
    "label_map = {}\n",
    "label = 0\n",
    "for i in Credit_Mixs:\n",
    "    label_map[i] = label\n",
    "    label += 1\n",
    "\n",
    "test['Credit_Mix_Encoded'] = test['Credit_Mix'].apply(lambda x: label_map[x])"
   ]
  },
  {
   "cell_type": "code",
   "execution_count": 195,
   "id": "d58c2843",
   "metadata": {},
   "outputs": [
    {
     "data": {
      "text/plain": [
       "array(['High_spent_Medium_value_payments',\n",
       "       'High_spent_Large_value_payments',\n",
       "       'Low_spent_Large_value_payments',\n",
       "       'Low_spent_Medium_value_payments',\n",
       "       'Low_spent_Small_value_payments',\n",
       "       'High_spent_Small_value_payments'], dtype=object)"
      ]
     },
     "execution_count": 195,
     "metadata": {},
     "output_type": "execute_result"
    }
   ],
   "source": [
    "test['Payment_Behaviour'].unique()"
   ]
  },
  {
   "cell_type": "code",
   "execution_count": 196,
   "id": "f6afa843",
   "metadata": {},
   "outputs": [],
   "source": [
    "Payment_Behaviours = ['High_spent_Small_value_payments',\n",
    "       'Low_spent_Small_value_payments',\n",
    "       'High_spent_Medium_value_payments',\n",
    "       'High_spent_Large_value_payments',\n",
    "       'Low_spent_Medium_value_payments',\n",
    "       'Low_spent_Large_value_payments']"
   ]
  },
  {
   "cell_type": "code",
   "execution_count": 197,
   "id": "524784bb",
   "metadata": {},
   "outputs": [],
   "source": [
    "label_map = {}\n",
    "label = 0\n",
    "for i in Payment_Behaviours:\n",
    "    label_map[i] = label\n",
    "    label += 1\n",
    "\n",
    "test['Payment_Behaviour_Encoded'] = test['Payment_Behaviour'].apply(lambda x: label_map[x])"
   ]
  },
  {
   "cell_type": "code",
   "execution_count": 198,
   "id": "12f00bc0",
   "metadata": {},
   "outputs": [
    {
     "data": {
      "text/plain": [
       "array(['No', 'Yes', 'NM'], dtype=object)"
      ]
     },
     "execution_count": 198,
     "metadata": {},
     "output_type": "execute_result"
    }
   ],
   "source": [
    "test['Payment_of_Min_Amount'].unique()"
   ]
  },
  {
   "cell_type": "code",
   "execution_count": 199,
   "id": "cca59663",
   "metadata": {},
   "outputs": [],
   "source": [
    "Payment_of_Min_Amounts = ['No', 'Yes', 'NM']"
   ]
  },
  {
   "cell_type": "code",
   "execution_count": 200,
   "id": "bc863d76",
   "metadata": {},
   "outputs": [],
   "source": [
    "label_map = {}\n",
    "label = 0\n",
    "for i in Payment_of_Min_Amounts:\n",
    "    label_map[i] = label\n",
    "    label += 1\n",
    "\n",
    "test['Payment_of_Min_Amount_Encoded'] = test['Payment_of_Min_Amount'].apply(lambda x: label_map[x])"
   ]
  },
  {
   "cell_type": "code",
   "execution_count": 201,
   "id": "e33296aa",
   "metadata": {},
   "outputs": [],
   "source": [
    "new_test = test.drop(['Month','Occupation','Credit_Mix','Payment_Behaviour','Payment_of_Min_Amount'], axis=1)"
   ]
  },
  {
   "cell_type": "code",
   "execution_count": 202,
   "id": "0de954f1",
   "metadata": {},
   "outputs": [
    {
     "data": {
      "text/html": [
       "<div>\n",
       "<style scoped>\n",
       "    .dataframe tbody tr th:only-of-type {\n",
       "        vertical-align: middle;\n",
       "    }\n",
       "\n",
       "    .dataframe tbody tr th {\n",
       "        vertical-align: top;\n",
       "    }\n",
       "\n",
       "    .dataframe thead th {\n",
       "        text-align: right;\n",
       "    }\n",
       "</style>\n",
       "<table border=\"1\" class=\"dataframe\">\n",
       "  <thead>\n",
       "    <tr style=\"text-align: right;\">\n",
       "      <th></th>\n",
       "      <th>Customer_ID</th>\n",
       "      <th>Age</th>\n",
       "      <th>Annual_Income</th>\n",
       "      <th>Monthly_Inhand_Salary</th>\n",
       "      <th>Num_Bank_Accounts</th>\n",
       "      <th>Num_Credit_Card</th>\n",
       "      <th>Interest_Rate</th>\n",
       "      <th>Num_of_Loan</th>\n",
       "      <th>Delay_from_due_date</th>\n",
       "      <th>Num_of_Delayed_Payment</th>\n",
       "      <th>...</th>\n",
       "      <th>Credit_Utilization_Ratio</th>\n",
       "      <th>Credit_History_Age</th>\n",
       "      <th>Total_EMI_per_month</th>\n",
       "      <th>Amount_invested_monthly</th>\n",
       "      <th>Monthly_Balance</th>\n",
       "      <th>Month_Encoded</th>\n",
       "      <th>Occupation_Encoded</th>\n",
       "      <th>Credit_Mix_Encoded</th>\n",
       "      <th>Payment_Behaviour_Encoded</th>\n",
       "      <th>Payment_of_Min_Amount_Encoded</th>\n",
       "    </tr>\n",
       "  </thead>\n",
       "  <tbody>\n",
       "    <tr>\n",
       "      <th>1</th>\n",
       "      <td>3392</td>\n",
       "      <td>24</td>\n",
       "      <td>19114.12</td>\n",
       "      <td>1824.843333</td>\n",
       "      <td>3</td>\n",
       "      <td>4</td>\n",
       "      <td>3</td>\n",
       "      <td>4</td>\n",
       "      <td>3</td>\n",
       "      <td>9.0</td>\n",
       "      <td>...</td>\n",
       "      <td>33.053114</td>\n",
       "      <td>274.0</td>\n",
       "      <td>49.574949</td>\n",
       "      <td>21.465380</td>\n",
       "      <td>361.444004</td>\n",
       "      <td>0</td>\n",
       "      <td>0</td>\n",
       "      <td>0</td>\n",
       "      <td>2</td>\n",
       "      <td>0</td>\n",
       "    </tr>\n",
       "    <tr>\n",
       "      <th>3</th>\n",
       "      <td>3392</td>\n",
       "      <td>24</td>\n",
       "      <td>19114.12</td>\n",
       "      <td>1824.843333</td>\n",
       "      <td>3</td>\n",
       "      <td>4</td>\n",
       "      <td>3</td>\n",
       "      <td>4</td>\n",
       "      <td>4</td>\n",
       "      <td>5.0</td>\n",
       "      <td>...</td>\n",
       "      <td>32.430559</td>\n",
       "      <td>276.0</td>\n",
       "      <td>49.574949</td>\n",
       "      <td>39.082511</td>\n",
       "      <td>343.826873</td>\n",
       "      <td>1</td>\n",
       "      <td>0</td>\n",
       "      <td>0</td>\n",
       "      <td>2</td>\n",
       "      <td>0</td>\n",
       "    </tr>\n",
       "    <tr>\n",
       "      <th>4</th>\n",
       "      <td>8625</td>\n",
       "      <td>28</td>\n",
       "      <td>34847.84</td>\n",
       "      <td>3037.986667</td>\n",
       "      <td>2</td>\n",
       "      <td>4</td>\n",
       "      <td>6</td>\n",
       "      <td>1</td>\n",
       "      <td>3</td>\n",
       "      <td>1.0</td>\n",
       "      <td>...</td>\n",
       "      <td>25.926822</td>\n",
       "      <td>327.0</td>\n",
       "      <td>18.816215</td>\n",
       "      <td>39.684018</td>\n",
       "      <td>485.298434</td>\n",
       "      <td>2</td>\n",
       "      <td>1</td>\n",
       "      <td>0</td>\n",
       "      <td>3</td>\n",
       "      <td>0</td>\n",
       "    </tr>\n",
       "    <tr>\n",
       "      <th>5</th>\n",
       "      <td>8625</td>\n",
       "      <td>28</td>\n",
       "      <td>34847.84</td>\n",
       "      <td>3037.986667</td>\n",
       "      <td>2</td>\n",
       "      <td>4</td>\n",
       "      <td>6</td>\n",
       "      <td>1</td>\n",
       "      <td>3</td>\n",
       "      <td>3.0</td>\n",
       "      <td>...</td>\n",
       "      <td>30.116600</td>\n",
       "      <td>328.0</td>\n",
       "      <td>18.816215</td>\n",
       "      <td>251.627369</td>\n",
       "      <td>303.355083</td>\n",
       "      <td>0</td>\n",
       "      <td>1</td>\n",
       "      <td>0</td>\n",
       "      <td>5</td>\n",
       "      <td>0</td>\n",
       "    </tr>\n",
       "    <tr>\n",
       "      <th>6</th>\n",
       "      <td>8625</td>\n",
       "      <td>28</td>\n",
       "      <td>34847.84</td>\n",
       "      <td>3037.986667</td>\n",
       "      <td>2</td>\n",
       "      <td>4</td>\n",
       "      <td>6</td>\n",
       "      <td>1</td>\n",
       "      <td>3</td>\n",
       "      <td>1.0</td>\n",
       "      <td>...</td>\n",
       "      <td>30.996424</td>\n",
       "      <td>329.0</td>\n",
       "      <td>18.816215</td>\n",
       "      <td>72.680145</td>\n",
       "      <td>452.302307</td>\n",
       "      <td>3</td>\n",
       "      <td>1</td>\n",
       "      <td>0</td>\n",
       "      <td>3</td>\n",
       "      <td>0</td>\n",
       "    </tr>\n",
       "  </tbody>\n",
       "</table>\n",
       "<p>5 rows × 23 columns</p>\n",
       "</div>"
      ],
      "text/plain": [
       "   Customer_ID  Age  Annual_Income  Monthly_Inhand_Salary  Num_Bank_Accounts  \\\n",
       "1         3392   24       19114.12            1824.843333                  3   \n",
       "3         3392   24       19114.12            1824.843333                  3   \n",
       "4         8625   28       34847.84            3037.986667                  2   \n",
       "5         8625   28       34847.84            3037.986667                  2   \n",
       "6         8625   28       34847.84            3037.986667                  2   \n",
       "\n",
       "   Num_Credit_Card  Interest_Rate  Num_of_Loan  Delay_from_due_date  \\\n",
       "1                4              3            4                    3   \n",
       "3                4              3            4                    4   \n",
       "4                4              6            1                    3   \n",
       "5                4              6            1                    3   \n",
       "6                4              6            1                    3   \n",
       "\n",
       "   Num_of_Delayed_Payment  ...  Credit_Utilization_Ratio  Credit_History_Age  \\\n",
       "1                     9.0  ...                 33.053114               274.0   \n",
       "3                     5.0  ...                 32.430559               276.0   \n",
       "4                     1.0  ...                 25.926822               327.0   \n",
       "5                     3.0  ...                 30.116600               328.0   \n",
       "6                     1.0  ...                 30.996424               329.0   \n",
       "\n",
       "   Total_EMI_per_month  Amount_invested_monthly  Monthly_Balance  \\\n",
       "1            49.574949                21.465380       361.444004   \n",
       "3            49.574949                39.082511       343.826873   \n",
       "4            18.816215                39.684018       485.298434   \n",
       "5            18.816215               251.627369       303.355083   \n",
       "6            18.816215                72.680145       452.302307   \n",
       "\n",
       "   Month_Encoded  Occupation_Encoded  Credit_Mix_Encoded  \\\n",
       "1              0                   0                   0   \n",
       "3              1                   0                   0   \n",
       "4              2                   1                   0   \n",
       "5              0                   1                   0   \n",
       "6              3                   1                   0   \n",
       "\n",
       "   Payment_Behaviour_Encoded  Payment_of_Min_Amount_Encoded  \n",
       "1                          2                              0  \n",
       "3                          2                              0  \n",
       "4                          3                              0  \n",
       "5                          5                              0  \n",
       "6                          3                              0  \n",
       "\n",
       "[5 rows x 23 columns]"
      ]
     },
     "execution_count": 202,
     "metadata": {},
     "output_type": "execute_result"
    }
   ],
   "source": [
    "new_test.head()"
   ]
  },
  {
   "cell_type": "code",
   "execution_count": 203,
   "id": "ef222e31",
   "metadata": {},
   "outputs": [
    {
     "data": {
      "text/plain": [
       "(24843, 23)"
      ]
     },
     "execution_count": 203,
     "metadata": {},
     "output_type": "execute_result"
    }
   ],
   "source": [
    "new_test.shape"
   ]
  },
  {
   "cell_type": "code",
   "execution_count": 204,
   "id": "aeef041b",
   "metadata": {},
   "outputs": [
    {
     "data": {
      "text/plain": [
       "Customer_ID                      0\n",
       "Age                              0\n",
       "Annual_Income                    0\n",
       "Monthly_Inhand_Salary            0\n",
       "Num_Bank_Accounts                0\n",
       "Num_Credit_Card                  0\n",
       "Interest_Rate                    0\n",
       "Num_of_Loan                      0\n",
       "Delay_from_due_date              0\n",
       "Num_of_Delayed_Payment           0\n",
       "Changed_Credit_Limit             0\n",
       "Num_Credit_Inquiries             0\n",
       "Outstanding_Debt                 0\n",
       "Credit_Utilization_Ratio         0\n",
       "Credit_History_Age               4\n",
       "Total_EMI_per_month              0\n",
       "Amount_invested_monthly          0\n",
       "Monthly_Balance                  0\n",
       "Month_Encoded                    0\n",
       "Occupation_Encoded               0\n",
       "Credit_Mix_Encoded               0\n",
       "Payment_Behaviour_Encoded        0\n",
       "Payment_of_Min_Amount_Encoded    0\n",
       "dtype: int64"
      ]
     },
     "execution_count": 204,
     "metadata": {},
     "output_type": "execute_result"
    }
   ],
   "source": [
    "new_test.isna().sum()"
   ]
  },
  {
   "cell_type": "code",
   "execution_count": 205,
   "id": "c9c2975c",
   "metadata": {},
   "outputs": [
    {
     "data": {
      "text/plain": [
       "(24843, 23)"
      ]
     },
     "execution_count": 205,
     "metadata": {},
     "output_type": "execute_result"
    }
   ],
   "source": [
    "test_data = new_test.values\n",
    "test_data.shape"
   ]
  },
  {
   "cell_type": "code",
   "execution_count": 206,
   "id": "476d618b",
   "metadata": {},
   "outputs": [
    {
     "data": {
      "text/plain": [
       "Index(['Customer_ID', 'Age', 'Annual_Income', 'Monthly_Inhand_Salary',\n",
       "       'Num_Bank_Accounts', 'Num_Credit_Card', 'Interest_Rate', 'Num_of_Loan',\n",
       "       'Delay_from_due_date', 'Num_of_Delayed_Payment', 'Changed_Credit_Limit',\n",
       "       'Num_Credit_Inquiries', 'Outstanding_Debt', 'Credit_Utilization_Ratio',\n",
       "       'Credit_History_Age', 'Total_EMI_per_month', 'Amount_invested_monthly',\n",
       "       'Monthly_Balance', 'Month_Encoded', 'Occupation_Encoded',\n",
       "       'Credit_Mix_Encoded', 'Payment_Behaviour_Encoded',\n",
       "       'Payment_of_Min_Amount_Encoded'],\n",
       "      dtype='object')"
      ]
     },
     "execution_count": 206,
     "metadata": {},
     "output_type": "execute_result"
    }
   ],
   "source": [
    "new_test.columns"
   ]
  },
  {
   "cell_type": "code",
   "execution_count": 207,
   "id": "ac967806",
   "metadata": {},
   "outputs": [
    {
     "data": {
      "text/plain": [
       "(56332, 24)"
      ]
     },
     "execution_count": 207,
     "metadata": {},
     "output_type": "execute_result"
    }
   ],
   "source": [
    "new_train.shape"
   ]
  },
  {
   "cell_type": "code",
   "execution_count": 208,
   "id": "17bfc22a",
   "metadata": {},
   "outputs": [],
   "source": [
    "def minmax_scaler(test_data):\n",
    "    min_val = np.min(test_data)\n",
    "    max_val = np.max(test_data)\n",
    "    test_data = (test_data - min_val) / (max_val - min_val)\n",
    "    return test_data"
   ]
  },
  {
   "cell_type": "code",
   "execution_count": 209,
   "id": "5ecaffb3",
   "metadata": {},
   "outputs": [],
   "source": [
    "y_pred = np.array([tree.predict(x) for x in test_data])"
   ]
  },
  {
   "cell_type": "code",
   "execution_count": 210,
   "id": "27c2252a",
   "metadata": {},
   "outputs": [
    {
     "data": {
      "text/plain": [
       "array([0, 0, 0, ..., 2, 2, 2], dtype=int64)"
      ]
     },
     "execution_count": 210,
     "metadata": {},
     "output_type": "execute_result"
    }
   ],
   "source": [
    "y_pred"
   ]
  },
  {
   "cell_type": "code",
   "execution_count": 211,
   "id": "f778ee1b",
   "metadata": {},
   "outputs": [],
   "source": [
    "predict = pd.DataFrame(y_pred, columns = ['Credit_Score'])"
   ]
  },
  {
   "cell_type": "code",
   "execution_count": 212,
   "id": "4074699d",
   "metadata": {},
   "outputs": [
    {
     "data": {
      "text/html": [
       "<div>\n",
       "<style scoped>\n",
       "    .dataframe tbody tr th:only-of-type {\n",
       "        vertical-align: middle;\n",
       "    }\n",
       "\n",
       "    .dataframe tbody tr th {\n",
       "        vertical-align: top;\n",
       "    }\n",
       "\n",
       "    .dataframe thead th {\n",
       "        text-align: right;\n",
       "    }\n",
       "</style>\n",
       "<table border=\"1\" class=\"dataframe\">\n",
       "  <thead>\n",
       "    <tr style=\"text-align: right;\">\n",
       "      <th></th>\n",
       "      <th>Credit_Score</th>\n",
       "    </tr>\n",
       "  </thead>\n",
       "  <tbody>\n",
       "    <tr>\n",
       "      <th>0</th>\n",
       "      <td>0</td>\n",
       "    </tr>\n",
       "    <tr>\n",
       "      <th>1</th>\n",
       "      <td>0</td>\n",
       "    </tr>\n",
       "    <tr>\n",
       "      <th>2</th>\n",
       "      <td>0</td>\n",
       "    </tr>\n",
       "    <tr>\n",
       "      <th>3</th>\n",
       "      <td>0</td>\n",
       "    </tr>\n",
       "    <tr>\n",
       "      <th>4</th>\n",
       "      <td>0</td>\n",
       "    </tr>\n",
       "  </tbody>\n",
       "</table>\n",
       "</div>"
      ],
      "text/plain": [
       "   Credit_Score\n",
       "0             0\n",
       "1             0\n",
       "2             0\n",
       "3             0\n",
       "4             0"
      ]
     },
     "execution_count": 212,
     "metadata": {},
     "output_type": "execute_result"
    }
   ],
   "source": [
    "predict.head()"
   ]
  },
  {
   "cell_type": "code",
   "execution_count": 213,
   "id": "f9c5c842",
   "metadata": {},
   "outputs": [
    {
     "data": {
      "text/plain": [
       "1    14045\n",
       "0     5784\n",
       "2     5014\n",
       "Name: Credit_Score, dtype: int64"
      ]
     },
     "execution_count": 213,
     "metadata": {},
     "output_type": "execute_result"
    }
   ],
   "source": [
    "predict['Credit_Score'].value_counts()"
   ]
  },
  {
   "cell_type": "code",
   "execution_count": 216,
   "id": "8eeb4320",
   "metadata": {},
   "outputs": [
    {
     "data": {
      "text/plain": [
       "24843"
      ]
     },
     "execution_count": 216,
     "metadata": {},
     "output_type": "execute_result"
    }
   ],
   "source": [
    "14045+5784+5014"
   ]
  },
  {
   "cell_type": "code",
   "execution_count": null,
   "id": "61512c3e",
   "metadata": {},
   "outputs": [],
   "source": []
  }
 ],
 "metadata": {
  "kernelspec": {
   "display_name": "Python 3 (ipykernel)",
   "language": "python",
   "name": "python3"
  },
  "language_info": {
   "codemirror_mode": {
    "name": "ipython",
    "version": 3
   },
   "file_extension": ".py",
   "mimetype": "text/x-python",
   "name": "python",
   "nbconvert_exporter": "python",
   "pygments_lexer": "ipython3",
   "version": "3.9.12"
  }
 },
 "nbformat": 4,
 "nbformat_minor": 5
}
